{
 "cells": [
  {
   "source": [
    "Book one:\n",
    "\n",
    "Book name: The Game of Rat and Dragon by Paul Myron Anthony Linebarger\n",
    "\n",
    "Lisence: Not Found\n",
    "\n",
    "URL:https://www.gutenberg.org/ebooks/29614\n",
    "\n",
    "Encoding: UTF-8\n",
    "\n",
    "Book two:\n",
    "\n",
    "Book name: Game and Playe of the Chesse by Caxton and Jacobus\n",
    "\n",
    "Lisence: Not Found\n",
    "\n",
    "URL:https://www.gutenberg.org/ebooks/10672\n",
    "\n",
    "Encoding: UTF-8\n"
   ],
   "cell_type": "markdown",
   "metadata": {}
  },
  {
   "source": [
    "Question: The percentage of the usage of single pronouns in the book and the portion of the three pronouns"
   ],
   "cell_type": "markdown",
   "metadata": {}
  },
  {
   "cell_type": "code",
   "execution_count": 17,
   "metadata": {
    "tags": []
   },
   "outputs": [
    {
     "output_type": "stream",
     "name": "stdout",
     "text": [
      "Total number of pronoun \"he\" appears in the book : 1032\nTotal number of pronoun \"she\" appears in the book : 113\nTotal number of pronoun \"it\" appears in the book : 137\n \nThe percentage of pronoun \"he\" in the whole book is: 0.28%\nThe percentage of pronoun \"she\" in the whole book is: 0.03%\nTotal number of pronoun \"it\" appears in the book is:0.04%\n\nThe portion between three pronouns is: 0.80:0.09:0.11\n"
     ]
    }
   ],
   "source": [
    "with open('data/Game_and_Play_of_the_Chesse.txt', \"r\") as file_object:\n",
    "    data_1 = file_object.read()\n",
    "\n",
    "book_1 = {\"he\":0, \"she\":0, \"it\":0}\n",
    "for a in range(1,len(data_1)-2):\n",
    "    if data_1[a] == 'h' and data_1[a+1] == 'e' and data_1[a-1].isalpha() == False and data_1[a+2].isalpha() == False:\n",
    "        book_1[\"he\"] += 1\n",
    "\n",
    "for a in range(1,len(data_1)-2):\n",
    "    if data_1[a] == 'i' and data_1[a+1] == 't' and data_1[a-1].isalpha() == False and data_1[a+2].isalpha() == False:\n",
    "        book_1[\"it\"] += 1\n",
    "\n",
    "for a in range(1,len(data_1)-3):\n",
    "    if data_1[a] == 's' and data_1[a+1] == 'h' and data_1[a+2] == 'e' and data_1[a-1].isalpha() == False and data_1[a+3].isalpha() == False:\n",
    "        book_1[\"she\"] += 1\n",
    "\n",
    "print(\"Total number of pronoun \\\"he\\\" appears in the book :\",book_1[\"he\"])\n",
    "print(\"Total number of pronoun \\\"she\\\" appears in the book :\", book_1[\"she\"])\n",
    "print(\"Total number of pronoun \\\"it\\\" appears in the book :\",book_1[\"it\"])\n",
    "book_1[\"total\"] = book_1[\"it\"]+ book_1[\"he\"]+ book_1[\"she\"]\n",
    "print(\" \")\n",
    "print(\"The percentage of pronoun \\\"he\\\" in the whole book is: \",format(book_1[\"he\"]/len(data_1)*100,'.2f'),\"%\",sep = \"\")\n",
    "print(\"The percentage of pronoun \\\"she\\\" in the whole book is: \",format(book_1[\"she\"]/len(data_1)*100,'.2f'),\"%\",sep = \"\")\n",
    "print(\"Total number of pronoun \\\"it\\\" appears in the book is:\",format(book_1[\"it\"]/len(data_1)*100,'.2f'),\"%\",sep = \"\")\n",
    "total_count = book_1[\"it\"]+ book_1[\"he\"]+ book_1[\"she\"]\n",
    "print(\"\")\n",
    "print(\"The portion between three pronouns is: \", format(book_1['he']/book_1['total'],'.2f'),\":\", format(book_1['she']/book_1['total'],'.2f'),\":\",format(book_1['it']/book_1['total'],'.2f'),sep = \"\")"
   ]
  },
  {
   "cell_type": "code",
   "execution_count": 12,
   "metadata": {},
   "outputs": [
    {
     "output_type": "stream",
     "name": "stdout",
     "text": [
      "Total number of pronoun \"he\" appears in the book : 81\nTotal number of pronoun \"she\" appears in the book : 26\nTotal number of pronoun \"it\" appears in the book : 49\n \nThe percentage of pronoun \"he\" in the whole book is: 0.16%\nThe percentage of pronoun \"she\" in the whole book is: 0.05%\nThe percentage of pronoun \"it\" in the whole book is: 0.09%\n\nThe portion between three pronouns is: 0.52:0.17:0.31\n"
     ]
    }
   ],
   "source": [
    "with open('data/The_Game_of_Rat_and_Dragon.txt', \"r\") as file_object:\n",
    "    data_2 = file_object.read()\n",
    "\n",
    "book_2 = {\"he\":0, \"she\":0, \"it\":0}\n",
    "for a in range(1,len(data_2)-2):\n",
    "    if data_2[a] == 'h' and data_2[a+1] == 'e' and data_2[a-1].isalpha() == False and data_2[a+2].isalpha() == False:\n",
    "        book_2[\"he\"] += 1\n",
    "\n",
    "for a in range(1,len(data_2)-2):\n",
    "    if data_2[a] == 'i' and data_2[a+1] == 't' and data_2[a-1].isalpha() == False and data_2[a+2].isalpha() == False:\n",
    "        book_2[\"it\"] += 1\n",
    "\n",
    "for a in range(1,len(data_2)-3):\n",
    "    if data_2[a] == 's' and data_2[a+1] == 'h' and data_2[a+2] == 'e' and data_2[a-1].isalpha() == False and data_2[a+3].isalpha() == False:\n",
    "        book_2[\"she\"] += 1\n",
    "\n",
    "print(\"Total number of pronoun \\\"he\\\" appears in the book :\",book_2[\"he\"])\n",
    "print(\"Total number of pronoun \\\"she\\\" appears in the book :\", book_2[\"she\"])\n",
    "print(\"Total number of pronoun \\\"it\\\" appears in the book :\",book_2[\"it\"])\n",
    "book_2[\"total\"] = book_2[\"it\"]+ book_2[\"he\"]+ book_2[\"she\"]\n",
    "print(\" \")\n",
    "print(\"The percentage of pronoun \\\"he\\\" in the whole book is: \",format(book_2[\"he\"]/len(data_2)*100,'.2f'),\"%\",sep = \"\")\n",
    "print(\"The percentage of pronoun \\\"she\\\" in the whole book is: \",format(book_2[\"she\"]/len(data_2)*100,'.2f'),\"%\",sep = \"\")\n",
    "print(\"The percentage of pronoun \\\"it\\\" in the whole book is: \",format(book_2[\"it\"]/len(data_2)*100,'.2f'),\"%\",sep = \"\")\n",
    "print(\"\")\n",
    "print(\"The portion between three pronouns is: \", format(book_2['he']/book_2['total'],'.2f'),\":\", format(book_2['she']/book_2['total'],'.2f'),\":\",format(book_2['it']/book_2['total'],'.2f'),sep = \"\")"
   ]
  },
  {
   "source": [
    "As a result, we found that it is a very intersting thing that though we can find that though both two books rarely uses pronouns based on the fact that the precentage of usage of these pronouns are only about 0.2%, which can even be small enough to be considered as outlier. However, it is very interesting that the portion of the pronouns can be varied. In first book we found that \"he\" takes up 80 percent of the total numbers of pronouns. But in second book, \"he\" only takes half of the total number. What's more, we found that in second book, pronoun \"it\" takes much more portion than the first book. I guess this is because the second book focus more on rats and dragons, which will increase the usage of \"it\"."
   ],
   "cell_type": "markdown",
   "metadata": {}
  }
 ],
 "metadata": {
  "kernelspec": {
   "name": "python3",
   "display_name": "Python 3",
   "language": "python"
  },
  "language_info": {
   "codemirror_mode": {
    "name": "ipython",
    "version": 3
   },
   "file_extension": ".py",
   "mimetype": "text/x-python",
   "name": "python",
   "nbconvert_exporter": "python",
   "pygments_lexer": "ipython3",
   "version": "3.8.5-final"
  }
 },
 "nbformat": 4,
 "nbformat_minor": 4
}