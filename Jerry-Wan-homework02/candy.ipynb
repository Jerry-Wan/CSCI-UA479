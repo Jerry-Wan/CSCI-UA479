{
 "cells": [
  {
   "cell_type": "code",
   "execution_count": 41,
   "metadata": {},
   "outputs": [],
   "source": [
    "# Table of Contents\n",
    "\n",
    "#* [first lambda](#first-lambda)\n",
    "#* [second lambda](#second-lambda)"
   ]
  },
  {
   "cell_type": "code",
   "execution_count": 42,
   "metadata": {},
   "outputs": [],
   "source": [
    "import tabletools as tt"
   ]
  },
  {
   "cell_type": "code",
   "execution_count": 43,
   "metadata": {},
   "outputs": [],
   "source": [
    "data = tt.read_csv(\"candy-data.csv\")"
   ]
  },
  {
   "cell_type": "code",
   "execution_count": 44,
   "metadata": {},
   "outputs": [
    {
     "output_type": "stream",
     "name": "stdout",
     "text": [
      "                  competitorname      chocolate         fruity        caramel peanutyalmondy         nougatcrispedricewafer           hard            bar       pluribus   sugarpercent   pricepercent     winpercent\n81                      Warheads            0.0            1.0            0.0            0.0            0.0            0.0            1.0            0.0            0.0    0.093000002          0.116      39.011898\n82         WelchÃ•s Fruit Snacks            0.0            1.0            0.0            0.0            0.0            0.0            0.0            0.0            1.0     0.31299999     0.31299999      44.375519\n83   WertherÃ•s Original Caramel            0.0            0.0            1.0            0.0            0.0            0.0            1.0            0.0            0.0          0.186     0.26699999      41.904308\n84                      Whoppers            1.0            0.0            0.0            0.0            0.0            1.0            0.0            0.0            1.0     0.87199998     0.84799999      49.524113\n"
     ]
    }
   ],
   "source": [
    "data.tail(4)"
   ]
  },
  {
   "cell_type": "code",
   "execution_count": 45,
   "metadata": {},
   "outputs": [
    {
     "output_type": "stream",
     "name": "stdout",
     "text": [
      "                  competitorname      chocolate peanutyalmondy     winpercent\n 0                     100 Grand            1.0            0.0      66.971725\n 1                  3 Musketeers            1.0            0.0      67.602936\n 2                      One dime            0.0            0.0      32.261086\n 3                   One quarter            0.0            0.0      46.116505\n 4                     Air Heads            0.0            0.0      52.341465\n 5                    Almond Joy            1.0            1.0      50.347546\n 6                     Baby Ruth            1.0            1.0      56.914547\n 7            Boston Baked Beans            0.0            1.0      23.417824\n 8                    Candy Corn            0.0            0.0      38.010963\n 9            Caramel Apple Pops            0.0            0.0      34.517681\n10               Charleston Chew            1.0            0.0      38.975037\n11    Chewey Lemonhead Fruit Mix            0.0            0.0      36.017628\n12                      Chiclets            0.0            0.0      24.524988\n13                          Dots            0.0            0.0      42.272076\n14                      Dum Dums            0.0            0.0      39.460556\n15                   Fruit Chews            0.0            0.0      43.088924\n16                       Fun Dip            0.0            0.0      39.185505\n17                    Gobstopper            0.0            0.0      46.783348\n18             Haribo Gold Bears            0.0            0.0       57.11974\n19             Haribo Happy Cola            0.0            0.0      34.158958\n20             Haribo Sour Bears            0.0            0.0       51.41243\n21            Haribo Twin Snakes            0.0            0.0      42.178772\n22             HersheyÃ•s Kisses            1.0            0.0      55.375454\n23            HersheyÃ•s Krackel            1.0            0.0      62.284481\n24     HersheyÃ•s Milk Chocolate            1.0            0.0      56.490501\n25       HersheyÃ•s Special Dark            1.0            0.0      59.236122\n26                    Jawbusters            0.0            0.0      28.127439\n27                  Junior Mints            1.0            0.0       57.21925\n28                       Kit Kat            1.0            0.0        76.7686\n29                   Laffy Taffy            0.0            0.0      41.389557\n30                     Lemonhead            0.0            0.0      39.141056\n31   Lifesavers big ring gummies            0.0            0.0      52.911392\n32          Peanut butter M&MÃ•s            1.0            1.0       71.46505\n33                        M&MÃ•s            1.0            0.0      66.574585\n34                    Mike & Ike            0.0            0.0      46.411716\n35                     Milk Duds            1.0            0.0      55.064072\n36                     Milky Way            1.0            0.0      73.099556\n37            Milky Way Midnight            1.0            0.0      60.800701\n38      Milky Way Simply Caramel            1.0            0.0       64.35334\n39                        Mounds            1.0            0.0      47.829754\n40                   Mr Good Bar            1.0            1.0      54.526451\n41                         Nerds            0.0            0.0      55.354046\n42           Nestle Butterfinger            1.0            1.0      70.735641\n43                 Nestle Crunch            1.0            0.0       66.47068\n44                     Nik L Nip            0.0            0.0      22.445341\n45                   Now & Later            0.0            0.0        39.4468\n46                        Payday            0.0            1.0      46.296597\n47                   Peanut M&Ms            1.0            1.0      69.483788\n48                  Pixie Sticks            0.0            0.0      37.722336\n49                     Pop Rocks            0.0            0.0      41.265511\n50                     Red vines            0.0            0.0      37.348522\n51           ReeseÃ•s Miniatures            1.0            1.0      81.866257\n52    ReeseÃ•s Peanut Butter cup            1.0            1.0       84.18029\n53               ReeseÃ•s pieces            1.0            1.0       73.43499\n54  ReeseÃ•s stuffed with pieces            1.0            1.0      72.887901\n55                      Ring pop            0.0            0.0      35.290756\n56                          Rolo            1.0            0.0      65.716286\n57             Root Beer Barrels            0.0            0.0      29.703691\n58                         Runts            0.0            0.0      42.849144\n59                       Sixlets            1.0            0.0         34.722\n60             Skittles original            0.0            0.0       63.08514\n61            Skittles wildberry            0.0            0.0      55.103695\n62               Nestle Smarties            1.0            0.0      37.887188\n63                Smarties candy            0.0            0.0      45.995827\n64                      Snickers            1.0            1.0      76.673782\n65              Snickers Crisper            1.0            1.0      59.529251\n66               Sour Patch Kids            0.0            0.0      59.863998\n67         Sour Patch Tricksters            0.0            0.0      52.825947\n68                     Starburst            0.0            0.0      67.037628\n69           Strawberry bon bons            0.0            0.0      34.578991\n70                  Sugar Babies            0.0            0.0       33.43755\n71                   Sugar Daddy            0.0            0.0      32.230995\n72                  Super Bubble            0.0            0.0      27.303865\n73                  Swedish Fish            0.0            0.0      54.861111\n74                   Tootsie Pop            1.0            0.0      48.982651\n75          Tootsie Roll Juniors            1.0            0.0      43.068897\n76          Tootsie Roll Midgies            1.0            0.0      45.736748\n77       Tootsie Roll Snack Bars            1.0            0.0      49.653503\n78             Trolli Sour Bites            0.0            0.0      47.173229\n79                          Twix            1.0            0.0      81.642914\n80                     Twizzlers            0.0            0.0      45.466282\n81                      Warheads            0.0            0.0      39.011898\n82         WelchÃ•s Fruit Snacks            0.0            0.0      44.375519\n83   WertherÃ•s Original Caramel            0.0            0.0      41.904308\n84                      Whoppers            1.0            0.0      49.524113"
     ]
    },
    {
     "output_type": "execute_result",
     "data": {
      "text/plain": []
     },
     "metadata": {},
     "execution_count": 45
    }
   ],
   "source": [
    "newData = data[['competitorname','chocolate','peanutyalmondy','winpercent']]\n",
    "newData"
   ]
  },
  {
   "cell_type": "code",
   "execution_count": 46,
   "metadata": {},
   "outputs": [
    {
     "output_type": "error",
     "ename": "IndexError",
     "evalue": "list index out of range",
     "traceback": [
      "\u001b[1;31m---------------------------------------------------------------------------\u001b[0m",
      "\u001b[1;31mIndexError\u001b[0m                                Traceback (most recent call last)",
      "\u001b[1;32m<ipython-input-46-154dcb6ca3f7>\u001b[0m in \u001b[0;36m<module>\u001b[1;34m\u001b[0m\n\u001b[0;32m      4\u001b[0m \u001b[1;31m#print(type(cocoResult.values[0]))\u001b[0m\u001b[1;33m\u001b[0m\u001b[1;33m\u001b[0m\u001b[1;33m\u001b[0m\u001b[0m\n\u001b[0;32m      5\u001b[0m \u001b[1;31m#print(cocoResult.values[2] == True)\u001b[0m\u001b[1;33m\u001b[0m\u001b[1;33m\u001b[0m\u001b[1;33m\u001b[0m\u001b[0m\n\u001b[1;32m----> 6\u001b[1;33m \u001b[0mfilterAfterCoco\u001b[0m \u001b[1;33m=\u001b[0m \u001b[0mnewData\u001b[0m\u001b[1;33m[\u001b[0m\u001b[0mcocoResult\u001b[0m\u001b[1;33m.\u001b[0m\u001b[0mvalues\u001b[0m\u001b[1;33m]\u001b[0m\u001b[1;33m\u001b[0m\u001b[1;33m\u001b[0m\u001b[0m\n\u001b[0m\u001b[0;32m      7\u001b[0m \u001b[0mfilterAfterCoco\u001b[0m\u001b[1;33m\u001b[0m\u001b[1;33m\u001b[0m\u001b[0m\n\u001b[0;32m      8\u001b[0m \u001b[0mpeanutResult\u001b[0m \u001b[1;33m=\u001b[0m \u001b[0mfilterAfterCoco\u001b[0m\u001b[1;33m[\u001b[0m\u001b[1;34m'peanutyalmondy'\u001b[0m\u001b[1;33m]\u001b[0m\u001b[1;33m>\u001b[0m\u001b[1;36m0\u001b[0m\u001b[1;33m\u001b[0m\u001b[1;33m\u001b[0m\u001b[0m\n",
      "\u001b[1;32mc:\\Users\\Yizhou Wan\\Documents\\GitHub\\Jerry-Wan-homework02\\tabletools.py\u001b[0m in \u001b[0;36m__getitem__\u001b[1;34m(self, col_list)\u001b[0m\n\u001b[0;32m    130\u001b[0m                 \u001b[0mdatas\u001b[0m \u001b[1;33m=\u001b[0m \u001b[1;33m[\u001b[0m\u001b[1;33m]\u001b[0m\u001b[1;33m\u001b[0m\u001b[1;33m\u001b[0m\u001b[0m\n\u001b[0;32m    131\u001b[0m                 \u001b[1;32mfor\u001b[0m \u001b[0mb\u001b[0m \u001b[1;32min\u001b[0m \u001b[0mrange\u001b[0m\u001b[1;33m(\u001b[0m\u001b[0mlen\u001b[0m\u001b[1;33m(\u001b[0m\u001b[0mcol_list\u001b[0m\u001b[1;33m)\u001b[0m\u001b[1;33m)\u001b[0m\u001b[1;33m:\u001b[0m\u001b[1;33m\u001b[0m\u001b[1;33m\u001b[0m\u001b[0m\n\u001b[1;32m--> 132\u001b[1;33m                     \u001b[1;32mif\u001b[0m \u001b[0mcol_list\u001b[0m\u001b[1;33m[\u001b[0m\u001b[0mb\u001b[0m\u001b[1;33m]\u001b[0m \u001b[1;33m==\u001b[0m \u001b[1;32mTrue\u001b[0m\u001b[1;33m:\u001b[0m\u001b[1;33m\u001b[0m\u001b[1;33m\u001b[0m\u001b[0m\n\u001b[0m\u001b[0;32m    133\u001b[0m                        \u001b[0mdatas\u001b[0m\u001b[1;33m.\u001b[0m\u001b[0mappend\u001b[0m\u001b[1;33m(\u001b[0m\u001b[0mself\u001b[0m\u001b[1;33m.\u001b[0m\u001b[0mvalues\u001b[0m\u001b[1;33m[\u001b[0m\u001b[0mb\u001b[0m\u001b[1;33m]\u001b[0m\u001b[1;33m)\u001b[0m\u001b[1;33m\u001b[0m\u001b[1;33m\u001b[0m\u001b[0m\n\u001b[0;32m    134\u001b[0m                 \u001b[0mresult\u001b[0m \u001b[1;33m=\u001b[0m \u001b[0mTable\u001b[0m\u001b[1;33m(\u001b[0m\u001b[0mdatas\u001b[0m\u001b[1;33m,\u001b[0m\u001b[0mnewIndex\u001b[0m\u001b[1;33m,\u001b[0m\u001b[0mself\u001b[0m\u001b[1;33m.\u001b[0m\u001b[0mcolumns\u001b[0m\u001b[1;33m)\u001b[0m\u001b[1;33m\u001b[0m\u001b[1;33m\u001b[0m\u001b[0m\n",
      "\u001b[1;31mIndexError\u001b[0m: list index out of range"
     ]
    }
   ],
   "source": [
    "#chocolate and almond-peanut candies that have win percentage < than 50\n",
    "cocoResult = newData['chocolate']>0\n",
    "#print(cocoResult)\n",
    "#print(type(cocoResult.values[0]))\n",
    "#print(cocoResult.values[2] == True)\n",
    "filterAfterCoco = newData[cocoResult.values]\n",
    "filterAfterCoco\n",
    "peanutResult = filterAfterCoco['peanutyalmondy']>0\n",
    "filterAfterPeanut = filterAfterCoco[peanutResult]\n",
    "winReault = filterAfterPeanut[winpercent] > 50\n",
    "filterAfterWin = filterAfterPeanut[winReault]\n",
    "filterAfterWin"
   ]
  },
  {
   "cell_type": "code",
   "execution_count": 32,
   "metadata": {},
   "outputs": [
    {
     "output_type": "error",
     "ename": "TypeError",
     "evalue": "'>' not supported between instances of 'NoneType' and 'int'",
     "traceback": [
      "\u001b[1;31m---------------------------------------------------------------------------\u001b[0m",
      "\u001b[1;31mTypeError\u001b[0m                                 Traceback (most recent call last)",
      "\u001b[1;32m<ipython-input-32-252662a251c6>\u001b[0m in \u001b[0;36m<module>\u001b[1;34m\u001b[0m\n\u001b[0;32m      3\u001b[0m \u001b[0mfunc1\u001b[0m \u001b[1;33m=\u001b[0m \u001b[1;32mlambda\u001b[0m \u001b[0mx\u001b[0m\u001b[1;33m:\u001b[0m \u001b[0mnewData\u001b[0m\u001b[1;33m[\u001b[0m\u001b[1;34m'chocolate'\u001b[0m\u001b[1;33m]\u001b[0m\u001b[1;33m>\u001b[0m\u001b[0mx\u001b[0m\u001b[1;33m\u001b[0m\u001b[1;33m\u001b[0m\u001b[0m\n\u001b[0;32m      4\u001b[0m \u001b[0mcocoResult\u001b[0m \u001b[1;33m=\u001b[0m \u001b[0mfunc1\u001b[0m\u001b[1;33m(\u001b[0m\u001b[1;36m0\u001b[0m\u001b[1;33m)\u001b[0m\u001b[1;33m\u001b[0m\u001b[1;33m\u001b[0m\u001b[0m\n\u001b[1;32m----> 5\u001b[1;33m \u001b[0mpeanutResult\u001b[0m \u001b[1;33m=\u001b[0m \u001b[0mcocoResult\u001b[0m\u001b[1;33m[\u001b[0m\u001b[1;34m'peanutyalmondy'\u001b[0m\u001b[1;33m]\u001b[0m\u001b[1;33m>\u001b[0m\u001b[1;36m0\u001b[0m\u001b[1;33m\u001b[0m\u001b[1;33m\u001b[0m\u001b[0m\n\u001b[0m\u001b[0;32m      6\u001b[0m \u001b[0mfilterAfterPeanut\u001b[0m \u001b[1;33m=\u001b[0m \u001b[0mfilterAfterCoco\u001b[0m\u001b[1;33m[\u001b[0m\u001b[0mpeanutResult\u001b[0m\u001b[1;33m]\u001b[0m\u001b[1;33m\u001b[0m\u001b[1;33m\u001b[0m\u001b[0m\n\u001b[0;32m      7\u001b[0m \u001b[0mnameResult\u001b[0m \u001b[1;33m=\u001b[0m \u001b[0mfilterAfterPeanut\u001b[0m\u001b[1;33m.\u001b[0m\u001b[0mstartwith\u001b[0m\u001b[1;33m(\u001b[0m\u001b[1;34m\"Reese\"\u001b[0m\u001b[1;33m)\u001b[0m\u001b[1;33m\u001b[0m\u001b[1;33m\u001b[0m\u001b[0m\n",
      "\u001b[1;31mTypeError\u001b[0m: '>' not supported between instances of 'NoneType' and 'int'"
     ]
    }
   ],
   "source": [
    "#chocolate and almond-peanut candies with a name that starts with \"Reese\"\n",
    "#first lambda\n",
    "func1 = lambda x: newData['chocolate']>x\n",
    "cocoResult = func1(0)\n",
    "peanutResult = cocoResult['peanutyalmondy']>0\n",
    "filterAfterPeanut = filterAfterCoco[peanutResult]\n",
    "nameResult = filterAfterPeanut.startwith(\"Reese\")\n",
    "filterAfterName = filterAfterPeanut[nameResult]\n",
    "filterAfterName"
   ]
  },
  {
   "cell_type": "code",
   "execution_count": 34,
   "metadata": {},
   "outputs": [
    {
     "output_type": "error",
     "ename": "TypeError",
     "evalue": "'>' not supported between instances of 'NoneType' and 'int'",
     "traceback": [
      "\u001b[1;31m---------------------------------------------------------------------------\u001b[0m",
      "\u001b[1;31mTypeError\u001b[0m                                 Traceback (most recent call last)",
      "\u001b[1;32m<ipython-input-34-a87ae645cabe>\u001b[0m in \u001b[0;36m<module>\u001b[1;34m\u001b[0m\n\u001b[0;32m      1\u001b[0m \u001b[1;31m#chocolate and almond-peanut candies with a name less than 10 characters long\u001b[0m\u001b[1;33m\u001b[0m\u001b[1;33m\u001b[0m\u001b[1;33m\u001b[0m\u001b[0m\n\u001b[0;32m      2\u001b[0m \u001b[0mfiltAfterCoco\u001b[0m \u001b[1;33m=\u001b[0m \u001b[0mfunc1\u001b[0m\u001b[1;33m(\u001b[0m\u001b[1;36m0\u001b[0m\u001b[1;33m)\u001b[0m\u001b[1;33m\u001b[0m\u001b[1;33m\u001b[0m\u001b[0m\n\u001b[1;32m----> 3\u001b[1;33m \u001b[0mpeanutResult\u001b[0m \u001b[1;33m=\u001b[0m \u001b[0mfiltAfterCoco\u001b[0m\u001b[1;33m[\u001b[0m\u001b[1;34m'peanutyalmondy'\u001b[0m\u001b[1;33m]\u001b[0m\u001b[1;33m>\u001b[0m\u001b[1;36m0\u001b[0m\u001b[1;33m\u001b[0m\u001b[1;33m\u001b[0m\u001b[0m\n\u001b[0m\u001b[0;32m      4\u001b[0m \u001b[0mfilterAfterPeanut\u001b[0m \u001b[1;33m=\u001b[0m \u001b[0mfilterAfterCoco\u001b[0m\u001b[1;33m[\u001b[0m\u001b[0mpeanutResult\u001b[0m\u001b[1;33m]\u001b[0m\u001b[1;33m\u001b[0m\u001b[1;33m\u001b[0m\u001b[0m\n\u001b[0;32m      5\u001b[0m \u001b[1;31m#second lambda\u001b[0m\u001b[1;33m\u001b[0m\u001b[1;33m\u001b[0m\u001b[1;33m\u001b[0m\u001b[0m\n",
      "\u001b[1;31mTypeError\u001b[0m: '>' not supported between instances of 'NoneType' and 'int'"
     ]
    }
   ],
   "source": [
    "#chocolate and almond-peanut candies with a name less than 10 characters long\n",
    "filtAfterCoco = func1(0)\n",
    "peanutResult = filtAfterCoco['peanutyalmondy']>0\n",
    "filterAfterPeanut = filterAfterCoco[peanutResult]\n",
    "#second lambda\n",
    "func2 = lambda x: filterAfterPeanut.comlan(x)\n",
    "finalresult = func2(10)\n",
    "finalresult"
   ]
  },
  {
   "cell_type": "code",
   "execution_count": null,
   "metadata": {},
   "outputs": [],
   "source": []
  }
 ],
 "metadata": {
  "kernelspec": {
   "name": "python3",
   "display_name": "Python 3.8.5 64-bit (conda)",
   "metadata": {
    "interpreter": {
     "hash": "ed225720166559e7176d3793db16a2fd8d295f725007103b21ac3099d2a89ee8"
    }
   }
  }
 },
 "nbformat": 4,
 "nbformat_minor": 2
}