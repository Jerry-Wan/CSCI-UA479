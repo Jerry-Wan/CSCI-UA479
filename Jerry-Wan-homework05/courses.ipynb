{
 "cells": [
  {
   "cell_type": "code",
   "execution_count": 31,
   "metadata": {},
   "outputs": [],
   "source": [
    "from bs4 import BeautifulSoup\n",
    "import json\n",
    "import re\n",
    "import pandas as pd\n",
    "import requests\n",
    "import urllib.request as request\n",
    "\n",
    "#pd.set_option('display.max_rows', 200)"
   ]
  },
  {
   "cell_type": "code",
   "execution_count": 32,
   "metadata": {
    "tags": []
   },
   "outputs": [],
   "source": [
    "with request.urlopen('https://cs.nyu.edu/dynamic/courses/schedule/?semester=spring_2021') as response:\n",
    " res = response.read()"
   ]
  },
  {
   "cell_type": "code",
   "execution_count": 33,
   "metadata": {},
   "outputs": [],
   "source": [
    "dom = BeautifulSoup(res)"
   ]
  },
  {
   "cell_type": "code",
   "execution_count": 34,
   "metadata": {},
   "outputs": [],
   "source": [
    "info = dom.select('.col-xs-12.col-sm-2')"
   ]
  },
  {
   "cell_type": "code",
   "execution_count": 35,
   "metadata": {
    "tags": []
   },
   "outputs": [],
   "source": [
    "instructor = []\n",
    "time = []\n",
    "where = []\n",
    "\n",
    "for a in range(len(info)):\n",
    "    if a%3 == 0:\n",
    "        instructor.append(info[a].getText(\"|\", strip=True))\n",
    "    elif a%3 == 1:\n",
    "        time.append(info[a].getText(\"|\", strip=True))\n",
    "    else:\n",
    "        where.append(info[a].getText(\"|\", strip=True))"
   ]
  },
  {
   "cell_type": "code",
   "execution_count": 36,
   "metadata": {},
   "outputs": [],
   "source": [
    "infoName = dom.select('.col-xs-12.col-sm-3')"
   ]
  },
  {
   "cell_type": "code",
   "execution_count": 37,
   "metadata": {},
   "outputs": [],
   "source": [
    "course = []\n",
    "section = []\n",
    "for a in range(len(infoName)):\n",
    "    if a%2 == 1:\n",
    "        course.append(infoName[a].getText(\"|\", strip=True))\n",
    "    else:\n",
    "        section.append(infoName[a].getText(\"|\", strip=True))"
   ]
  },
  {
   "cell_type": "code",
   "execution_count": 38,
   "metadata": {},
   "outputs": [],
   "source": [
    "className = []\n",
    "for a in section:\n",
    "    hyphencount = 0\n",
    "    result = \"\"\n",
    "    for b in range(len(a)):\n",
    "        \n",
    "        if a[b] == '-':\n",
    "            hyphencount +=1\n",
    "        if hyphencount <2:\n",
    "            result += a[b]\n",
    "    className.append(result)\n",
    "\n",
    "FinalSection = []\n",
    "for a in section:\n",
    "    hyphencount = 0\n",
    "    result = \"\"\n",
    "    for b in range(len(a)):\n",
    "        if a[b] == '|':\n",
    "            hyphencount +=1\n",
    "        if hyphencount <1:\n",
    "            result += a[b]\n",
    "    FinalSection.append(result)\n"
   ]
  },
  {
   "cell_type": "code",
   "execution_count": 39,
   "metadata": {},
   "outputs": [],
   "source": [
    "infoList = {'Number-Section':FinalSection,'Name':course,'Instructor':instructor,'Time':time,\"Number\":className}\n",
    "\n",
    "results = pd.DataFrame(infoList,columns=infoList.keys())"
   ]
  },
  {
   "cell_type": "code",
   "execution_count": 40,
   "metadata": {},
   "outputs": [
    {
     "output_type": "execute_result",
     "data": {
      "text/plain": [
       "        Number-Section                                               Name  \\\n",
       "0    CSCI-GA.1144-​001                                            PAC II*   \n",
       "1    CSCI-GA.1144-​002                                  PAC II Recitation   \n",
       "2    CSCI-GA.1170-​001                             Fundamental Algorithms   \n",
       "3    CSCI-GA.1170-​002                  Fundamental Algorithms Recitation   \n",
       "4    CSCI-GA.1170-​003                  Fundamental Algorithms Recitation   \n",
       "..                 ...                                                ...   \n",
       "147  CSCI-UA.0480-​057        Special Topics: Natural Language Processing   \n",
       "148  CSCI-UA.0480-​069  Special Topics: Agile Software Development and...   \n",
       "149  CSCI-UA.0480-​521        Special Topics: Algorithmic Problem Solving   \n",
       "150  CSCI-UA.0480-​522        Special Topics: Algorithmic Problem Solving   \n",
       "151  CSCI-UA.0480-​523        Special Topics: Algorithmic Problem Solving   \n",
       "\n",
       "                                     Instructor              Time  \\\n",
       "0                   Mohamed Zahran|Office Hours     T 6:00-8:30PM   \n",
       "1                          Gurkirat Singh Bajwa     R 7:10-8:00PM   \n",
       "2                                Yevgeniy Dodis     T 7:10-9:00PM   \n",
       "3    Alex Bienstock|Charles Peyser|Fengyuan Liu     R 8:10-9:00PM   \n",
       "4                            Harish Karthikeyan     R 8:10-9:00PM   \n",
       "..                                          ...               ...   \n",
       "147                    Adam Meyers|Office Hours   TR 9:30-10:45AM   \n",
       "148                              Amos Bloomberg    MW 3:30-4:45PM   \n",
       "149                            Joanna Klukowska  MW 11:00-12:15PM   \n",
       "150                                Kunal Khatri     W 3:30-4:45PM   \n",
       "151                              Samasth Ananda     W 3:30-4:45PM   \n",
       "\n",
       "           Number  \n",
       "0    CSCI-GA.1144  \n",
       "1    CSCI-GA.1144  \n",
       "2    CSCI-GA.1170  \n",
       "3    CSCI-GA.1170  \n",
       "4    CSCI-GA.1170  \n",
       "..            ...  \n",
       "147  CSCI-UA.0480  \n",
       "148  CSCI-UA.0480  \n",
       "149  CSCI-UA.0480  \n",
       "150  CSCI-UA.0480  \n",
       "151  CSCI-UA.0480  \n",
       "\n",
       "[152 rows x 5 columns]"
      ],
      "text/html": "<div>\n<style scoped>\n    .dataframe tbody tr th:only-of-type {\n        vertical-align: middle;\n    }\n\n    .dataframe tbody tr th {\n        vertical-align: top;\n    }\n\n    .dataframe thead th {\n        text-align: right;\n    }\n</style>\n<table border=\"1\" class=\"dataframe\">\n  <thead>\n    <tr style=\"text-align: right;\">\n      <th></th>\n      <th>Number-Section</th>\n      <th>Name</th>\n      <th>Instructor</th>\n      <th>Time</th>\n      <th>Number</th>\n    </tr>\n  </thead>\n  <tbody>\n    <tr>\n      <th>0</th>\n      <td>CSCI-GA.1144-​001</td>\n      <td>PAC II*</td>\n      <td>Mohamed Zahran|Office Hours</td>\n      <td>T 6:00-8:30PM</td>\n      <td>CSCI-GA.1144</td>\n    </tr>\n    <tr>\n      <th>1</th>\n      <td>CSCI-GA.1144-​002</td>\n      <td>PAC II Recitation</td>\n      <td>Gurkirat Singh Bajwa</td>\n      <td>R 7:10-8:00PM</td>\n      <td>CSCI-GA.1144</td>\n    </tr>\n    <tr>\n      <th>2</th>\n      <td>CSCI-GA.1170-​001</td>\n      <td>Fundamental Algorithms</td>\n      <td>Yevgeniy Dodis</td>\n      <td>T 7:10-9:00PM</td>\n      <td>CSCI-GA.1170</td>\n    </tr>\n    <tr>\n      <th>3</th>\n      <td>CSCI-GA.1170-​002</td>\n      <td>Fundamental Algorithms Recitation</td>\n      <td>Alex Bienstock|Charles Peyser|Fengyuan Liu</td>\n      <td>R 8:10-9:00PM</td>\n      <td>CSCI-GA.1170</td>\n    </tr>\n    <tr>\n      <th>4</th>\n      <td>CSCI-GA.1170-​003</td>\n      <td>Fundamental Algorithms Recitation</td>\n      <td>Harish Karthikeyan</td>\n      <td>R 8:10-9:00PM</td>\n      <td>CSCI-GA.1170</td>\n    </tr>\n    <tr>\n      <th>...</th>\n      <td>...</td>\n      <td>...</td>\n      <td>...</td>\n      <td>...</td>\n      <td>...</td>\n    </tr>\n    <tr>\n      <th>147</th>\n      <td>CSCI-UA.0480-​057</td>\n      <td>Special Topics: Natural Language Processing</td>\n      <td>Adam Meyers|Office Hours</td>\n      <td>TR 9:30-10:45AM</td>\n      <td>CSCI-UA.0480</td>\n    </tr>\n    <tr>\n      <th>148</th>\n      <td>CSCI-UA.0480-​069</td>\n      <td>Special Topics: Agile Software Development and...</td>\n      <td>Amos Bloomberg</td>\n      <td>MW 3:30-4:45PM</td>\n      <td>CSCI-UA.0480</td>\n    </tr>\n    <tr>\n      <th>149</th>\n      <td>CSCI-UA.0480-​521</td>\n      <td>Special Topics: Algorithmic Problem Solving</td>\n      <td>Joanna Klukowska</td>\n      <td>MW 11:00-12:15PM</td>\n      <td>CSCI-UA.0480</td>\n    </tr>\n    <tr>\n      <th>150</th>\n      <td>CSCI-UA.0480-​522</td>\n      <td>Special Topics: Algorithmic Problem Solving</td>\n      <td>Kunal Khatri</td>\n      <td>W 3:30-4:45PM</td>\n      <td>CSCI-UA.0480</td>\n    </tr>\n    <tr>\n      <th>151</th>\n      <td>CSCI-UA.0480-​523</td>\n      <td>Special Topics: Algorithmic Problem Solving</td>\n      <td>Samasth Ananda</td>\n      <td>W 3:30-4:45PM</td>\n      <td>CSCI-UA.0480</td>\n    </tr>\n  </tbody>\n</table>\n<p>152 rows × 5 columns</p>\n</div>"
     },
     "metadata": {},
     "execution_count": 40
    }
   ],
   "source": [
    "results"
   ]
  },
  {
   "cell_type": "code",
   "execution_count": 41,
   "metadata": {},
   "outputs": [
    {
     "output_type": "stream",
     "name": "stdout",
     "text": [
      "<class 'pandas.core.frame.DataFrame'>\nRangeIndex: 152 entries, 0 to 151\nData columns (total 5 columns):\n #   Column          Non-Null Count  Dtype \n---  ------          --------------  ----- \n 0   Number-Section  152 non-null    object\n 1   Name            152 non-null    object\n 2   Instructor      152 non-null    object\n 3   Time            152 non-null    object\n 4   Number          152 non-null    object\ndtypes: object(5)\nmemory usage: 6.1+ KB\n"
     ]
    }
   ],
   "source": [
    "results.info()"
   ]
  },
  {
   "cell_type": "code",
   "execution_count": 42,
   "metadata": {},
   "outputs": [
    {
     "output_type": "execute_result",
     "data": {
      "text/plain": [
       "      Number-Section                               Name  \\\n",
       "0  CSCI-GA.1144-​001                            PAC II*   \n",
       "1  CSCI-GA.1144-​002                  PAC II Recitation   \n",
       "2  CSCI-GA.1170-​001             Fundamental Algorithms   \n",
       "3  CSCI-GA.1170-​002  Fundamental Algorithms Recitation   \n",
       "4  CSCI-GA.1170-​003  Fundamental Algorithms Recitation   \n",
       "\n",
       "                                   Instructor           Time        Number  \n",
       "0                 Mohamed Zahran|Office Hours  T 6:00-8:30PM  CSCI-GA.1144  \n",
       "1                        Gurkirat Singh Bajwa  R 7:10-8:00PM  CSCI-GA.1144  \n",
       "2                              Yevgeniy Dodis  T 7:10-9:00PM  CSCI-GA.1170  \n",
       "3  Alex Bienstock|Charles Peyser|Fengyuan Liu  R 8:10-9:00PM  CSCI-GA.1170  \n",
       "4                          Harish Karthikeyan  R 8:10-9:00PM  CSCI-GA.1170  "
      ],
      "text/html": "<div>\n<style scoped>\n    .dataframe tbody tr th:only-of-type {\n        vertical-align: middle;\n    }\n\n    .dataframe tbody tr th {\n        vertical-align: top;\n    }\n\n    .dataframe thead th {\n        text-align: right;\n    }\n</style>\n<table border=\"1\" class=\"dataframe\">\n  <thead>\n    <tr style=\"text-align: right;\">\n      <th></th>\n      <th>Number-Section</th>\n      <th>Name</th>\n      <th>Instructor</th>\n      <th>Time</th>\n      <th>Number</th>\n    </tr>\n  </thead>\n  <tbody>\n    <tr>\n      <th>0</th>\n      <td>CSCI-GA.1144-​001</td>\n      <td>PAC II*</td>\n      <td>Mohamed Zahran|Office Hours</td>\n      <td>T 6:00-8:30PM</td>\n      <td>CSCI-GA.1144</td>\n    </tr>\n    <tr>\n      <th>1</th>\n      <td>CSCI-GA.1144-​002</td>\n      <td>PAC II Recitation</td>\n      <td>Gurkirat Singh Bajwa</td>\n      <td>R 7:10-8:00PM</td>\n      <td>CSCI-GA.1144</td>\n    </tr>\n    <tr>\n      <th>2</th>\n      <td>CSCI-GA.1170-​001</td>\n      <td>Fundamental Algorithms</td>\n      <td>Yevgeniy Dodis</td>\n      <td>T 7:10-9:00PM</td>\n      <td>CSCI-GA.1170</td>\n    </tr>\n    <tr>\n      <th>3</th>\n      <td>CSCI-GA.1170-​002</td>\n      <td>Fundamental Algorithms Recitation</td>\n      <td>Alex Bienstock|Charles Peyser|Fengyuan Liu</td>\n      <td>R 8:10-9:00PM</td>\n      <td>CSCI-GA.1170</td>\n    </tr>\n    <tr>\n      <th>4</th>\n      <td>CSCI-GA.1170-​003</td>\n      <td>Fundamental Algorithms Recitation</td>\n      <td>Harish Karthikeyan</td>\n      <td>R 8:10-9:00PM</td>\n      <td>CSCI-GA.1170</td>\n    </tr>\n  </tbody>\n</table>\n</div>"
     },
     "metadata": {},
     "execution_count": 42
    }
   ],
   "source": [
    "results.head(5)"
   ]
  },
  {
   "cell_type": "code",
   "execution_count": 43,
   "metadata": {},
   "outputs": [
    {
     "output_type": "execute_result",
     "data": {
      "text/plain": [
       "        Number-Section                                               Name  \\\n",
       "147  CSCI-UA.0480-​057        Special Topics: Natural Language Processing   \n",
       "148  CSCI-UA.0480-​069  Special Topics: Agile Software Development and...   \n",
       "149  CSCI-UA.0480-​521        Special Topics: Algorithmic Problem Solving   \n",
       "150  CSCI-UA.0480-​522        Special Topics: Algorithmic Problem Solving   \n",
       "151  CSCI-UA.0480-​523        Special Topics: Algorithmic Problem Solving   \n",
       "\n",
       "                   Instructor              Time        Number  \n",
       "147  Adam Meyers|Office Hours   TR 9:30-10:45AM  CSCI-UA.0480  \n",
       "148            Amos Bloomberg    MW 3:30-4:45PM  CSCI-UA.0480  \n",
       "149          Joanna Klukowska  MW 11:00-12:15PM  CSCI-UA.0480  \n",
       "150              Kunal Khatri     W 3:30-4:45PM  CSCI-UA.0480  \n",
       "151            Samasth Ananda     W 3:30-4:45PM  CSCI-UA.0480  "
      ],
      "text/html": "<div>\n<style scoped>\n    .dataframe tbody tr th:only-of-type {\n        vertical-align: middle;\n    }\n\n    .dataframe tbody tr th {\n        vertical-align: top;\n    }\n\n    .dataframe thead th {\n        text-align: right;\n    }\n</style>\n<table border=\"1\" class=\"dataframe\">\n  <thead>\n    <tr style=\"text-align: right;\">\n      <th></th>\n      <th>Number-Section</th>\n      <th>Name</th>\n      <th>Instructor</th>\n      <th>Time</th>\n      <th>Number</th>\n    </tr>\n  </thead>\n  <tbody>\n    <tr>\n      <th>147</th>\n      <td>CSCI-UA.0480-​057</td>\n      <td>Special Topics: Natural Language Processing</td>\n      <td>Adam Meyers|Office Hours</td>\n      <td>TR 9:30-10:45AM</td>\n      <td>CSCI-UA.0480</td>\n    </tr>\n    <tr>\n      <th>148</th>\n      <td>CSCI-UA.0480-​069</td>\n      <td>Special Topics: Agile Software Development and...</td>\n      <td>Amos Bloomberg</td>\n      <td>MW 3:30-4:45PM</td>\n      <td>CSCI-UA.0480</td>\n    </tr>\n    <tr>\n      <th>149</th>\n      <td>CSCI-UA.0480-​521</td>\n      <td>Special Topics: Algorithmic Problem Solving</td>\n      <td>Joanna Klukowska</td>\n      <td>MW 11:00-12:15PM</td>\n      <td>CSCI-UA.0480</td>\n    </tr>\n    <tr>\n      <th>150</th>\n      <td>CSCI-UA.0480-​522</td>\n      <td>Special Topics: Algorithmic Problem Solving</td>\n      <td>Kunal Khatri</td>\n      <td>W 3:30-4:45PM</td>\n      <td>CSCI-UA.0480</td>\n    </tr>\n    <tr>\n      <th>151</th>\n      <td>CSCI-UA.0480-​523</td>\n      <td>Special Topics: Algorithmic Problem Solving</td>\n      <td>Samasth Ananda</td>\n      <td>W 3:30-4:45PM</td>\n      <td>CSCI-UA.0480</td>\n    </tr>\n  </tbody>\n</table>\n</div>"
     },
     "metadata": {},
     "execution_count": 43
    }
   ],
   "source": [
    "results.tail(5)"
   ]
  },
  {
   "cell_type": "code",
   "execution_count": 44,
   "metadata": {},
   "outputs": [
    {
     "output_type": "execute_result",
     "data": {
      "text/plain": [
       "        Number-Section                                               Name  \\\n",
       "151  CSCI-UA.0480-​523        Special Topics: Algorithmic Problem Solving   \n",
       "13   CSCI-GA.2250-​002                                  Operating Systems   \n",
       "42   CSCI-GA.3033-​078  Special Topics:\\n                             ...   \n",
       "28   CSCI-GA.2820-​002                 DevOps and Agile Methodologies Lab   \n",
       "145  CSCI-UA.0480-​042                    Special Topics: Computer Vision   \n",
       "\n",
       "                       Instructor            Time        Number  \n",
       "151                Samasth Ananda   W 3:30-4:45PM  CSCI-UA.0480  \n",
       "13   Hubertus Franke|Office Hours   M 7:30-9:20AM  CSCI-GA.2250  \n",
       "42    Joseph Bonneau|Office Hours   R 5:10-7:00PM  CSCI-GA.3033  \n",
       "28                   John Rofrano   W 7:10-8:00PM  CSCI-GA.2820  \n",
       "145                   Davi Geiger  TR 3:30-4:45PM  CSCI-UA.0480  "
      ],
      "text/html": "<div>\n<style scoped>\n    .dataframe tbody tr th:only-of-type {\n        vertical-align: middle;\n    }\n\n    .dataframe tbody tr th {\n        vertical-align: top;\n    }\n\n    .dataframe thead th {\n        text-align: right;\n    }\n</style>\n<table border=\"1\" class=\"dataframe\">\n  <thead>\n    <tr style=\"text-align: right;\">\n      <th></th>\n      <th>Number-Section</th>\n      <th>Name</th>\n      <th>Instructor</th>\n      <th>Time</th>\n      <th>Number</th>\n    </tr>\n  </thead>\n  <tbody>\n    <tr>\n      <th>151</th>\n      <td>CSCI-UA.0480-​523</td>\n      <td>Special Topics: Algorithmic Problem Solving</td>\n      <td>Samasth Ananda</td>\n      <td>W 3:30-4:45PM</td>\n      <td>CSCI-UA.0480</td>\n    </tr>\n    <tr>\n      <th>13</th>\n      <td>CSCI-GA.2250-​002</td>\n      <td>Operating Systems</td>\n      <td>Hubertus Franke|Office Hours</td>\n      <td>M 7:30-9:20AM</td>\n      <td>CSCI-GA.2250</td>\n    </tr>\n    <tr>\n      <th>42</th>\n      <td>CSCI-GA.3033-​078</td>\n      <td>Special Topics:\\n                             ...</td>\n      <td>Joseph Bonneau|Office Hours</td>\n      <td>R 5:10-7:00PM</td>\n      <td>CSCI-GA.3033</td>\n    </tr>\n    <tr>\n      <th>28</th>\n      <td>CSCI-GA.2820-​002</td>\n      <td>DevOps and Agile Methodologies Lab</td>\n      <td>John Rofrano</td>\n      <td>W 7:10-8:00PM</td>\n      <td>CSCI-GA.2820</td>\n    </tr>\n    <tr>\n      <th>145</th>\n      <td>CSCI-UA.0480-​042</td>\n      <td>Special Topics: Computer Vision</td>\n      <td>Davi Geiger</td>\n      <td>TR 3:30-4:45PM</td>\n      <td>CSCI-UA.0480</td>\n    </tr>\n  </tbody>\n</table>\n</div>"
     },
     "metadata": {},
     "execution_count": 44
    }
   ],
   "source": [
    "results.sample(5)"
   ]
  },
  {
   "cell_type": "code",
   "execution_count": 45,
   "metadata": {},
   "outputs": [],
   "source": [
    "with request.urlopen('https://cs.nyu.edu/dynamic/courses/catalog') as response:\n",
    " res2 = response.read()"
   ]
  },
  {
   "cell_type": "code",
   "execution_count": 46,
   "metadata": {},
   "outputs": [],
   "source": [
    "dom2 = BeautifulSoup(res2)"
   ]
  },
  {
   "cell_type": "code",
   "execution_count": 47,
   "metadata": {},
   "outputs": [],
   "source": [
    "splited = dom2.select('.col-sm-12')"
   ]
  },
  {
   "cell_type": "code",
   "execution_count": 48,
   "metadata": {},
   "outputs": [],
   "source": [
    "credits = []\n",
    "courses = []\n",
    "preqs = []\n",
    "for a in range(len(splited)):\n",
    "    b = splited[a].getText(\"|\", strip=True).split(\"\\n\")\n",
    "    credits.append(b[0][-9])\n",
    "    courses.append(b[0][:12])\n",
    "    \n",
    "\n",
    "\n",
    "for a in range(len(splited)):\n",
    "    b = splited[a].getText(\"|\", strip=True).split(\"\\n\")\n",
    "    c = b[len(b)-1]\n",
    "    count = 0 \n",
    "    result = ''\n",
    "    #print(c)\n",
    "    for d in range(len(c)):\n",
    "        if c[d] == '|':\n",
    "            count += 1\n",
    "        if count <2 and count >0:\n",
    "            result += c[d]\n",
    "    preqs.append(result[1:])\n",
    "    #print(\"\")"
   ]
  },
  {
   "cell_type": "code",
   "execution_count": 49,
   "metadata": {},
   "outputs": [],
   "source": [
    "infoList2 = {'Name':courses,'Prereqs':preqs,'Points':credits}\n",
    "\n",
    "result2 = pd.DataFrame(infoList2,columns=infoList2.keys())"
   ]
  },
  {
   "cell_type": "code",
   "execution_count": 50,
   "metadata": {},
   "outputs": [
    {
     "output_type": "execute_result",
     "data": {
      "text/plain": [
       "            Name                                            Prereqs Points\n",
       "0   CSCI-GA.1133                                Prerequisites: None      4\n",
       "1   CSCI-GA.1144  Prerequisites: CSCI-GA 1133 or departmental pe...      4\n",
       "2   CSCI-GA.1170  Prerequisites: At least one year of experience...      3\n",
       "3   CSCI-GA.1180                                Prerequisites: None      3\n",
       "4   CSCI-GA.2110  Prerequisites: Students taking this class shou...      3\n",
       "..           ...                                                ...    ...\n",
       "95  CSCI-UA.0897  Prerequisites: Restricted to declared computer...      4\n",
       "96  CSCI-UA.0898  Prerequisites: Restricted to declared computer...      4\n",
       "97  CSCI-UA.0997  Prerequisites: Permission of the department. D...      4\n",
       "98  CSCI-UA.0998  Prerequisites: Permission of the department. D...      4\n",
       "99  FRSEM-UA.059  Prerequisites: Some programming experience in ...      4\n",
       "\n",
       "[100 rows x 3 columns]"
      ],
      "text/html": "<div>\n<style scoped>\n    .dataframe tbody tr th:only-of-type {\n        vertical-align: middle;\n    }\n\n    .dataframe tbody tr th {\n        vertical-align: top;\n    }\n\n    .dataframe thead th {\n        text-align: right;\n    }\n</style>\n<table border=\"1\" class=\"dataframe\">\n  <thead>\n    <tr style=\"text-align: right;\">\n      <th></th>\n      <th>Name</th>\n      <th>Prereqs</th>\n      <th>Points</th>\n    </tr>\n  </thead>\n  <tbody>\n    <tr>\n      <th>0</th>\n      <td>CSCI-GA.1133</td>\n      <td>Prerequisites: None</td>\n      <td>4</td>\n    </tr>\n    <tr>\n      <th>1</th>\n      <td>CSCI-GA.1144</td>\n      <td>Prerequisites: CSCI-GA 1133 or departmental pe...</td>\n      <td>4</td>\n    </tr>\n    <tr>\n      <th>2</th>\n      <td>CSCI-GA.1170</td>\n      <td>Prerequisites: At least one year of experience...</td>\n      <td>3</td>\n    </tr>\n    <tr>\n      <th>3</th>\n      <td>CSCI-GA.1180</td>\n      <td>Prerequisites: None</td>\n      <td>3</td>\n    </tr>\n    <tr>\n      <th>4</th>\n      <td>CSCI-GA.2110</td>\n      <td>Prerequisites: Students taking this class shou...</td>\n      <td>3</td>\n    </tr>\n    <tr>\n      <th>...</th>\n      <td>...</td>\n      <td>...</td>\n      <td>...</td>\n    </tr>\n    <tr>\n      <th>95</th>\n      <td>CSCI-UA.0897</td>\n      <td>Prerequisites: Restricted to declared computer...</td>\n      <td>4</td>\n    </tr>\n    <tr>\n      <th>96</th>\n      <td>CSCI-UA.0898</td>\n      <td>Prerequisites: Restricted to declared computer...</td>\n      <td>4</td>\n    </tr>\n    <tr>\n      <th>97</th>\n      <td>CSCI-UA.0997</td>\n      <td>Prerequisites: Permission of the department. D...</td>\n      <td>4</td>\n    </tr>\n    <tr>\n      <th>98</th>\n      <td>CSCI-UA.0998</td>\n      <td>Prerequisites: Permission of the department. D...</td>\n      <td>4</td>\n    </tr>\n    <tr>\n      <th>99</th>\n      <td>FRSEM-UA.059</td>\n      <td>Prerequisites: Some programming experience in ...</td>\n      <td>4</td>\n    </tr>\n  </tbody>\n</table>\n<p>100 rows × 3 columns</p>\n</div>"
     },
     "metadata": {},
     "execution_count": 50
    }
   ],
   "source": [
    "result2"
   ]
  },
  {
   "cell_type": "code",
   "execution_count": 51,
   "metadata": {},
   "outputs": [
    {
     "output_type": "stream",
     "name": "stdout",
     "text": [
      "<class 'pandas.core.frame.DataFrame'>\nRangeIndex: 100 entries, 0 to 99\nData columns (total 3 columns):\n #   Column   Non-Null Count  Dtype \n---  ------   --------------  ----- \n 0   Name     100 non-null    object\n 1   Prereqs  100 non-null    object\n 2   Points   100 non-null    object\ndtypes: object(3)\nmemory usage: 2.5+ KB\n"
     ]
    }
   ],
   "source": [
    "result2.info()"
   ]
  },
  {
   "cell_type": "code",
   "execution_count": 52,
   "metadata": {},
   "outputs": [
    {
     "output_type": "execute_result",
     "data": {
      "text/plain": [
       "           Name                                            Prereqs Points\n",
       "0  CSCI-GA.1133                                Prerequisites: None      4\n",
       "1  CSCI-GA.1144  Prerequisites: CSCI-GA 1133 or departmental pe...      4\n",
       "2  CSCI-GA.1170  Prerequisites: At least one year of experience...      3\n",
       "3  CSCI-GA.1180                                Prerequisites: None      3\n",
       "4  CSCI-GA.2110  Prerequisites: Students taking this class shou...      3"
      ],
      "text/html": "<div>\n<style scoped>\n    .dataframe tbody tr th:only-of-type {\n        vertical-align: middle;\n    }\n\n    .dataframe tbody tr th {\n        vertical-align: top;\n    }\n\n    .dataframe thead th {\n        text-align: right;\n    }\n</style>\n<table border=\"1\" class=\"dataframe\">\n  <thead>\n    <tr style=\"text-align: right;\">\n      <th></th>\n      <th>Name</th>\n      <th>Prereqs</th>\n      <th>Points</th>\n    </tr>\n  </thead>\n  <tbody>\n    <tr>\n      <th>0</th>\n      <td>CSCI-GA.1133</td>\n      <td>Prerequisites: None</td>\n      <td>4</td>\n    </tr>\n    <tr>\n      <th>1</th>\n      <td>CSCI-GA.1144</td>\n      <td>Prerequisites: CSCI-GA 1133 or departmental pe...</td>\n      <td>4</td>\n    </tr>\n    <tr>\n      <th>2</th>\n      <td>CSCI-GA.1170</td>\n      <td>Prerequisites: At least one year of experience...</td>\n      <td>3</td>\n    </tr>\n    <tr>\n      <th>3</th>\n      <td>CSCI-GA.1180</td>\n      <td>Prerequisites: None</td>\n      <td>3</td>\n    </tr>\n    <tr>\n      <th>4</th>\n      <td>CSCI-GA.2110</td>\n      <td>Prerequisites: Students taking this class shou...</td>\n      <td>3</td>\n    </tr>\n  </tbody>\n</table>\n</div>"
     },
     "metadata": {},
     "execution_count": 52
    }
   ],
   "source": [
    "result2.head(5)"
   ]
  },
  {
   "cell_type": "code",
   "execution_count": 53,
   "metadata": {},
   "outputs": [
    {
     "output_type": "execute_result",
     "data": {
      "text/plain": [
       "            Name                                            Prereqs Points\n",
       "95  CSCI-UA.0897  Prerequisites: Restricted to declared computer...      4\n",
       "96  CSCI-UA.0898  Prerequisites: Restricted to declared computer...      4\n",
       "97  CSCI-UA.0997  Prerequisites: Permission of the department. D...      4\n",
       "98  CSCI-UA.0998  Prerequisites: Permission of the department. D...      4\n",
       "99  FRSEM-UA.059  Prerequisites: Some programming experience in ...      4"
      ],
      "text/html": "<div>\n<style scoped>\n    .dataframe tbody tr th:only-of-type {\n        vertical-align: middle;\n    }\n\n    .dataframe tbody tr th {\n        vertical-align: top;\n    }\n\n    .dataframe thead th {\n        text-align: right;\n    }\n</style>\n<table border=\"1\" class=\"dataframe\">\n  <thead>\n    <tr style=\"text-align: right;\">\n      <th></th>\n      <th>Name</th>\n      <th>Prereqs</th>\n      <th>Points</th>\n    </tr>\n  </thead>\n  <tbody>\n    <tr>\n      <th>95</th>\n      <td>CSCI-UA.0897</td>\n      <td>Prerequisites: Restricted to declared computer...</td>\n      <td>4</td>\n    </tr>\n    <tr>\n      <th>96</th>\n      <td>CSCI-UA.0898</td>\n      <td>Prerequisites: Restricted to declared computer...</td>\n      <td>4</td>\n    </tr>\n    <tr>\n      <th>97</th>\n      <td>CSCI-UA.0997</td>\n      <td>Prerequisites: Permission of the department. D...</td>\n      <td>4</td>\n    </tr>\n    <tr>\n      <th>98</th>\n      <td>CSCI-UA.0998</td>\n      <td>Prerequisites: Permission of the department. D...</td>\n      <td>4</td>\n    </tr>\n    <tr>\n      <th>99</th>\n      <td>FRSEM-UA.059</td>\n      <td>Prerequisites: Some programming experience in ...</td>\n      <td>4</td>\n    </tr>\n  </tbody>\n</table>\n</div>"
     },
     "metadata": {},
     "execution_count": 53
    }
   ],
   "source": [
    "result2.tail(5)"
   ]
  },
  {
   "cell_type": "code",
   "execution_count": 54,
   "metadata": {},
   "outputs": [
    {
     "output_type": "execute_result",
     "data": {
      "text/plain": [
       "            Name                                            Prereqs Points\n",
       "19  CSCI-GA.2434  Prerequisites: CSCI-GA 1170, CSCI-GA 2110, and...      3\n",
       "17  CSCI-GA.2421        Prerequisites: Corequisite: linear algebra.      3\n",
       "61  CSCI-GA.3870  Prerequisites: Permission of Director of Gradu...      3\n",
       "79  CSCI-UA.0436  Prerequisites: Computer Systems Organization (...      4\n",
       "97  CSCI-UA.0997  Prerequisites: Permission of the department. D...      4"
      ],
      "text/html": "<div>\n<style scoped>\n    .dataframe tbody tr th:only-of-type {\n        vertical-align: middle;\n    }\n\n    .dataframe tbody tr th {\n        vertical-align: top;\n    }\n\n    .dataframe thead th {\n        text-align: right;\n    }\n</style>\n<table border=\"1\" class=\"dataframe\">\n  <thead>\n    <tr style=\"text-align: right;\">\n      <th></th>\n      <th>Name</th>\n      <th>Prereqs</th>\n      <th>Points</th>\n    </tr>\n  </thead>\n  <tbody>\n    <tr>\n      <th>19</th>\n      <td>CSCI-GA.2434</td>\n      <td>Prerequisites: CSCI-GA 1170, CSCI-GA 2110, and...</td>\n      <td>3</td>\n    </tr>\n    <tr>\n      <th>17</th>\n      <td>CSCI-GA.2421</td>\n      <td>Prerequisites: Corequisite: linear algebra.</td>\n      <td>3</td>\n    </tr>\n    <tr>\n      <th>61</th>\n      <td>CSCI-GA.3870</td>\n      <td>Prerequisites: Permission of Director of Gradu...</td>\n      <td>3</td>\n    </tr>\n    <tr>\n      <th>79</th>\n      <td>CSCI-UA.0436</td>\n      <td>Prerequisites: Computer Systems Organization (...</td>\n      <td>4</td>\n    </tr>\n    <tr>\n      <th>97</th>\n      <td>CSCI-UA.0997</td>\n      <td>Prerequisites: Permission of the department. D...</td>\n      <td>4</td>\n    </tr>\n  </tbody>\n</table>\n</div>"
     },
     "metadata": {},
     "execution_count": 54
    }
   ],
   "source": [
    "result2.sample(5)"
   ]
  },
  {
   "cell_type": "code",
   "execution_count": 55,
   "metadata": {},
   "outputs": [],
   "source": [
    "results = results.merge(result2,left_on = 'Number',right_on = 'Name',how = 'left')"
   ]
  },
  {
   "cell_type": "code",
   "execution_count": 40,
   "metadata": {},
   "outputs": [],
   "source": []
  },
  {
   "cell_type": "code",
   "execution_count": 56,
   "metadata": {},
   "outputs": [
    {
     "output_type": "execute_result",
     "data": {
      "text/plain": [
       "        Number-Section                                             Name_x  \\\n",
       "0    CSCI-GA.1144-​001                                            PAC II*   \n",
       "1    CSCI-GA.1144-​002                                  PAC II Recitation   \n",
       "2    CSCI-GA.1170-​001                             Fundamental Algorithms   \n",
       "3    CSCI-GA.1170-​002                  Fundamental Algorithms Recitation   \n",
       "4    CSCI-GA.1170-​003                  Fundamental Algorithms Recitation   \n",
       "..                 ...                                                ...   \n",
       "147  CSCI-UA.0480-​057        Special Topics: Natural Language Processing   \n",
       "148  CSCI-UA.0480-​069  Special Topics: Agile Software Development and...   \n",
       "149  CSCI-UA.0480-​521        Special Topics: Algorithmic Problem Solving   \n",
       "150  CSCI-UA.0480-​522        Special Topics: Algorithmic Problem Solving   \n",
       "151  CSCI-UA.0480-​523        Special Topics: Algorithmic Problem Solving   \n",
       "\n",
       "                                     Instructor              Time  \\\n",
       "0                   Mohamed Zahran|Office Hours     T 6:00-8:30PM   \n",
       "1                          Gurkirat Singh Bajwa     R 7:10-8:00PM   \n",
       "2                                Yevgeniy Dodis     T 7:10-9:00PM   \n",
       "3    Alex Bienstock|Charles Peyser|Fengyuan Liu     R 8:10-9:00PM   \n",
       "4                            Harish Karthikeyan     R 8:10-9:00PM   \n",
       "..                                          ...               ...   \n",
       "147                    Adam Meyers|Office Hours   TR 9:30-10:45AM   \n",
       "148                              Amos Bloomberg    MW 3:30-4:45PM   \n",
       "149                            Joanna Klukowska  MW 11:00-12:15PM   \n",
       "150                                Kunal Khatri     W 3:30-4:45PM   \n",
       "151                              Samasth Ananda     W 3:30-4:45PM   \n",
       "\n",
       "           Number        Name_y  \\\n",
       "0    CSCI-GA.1144  CSCI-GA.1144   \n",
       "1    CSCI-GA.1144  CSCI-GA.1144   \n",
       "2    CSCI-GA.1170  CSCI-GA.1170   \n",
       "3    CSCI-GA.1170  CSCI-GA.1170   \n",
       "4    CSCI-GA.1170  CSCI-GA.1170   \n",
       "..            ...           ...   \n",
       "147  CSCI-UA.0480  CSCI-UA.0480   \n",
       "148  CSCI-UA.0480  CSCI-UA.0480   \n",
       "149  CSCI-UA.0480  CSCI-UA.0480   \n",
       "150  CSCI-UA.0480  CSCI-UA.0480   \n",
       "151  CSCI-UA.0480  CSCI-UA.0480   \n",
       "\n",
       "                                               Prereqs Points  \n",
       "0    Prerequisites: CSCI-GA 1133 or departmental pe...      4  \n",
       "1    Prerequisites: CSCI-GA 1133 or departmental pe...      4  \n",
       "2    Prerequisites: At least one year of experience...      3  \n",
       "3    Prerequisites: At least one year of experience...      3  \n",
       "4    Prerequisites: At least one year of experience...      3  \n",
       "..                                                 ...    ...  \n",
       "147     Prerequisites: Topics determine prerequisites.      4  \n",
       "148     Prerequisites: Topics determine prerequisites.      4  \n",
       "149     Prerequisites: Topics determine prerequisites.      4  \n",
       "150     Prerequisites: Topics determine prerequisites.      4  \n",
       "151     Prerequisites: Topics determine prerequisites.      4  \n",
       "\n",
       "[152 rows x 8 columns]"
      ],
      "text/html": "<div>\n<style scoped>\n    .dataframe tbody tr th:only-of-type {\n        vertical-align: middle;\n    }\n\n    .dataframe tbody tr th {\n        vertical-align: top;\n    }\n\n    .dataframe thead th {\n        text-align: right;\n    }\n</style>\n<table border=\"1\" class=\"dataframe\">\n  <thead>\n    <tr style=\"text-align: right;\">\n      <th></th>\n      <th>Number-Section</th>\n      <th>Name_x</th>\n      <th>Instructor</th>\n      <th>Time</th>\n      <th>Number</th>\n      <th>Name_y</th>\n      <th>Prereqs</th>\n      <th>Points</th>\n    </tr>\n  </thead>\n  <tbody>\n    <tr>\n      <th>0</th>\n      <td>CSCI-GA.1144-​001</td>\n      <td>PAC II*</td>\n      <td>Mohamed Zahran|Office Hours</td>\n      <td>T 6:00-8:30PM</td>\n      <td>CSCI-GA.1144</td>\n      <td>CSCI-GA.1144</td>\n      <td>Prerequisites: CSCI-GA 1133 or departmental pe...</td>\n      <td>4</td>\n    </tr>\n    <tr>\n      <th>1</th>\n      <td>CSCI-GA.1144-​002</td>\n      <td>PAC II Recitation</td>\n      <td>Gurkirat Singh Bajwa</td>\n      <td>R 7:10-8:00PM</td>\n      <td>CSCI-GA.1144</td>\n      <td>CSCI-GA.1144</td>\n      <td>Prerequisites: CSCI-GA 1133 or departmental pe...</td>\n      <td>4</td>\n    </tr>\n    <tr>\n      <th>2</th>\n      <td>CSCI-GA.1170-​001</td>\n      <td>Fundamental Algorithms</td>\n      <td>Yevgeniy Dodis</td>\n      <td>T 7:10-9:00PM</td>\n      <td>CSCI-GA.1170</td>\n      <td>CSCI-GA.1170</td>\n      <td>Prerequisites: At least one year of experience...</td>\n      <td>3</td>\n    </tr>\n    <tr>\n      <th>3</th>\n      <td>CSCI-GA.1170-​002</td>\n      <td>Fundamental Algorithms Recitation</td>\n      <td>Alex Bienstock|Charles Peyser|Fengyuan Liu</td>\n      <td>R 8:10-9:00PM</td>\n      <td>CSCI-GA.1170</td>\n      <td>CSCI-GA.1170</td>\n      <td>Prerequisites: At least one year of experience...</td>\n      <td>3</td>\n    </tr>\n    <tr>\n      <th>4</th>\n      <td>CSCI-GA.1170-​003</td>\n      <td>Fundamental Algorithms Recitation</td>\n      <td>Harish Karthikeyan</td>\n      <td>R 8:10-9:00PM</td>\n      <td>CSCI-GA.1170</td>\n      <td>CSCI-GA.1170</td>\n      <td>Prerequisites: At least one year of experience...</td>\n      <td>3</td>\n    </tr>\n    <tr>\n      <th>...</th>\n      <td>...</td>\n      <td>...</td>\n      <td>...</td>\n      <td>...</td>\n      <td>...</td>\n      <td>...</td>\n      <td>...</td>\n      <td>...</td>\n    </tr>\n    <tr>\n      <th>147</th>\n      <td>CSCI-UA.0480-​057</td>\n      <td>Special Topics: Natural Language Processing</td>\n      <td>Adam Meyers|Office Hours</td>\n      <td>TR 9:30-10:45AM</td>\n      <td>CSCI-UA.0480</td>\n      <td>CSCI-UA.0480</td>\n      <td>Prerequisites: Topics determine prerequisites.</td>\n      <td>4</td>\n    </tr>\n    <tr>\n      <th>148</th>\n      <td>CSCI-UA.0480-​069</td>\n      <td>Special Topics: Agile Software Development and...</td>\n      <td>Amos Bloomberg</td>\n      <td>MW 3:30-4:45PM</td>\n      <td>CSCI-UA.0480</td>\n      <td>CSCI-UA.0480</td>\n      <td>Prerequisites: Topics determine prerequisites.</td>\n      <td>4</td>\n    </tr>\n    <tr>\n      <th>149</th>\n      <td>CSCI-UA.0480-​521</td>\n      <td>Special Topics: Algorithmic Problem Solving</td>\n      <td>Joanna Klukowska</td>\n      <td>MW 11:00-12:15PM</td>\n      <td>CSCI-UA.0480</td>\n      <td>CSCI-UA.0480</td>\n      <td>Prerequisites: Topics determine prerequisites.</td>\n      <td>4</td>\n    </tr>\n    <tr>\n      <th>150</th>\n      <td>CSCI-UA.0480-​522</td>\n      <td>Special Topics: Algorithmic Problem Solving</td>\n      <td>Kunal Khatri</td>\n      <td>W 3:30-4:45PM</td>\n      <td>CSCI-UA.0480</td>\n      <td>CSCI-UA.0480</td>\n      <td>Prerequisites: Topics determine prerequisites.</td>\n      <td>4</td>\n    </tr>\n    <tr>\n      <th>151</th>\n      <td>CSCI-UA.0480-​523</td>\n      <td>Special Topics: Algorithmic Problem Solving</td>\n      <td>Samasth Ananda</td>\n      <td>W 3:30-4:45PM</td>\n      <td>CSCI-UA.0480</td>\n      <td>CSCI-UA.0480</td>\n      <td>Prerequisites: Topics determine prerequisites.</td>\n      <td>4</td>\n    </tr>\n  </tbody>\n</table>\n<p>152 rows × 8 columns</p>\n</div>"
     },
     "metadata": {},
     "execution_count": 56
    }
   ],
   "source": [
    "results"
   ]
  },
  {
   "source": [
    "I think that one of the biggest problem is that when I was trying to merge the two list, I found that they are in two totally different part and the part two's contennt in dataframe 1's part are all NaN, so do the second part. After check it out, I found that I made a mistake on the merge key selection, and after changing the right 'left_on' and 'right_on' I think I have solved the problem.\n",
    "\n",
    "Also I think it is very interesting to see that all recitation are marked on the same prereqs and credits as their lecture, I think that is because they have the same class Numbers.\n",
    "\n",
    "Finally, I think there is one problem is that two or three (probrably four?) rows still missing the data, I do not know why it happens."
   ],
   "cell_type": "markdown",
   "metadata": {}
  }
 ],
 "metadata": {
  "kernelspec": {
   "display_name": "Python 3",
   "language": "python",
   "name": "python3"
  },
  "language_info": {
   "codemirror_mode": {
    "name": "ipython",
    "version": 3
   },
   "file_extension": ".py",
   "mimetype": "text/x-python",
   "name": "python",
   "nbconvert_exporter": "python",
   "pygments_lexer": "ipython3",
   "version": "3.8.5-final"
  }
 },
 "nbformat": 4,
 "nbformat_minor": 4
}