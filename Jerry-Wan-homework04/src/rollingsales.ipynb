{
 "cells": [
  {
   "cell_type": "code",
   "execution_count": 1,
   "metadata": {},
   "outputs": [
    {
     "output_type": "execute_result",
     "data": {
      "text/plain": [
       "       BOROUGH   NEIGHBORHOOD         BUILDING CLASS CATEGORY  \\\n",
       "0          1.0  ALPHABET CITY         02 TWO FAMILY DWELLINGS   \n",
       "1          1.0  ALPHABET CITY       03 THREE FAMILY DWELLINGS   \n",
       "2          1.0  ALPHABET CITY       03 THREE FAMILY DWELLINGS   \n",
       "3          1.0  ALPHABET CITY  07 RENTALS - WALKUP APARTMENTS   \n",
       "4          1.0  ALPHABET CITY  07 RENTALS - WALKUP APARTMENTS   \n",
       "...        ...            ...                             ...   \n",
       "17757      NaN            NaN                             NaN   \n",
       "17758      NaN            NaN                             NaN   \n",
       "17759      NaN            NaN                             NaN   \n",
       "17760      NaN            NaN                             NaN   \n",
       "17761      NaN            NaN                             NaN   \n",
       "\n",
       "      TAX CLASS AT PRESENT  BLOCK   LOT  EASE-MENT BUILDING CLASS AT PRESENT  \\\n",
       "0                        1  377.0  72.0        NaN                        B9   \n",
       "1                        1  377.0  66.0        NaN                        C0   \n",
       "2                        1  377.0  66.0        NaN                        C0   \n",
       "3                       2B  372.0  10.0        NaN                        C7   \n",
       "4                       2B  374.0   1.0        NaN                        C7   \n",
       "...                    ...    ...   ...        ...                       ...   \n",
       "17757                  NaN    NaN   NaN        NaN                       NaN   \n",
       "17758                  NaN    NaN   NaN        NaN                       NaN   \n",
       "17759                  NaN    NaN   NaN        NaN                       NaN   \n",
       "17760                  NaN    NaN   NaN        NaN                       NaN   \n",
       "17761                  NaN    NaN   NaN        NaN                       NaN   \n",
       "\n",
       "                       ADDRESS APARTMENT NUMBER  ...  RESIDENTIAL UNITS  \\\n",
       "0                 231 EAST 7TH              NaN  ...                2.0   \n",
       "1          243 EAST 7TH STREET              NaN  ...                3.0   \n",
       "2          243 EAST 7TH STREET              NaN  ...                3.0   \n",
       "3                 274 EAST 3RD              NaN  ...                9.0   \n",
       "4      301-303 EAST 4TH STREET              NaN  ...                8.0   \n",
       "...                        ...              ...  ...                ...   \n",
       "17757                      NaN              NaN  ...                NaN   \n",
       "17758                      NaN              NaN  ...                NaN   \n",
       "17759                      NaN              NaN  ...                NaN   \n",
       "17760                      NaN              NaN  ...                NaN   \n",
       "17761                      NaN              NaN  ...                NaN   \n",
       "\n",
       "       COMMERCIAL UNITS  TOTAL UNITS  LAND SQUARE FEET GROSS SQUARE FEET  \\\n",
       "0                   0.0          2.0             1,718             5,154   \n",
       "1                   0.0          3.0             2,381             3,084   \n",
       "2                   0.0          3.0             2,381             3,084   \n",
       "3                   1.0         10.0             2,021             6,445   \n",
       "4                   2.0         10.0             1,501             6,929   \n",
       "...                 ...          ...               ...               ...   \n",
       "17757               NaN          NaN               NaN               NaN   \n",
       "17758               NaN          NaN               NaN               NaN   \n",
       "17759               NaN          NaN               NaN               NaN   \n",
       "17760               NaN          NaN               NaN               NaN   \n",
       "17761               NaN          NaN               NaN               NaN   \n",
       "\n",
       "      YEAR BUILT  TAX CLASS AT TIME OF SALE  BUILDING CLASS AT TIME OF SALE  \\\n",
       "0         1901.0                        1.0                              B9   \n",
       "1         1899.0                        1.0                              C0   \n",
       "2         1899.0                        1.0                              C0   \n",
       "3         1900.0                        2.0                              C7   \n",
       "4         1900.0                        2.0                              C7   \n",
       "...          ...                        ...                             ...   \n",
       "17757        NaN                        NaN                             NaN   \n",
       "17758        NaN                        NaN                             NaN   \n",
       "17759        NaN                        NaN                             NaN   \n",
       "17760        NaN                        NaN                             NaN   \n",
       "17761        NaN                        NaN                             NaN   \n",
       "\n",
       "       SALE PRICE    SALE DATE  \n",
       "0                0   2020/10/2  \n",
       "1                0  2020/10/31  \n",
       "2        4,350,000   2020/7/16  \n",
       "3                0  2020/12/27  \n",
       "4        3,672,530  2020/11/24  \n",
       "...            ...         ...  \n",
       "17757          NaN         NaN  \n",
       "17758          NaN         NaN  \n",
       "17759          NaN         NaN  \n",
       "17760          NaN         NaN  \n",
       "17761          NaN         NaN  \n",
       "\n",
       "[17762 rows x 21 columns]"
      ],
      "text/html": "<div>\n<style scoped>\n    .dataframe tbody tr th:only-of-type {\n        vertical-align: middle;\n    }\n\n    .dataframe tbody tr th {\n        vertical-align: top;\n    }\n\n    .dataframe thead th {\n        text-align: right;\n    }\n</style>\n<table border=\"1\" class=\"dataframe\">\n  <thead>\n    <tr style=\"text-align: right;\">\n      <th></th>\n      <th>BOROUGH</th>\n      <th>NEIGHBORHOOD</th>\n      <th>BUILDING CLASS CATEGORY</th>\n      <th>TAX CLASS AT PRESENT</th>\n      <th>BLOCK</th>\n      <th>LOT</th>\n      <th>EASE-MENT</th>\n      <th>BUILDING CLASS AT PRESENT</th>\n      <th>ADDRESS</th>\n      <th>APARTMENT NUMBER</th>\n      <th>...</th>\n      <th>RESIDENTIAL UNITS</th>\n      <th>COMMERCIAL UNITS</th>\n      <th>TOTAL UNITS</th>\n      <th>LAND SQUARE FEET</th>\n      <th>GROSS SQUARE FEET</th>\n      <th>YEAR BUILT</th>\n      <th>TAX CLASS AT TIME OF SALE</th>\n      <th>BUILDING CLASS AT TIME OF SALE</th>\n      <th>SALE PRICE</th>\n      <th>SALE DATE</th>\n    </tr>\n  </thead>\n  <tbody>\n    <tr>\n      <th>0</th>\n      <td>1.0</td>\n      <td>ALPHABET CITY</td>\n      <td>02 TWO FAMILY DWELLINGS</td>\n      <td>1</td>\n      <td>377.0</td>\n      <td>72.0</td>\n      <td>NaN</td>\n      <td>B9</td>\n      <td>231 EAST 7TH</td>\n      <td>NaN</td>\n      <td>...</td>\n      <td>2.0</td>\n      <td>0.0</td>\n      <td>2.0</td>\n      <td>1,718</td>\n      <td>5,154</td>\n      <td>1901.0</td>\n      <td>1.0</td>\n      <td>B9</td>\n      <td>0</td>\n      <td>2020/10/2</td>\n    </tr>\n    <tr>\n      <th>1</th>\n      <td>1.0</td>\n      <td>ALPHABET CITY</td>\n      <td>03 THREE FAMILY DWELLINGS</td>\n      <td>1</td>\n      <td>377.0</td>\n      <td>66.0</td>\n      <td>NaN</td>\n      <td>C0</td>\n      <td>243 EAST 7TH STREET</td>\n      <td>NaN</td>\n      <td>...</td>\n      <td>3.0</td>\n      <td>0.0</td>\n      <td>3.0</td>\n      <td>2,381</td>\n      <td>3,084</td>\n      <td>1899.0</td>\n      <td>1.0</td>\n      <td>C0</td>\n      <td>0</td>\n      <td>2020/10/31</td>\n    </tr>\n    <tr>\n      <th>2</th>\n      <td>1.0</td>\n      <td>ALPHABET CITY</td>\n      <td>03 THREE FAMILY DWELLINGS</td>\n      <td>1</td>\n      <td>377.0</td>\n      <td>66.0</td>\n      <td>NaN</td>\n      <td>C0</td>\n      <td>243 EAST 7TH STREET</td>\n      <td>NaN</td>\n      <td>...</td>\n      <td>3.0</td>\n      <td>0.0</td>\n      <td>3.0</td>\n      <td>2,381</td>\n      <td>3,084</td>\n      <td>1899.0</td>\n      <td>1.0</td>\n      <td>C0</td>\n      <td>4,350,000</td>\n      <td>2020/7/16</td>\n    </tr>\n    <tr>\n      <th>3</th>\n      <td>1.0</td>\n      <td>ALPHABET CITY</td>\n      <td>07 RENTALS - WALKUP APARTMENTS</td>\n      <td>2B</td>\n      <td>372.0</td>\n      <td>10.0</td>\n      <td>NaN</td>\n      <td>C7</td>\n      <td>274 EAST 3RD</td>\n      <td>NaN</td>\n      <td>...</td>\n      <td>9.0</td>\n      <td>1.0</td>\n      <td>10.0</td>\n      <td>2,021</td>\n      <td>6,445</td>\n      <td>1900.0</td>\n      <td>2.0</td>\n      <td>C7</td>\n      <td>0</td>\n      <td>2020/12/27</td>\n    </tr>\n    <tr>\n      <th>4</th>\n      <td>1.0</td>\n      <td>ALPHABET CITY</td>\n      <td>07 RENTALS - WALKUP APARTMENTS</td>\n      <td>2B</td>\n      <td>374.0</td>\n      <td>1.0</td>\n      <td>NaN</td>\n      <td>C7</td>\n      <td>301-303 EAST 4TH STREET</td>\n      <td>NaN</td>\n      <td>...</td>\n      <td>8.0</td>\n      <td>2.0</td>\n      <td>10.0</td>\n      <td>1,501</td>\n      <td>6,929</td>\n      <td>1900.0</td>\n      <td>2.0</td>\n      <td>C7</td>\n      <td>3,672,530</td>\n      <td>2020/11/24</td>\n    </tr>\n    <tr>\n      <th>...</th>\n      <td>...</td>\n      <td>...</td>\n      <td>...</td>\n      <td>...</td>\n      <td>...</td>\n      <td>...</td>\n      <td>...</td>\n      <td>...</td>\n      <td>...</td>\n      <td>...</td>\n      <td>...</td>\n      <td>...</td>\n      <td>...</td>\n      <td>...</td>\n      <td>...</td>\n      <td>...</td>\n      <td>...</td>\n      <td>...</td>\n      <td>...</td>\n      <td>...</td>\n      <td>...</td>\n    </tr>\n    <tr>\n      <th>17757</th>\n      <td>NaN</td>\n      <td>NaN</td>\n      <td>NaN</td>\n      <td>NaN</td>\n      <td>NaN</td>\n      <td>NaN</td>\n      <td>NaN</td>\n      <td>NaN</td>\n      <td>NaN</td>\n      <td>NaN</td>\n      <td>...</td>\n      <td>NaN</td>\n      <td>NaN</td>\n      <td>NaN</td>\n      <td>NaN</td>\n      <td>NaN</td>\n      <td>NaN</td>\n      <td>NaN</td>\n      <td>NaN</td>\n      <td>NaN</td>\n      <td>NaN</td>\n    </tr>\n    <tr>\n      <th>17758</th>\n      <td>NaN</td>\n      <td>NaN</td>\n      <td>NaN</td>\n      <td>NaN</td>\n      <td>NaN</td>\n      <td>NaN</td>\n      <td>NaN</td>\n      <td>NaN</td>\n      <td>NaN</td>\n      <td>NaN</td>\n      <td>...</td>\n      <td>NaN</td>\n      <td>NaN</td>\n      <td>NaN</td>\n      <td>NaN</td>\n      <td>NaN</td>\n      <td>NaN</td>\n      <td>NaN</td>\n      <td>NaN</td>\n      <td>NaN</td>\n      <td>NaN</td>\n    </tr>\n    <tr>\n      <th>17759</th>\n      <td>NaN</td>\n      <td>NaN</td>\n      <td>NaN</td>\n      <td>NaN</td>\n      <td>NaN</td>\n      <td>NaN</td>\n      <td>NaN</td>\n      <td>NaN</td>\n      <td>NaN</td>\n      <td>NaN</td>\n      <td>...</td>\n      <td>NaN</td>\n      <td>NaN</td>\n      <td>NaN</td>\n      <td>NaN</td>\n      <td>NaN</td>\n      <td>NaN</td>\n      <td>NaN</td>\n      <td>NaN</td>\n      <td>NaN</td>\n      <td>NaN</td>\n    </tr>\n    <tr>\n      <th>17760</th>\n      <td>NaN</td>\n      <td>NaN</td>\n      <td>NaN</td>\n      <td>NaN</td>\n      <td>NaN</td>\n      <td>NaN</td>\n      <td>NaN</td>\n      <td>NaN</td>\n      <td>NaN</td>\n      <td>NaN</td>\n      <td>...</td>\n      <td>NaN</td>\n      <td>NaN</td>\n      <td>NaN</td>\n      <td>NaN</td>\n      <td>NaN</td>\n      <td>NaN</td>\n      <td>NaN</td>\n      <td>NaN</td>\n      <td>NaN</td>\n      <td>NaN</td>\n    </tr>\n    <tr>\n      <th>17761</th>\n      <td>NaN</td>\n      <td>NaN</td>\n      <td>NaN</td>\n      <td>NaN</td>\n      <td>NaN</td>\n      <td>NaN</td>\n      <td>NaN</td>\n      <td>NaN</td>\n      <td>NaN</td>\n      <td>NaN</td>\n      <td>...</td>\n      <td>NaN</td>\n      <td>NaN</td>\n      <td>NaN</td>\n      <td>NaN</td>\n      <td>NaN</td>\n      <td>NaN</td>\n      <td>NaN</td>\n      <td>NaN</td>\n      <td>NaN</td>\n      <td>NaN</td>\n    </tr>\n  </tbody>\n</table>\n<p>17762 rows × 21 columns</p>\n</div>"
     },
     "metadata": {},
     "execution_count": 1
    }
   ],
   "source": [
    "import pandas as pd\n",
    "import matplotlib.pyplot as plot\n",
    "datas = pd.read_csv(\"../data/raw/rollingsales_manhattan.CSV\",header =4) \n",
    "datas"
   ]
  },
  {
   "cell_type": "markdown",
   "metadata": {},
   "source": [
    "Use header to filter the first three lines which describe the overall info"
   ]
  },
  {
   "cell_type": "code",
   "execution_count": 2,
   "metadata": {},
   "outputs": [
    {
     "output_type": "execute_result",
     "data": {
      "text/plain": [
       "array(['BOROUGH', 'NEIGHBORHOOD', 'BUILDING CLASS CATEGORY',\n",
       "       'TAX CLASS AT PRESENT', 'BLOCK', 'LOT', 'EASE-MENT',\n",
       "       'BUILDING CLASS AT PRESENT', 'ADDRESS', 'APARTMENT NUMBER',\n",
       "       'ZIP CODE', 'RESIDENTIAL UNITS', 'COMMERCIAL UNITS', 'TOTAL UNITS',\n",
       "       'LAND SQUARE FEET', 'GROSS SQUARE FEET', 'YEAR BUILT',\n",
       "       'TAX CLASS AT TIME OF SALE', 'BUILDING CLASS AT TIME OF SALE',\n",
       "       ' SALE PRICE ', 'SALE DATE'], dtype=object)"
      ]
     },
     "metadata": {},
     "execution_count": 2
    }
   ],
   "source": [
    "#2.display columns and row samples\n",
    "datas.columns.values"
   ]
  },
  {
   "cell_type": "code",
   "execution_count": 3,
   "metadata": {},
   "outputs": [
    {
     "output_type": "execute_result",
     "data": {
      "text/plain": [
       "   BOROUGH   NEIGHBORHOOD         BUILDING CLASS CATEGORY  \\\n",
       "0      1.0  ALPHABET CITY         02 TWO FAMILY DWELLINGS   \n",
       "1      1.0  ALPHABET CITY       03 THREE FAMILY DWELLINGS   \n",
       "2      1.0  ALPHABET CITY       03 THREE FAMILY DWELLINGS   \n",
       "3      1.0  ALPHABET CITY  07 RENTALS - WALKUP APARTMENTS   \n",
       "4      1.0  ALPHABET CITY  07 RENTALS - WALKUP APARTMENTS   \n",
       "\n",
       "  TAX CLASS AT PRESENT  BLOCK   LOT  EASE-MENT BUILDING CLASS AT PRESENT  \\\n",
       "0                    1  377.0  72.0        NaN                        B9   \n",
       "1                    1  377.0  66.0        NaN                        C0   \n",
       "2                    1  377.0  66.0        NaN                        C0   \n",
       "3                   2B  372.0  10.0        NaN                        C7   \n",
       "4                   2B  374.0   1.0        NaN                        C7   \n",
       "\n",
       "                   ADDRESS APARTMENT NUMBER  ...  RESIDENTIAL UNITS  \\\n",
       "0             231 EAST 7TH              NaN  ...                2.0   \n",
       "1      243 EAST 7TH STREET              NaN  ...                3.0   \n",
       "2      243 EAST 7TH STREET              NaN  ...                3.0   \n",
       "3             274 EAST 3RD              NaN  ...                9.0   \n",
       "4  301-303 EAST 4TH STREET              NaN  ...                8.0   \n",
       "\n",
       "   COMMERCIAL UNITS  TOTAL UNITS  LAND SQUARE FEET GROSS SQUARE FEET  \\\n",
       "0               0.0          2.0             1,718             5,154   \n",
       "1               0.0          3.0             2,381             3,084   \n",
       "2               0.0          3.0             2,381             3,084   \n",
       "3               1.0         10.0             2,021             6,445   \n",
       "4               2.0         10.0             1,501             6,929   \n",
       "\n",
       "  YEAR BUILT  TAX CLASS AT TIME OF SALE  BUILDING CLASS AT TIME OF SALE  \\\n",
       "0     1901.0                        1.0                              B9   \n",
       "1     1899.0                        1.0                              C0   \n",
       "2     1899.0                        1.0                              C0   \n",
       "3     1900.0                        2.0                              C7   \n",
       "4     1900.0                        2.0                              C7   \n",
       "\n",
       "   SALE PRICE    SALE DATE  \n",
       "0            0   2020/10/2  \n",
       "1            0  2020/10/31  \n",
       "2    4,350,000   2020/7/16  \n",
       "3            0  2020/12/27  \n",
       "4    3,672,530  2020/11/24  \n",
       "\n",
       "[5 rows x 21 columns]"
      ],
      "text/html": "<div>\n<style scoped>\n    .dataframe tbody tr th:only-of-type {\n        vertical-align: middle;\n    }\n\n    .dataframe tbody tr th {\n        vertical-align: top;\n    }\n\n    .dataframe thead th {\n        text-align: right;\n    }\n</style>\n<table border=\"1\" class=\"dataframe\">\n  <thead>\n    <tr style=\"text-align: right;\">\n      <th></th>\n      <th>BOROUGH</th>\n      <th>NEIGHBORHOOD</th>\n      <th>BUILDING CLASS CATEGORY</th>\n      <th>TAX CLASS AT PRESENT</th>\n      <th>BLOCK</th>\n      <th>LOT</th>\n      <th>EASE-MENT</th>\n      <th>BUILDING CLASS AT PRESENT</th>\n      <th>ADDRESS</th>\n      <th>APARTMENT NUMBER</th>\n      <th>...</th>\n      <th>RESIDENTIAL UNITS</th>\n      <th>COMMERCIAL UNITS</th>\n      <th>TOTAL UNITS</th>\n      <th>LAND SQUARE FEET</th>\n      <th>GROSS SQUARE FEET</th>\n      <th>YEAR BUILT</th>\n      <th>TAX CLASS AT TIME OF SALE</th>\n      <th>BUILDING CLASS AT TIME OF SALE</th>\n      <th>SALE PRICE</th>\n      <th>SALE DATE</th>\n    </tr>\n  </thead>\n  <tbody>\n    <tr>\n      <th>0</th>\n      <td>1.0</td>\n      <td>ALPHABET CITY</td>\n      <td>02 TWO FAMILY DWELLINGS</td>\n      <td>1</td>\n      <td>377.0</td>\n      <td>72.0</td>\n      <td>NaN</td>\n      <td>B9</td>\n      <td>231 EAST 7TH</td>\n      <td>NaN</td>\n      <td>...</td>\n      <td>2.0</td>\n      <td>0.0</td>\n      <td>2.0</td>\n      <td>1,718</td>\n      <td>5,154</td>\n      <td>1901.0</td>\n      <td>1.0</td>\n      <td>B9</td>\n      <td>0</td>\n      <td>2020/10/2</td>\n    </tr>\n    <tr>\n      <th>1</th>\n      <td>1.0</td>\n      <td>ALPHABET CITY</td>\n      <td>03 THREE FAMILY DWELLINGS</td>\n      <td>1</td>\n      <td>377.0</td>\n      <td>66.0</td>\n      <td>NaN</td>\n      <td>C0</td>\n      <td>243 EAST 7TH STREET</td>\n      <td>NaN</td>\n      <td>...</td>\n      <td>3.0</td>\n      <td>0.0</td>\n      <td>3.0</td>\n      <td>2,381</td>\n      <td>3,084</td>\n      <td>1899.0</td>\n      <td>1.0</td>\n      <td>C0</td>\n      <td>0</td>\n      <td>2020/10/31</td>\n    </tr>\n    <tr>\n      <th>2</th>\n      <td>1.0</td>\n      <td>ALPHABET CITY</td>\n      <td>03 THREE FAMILY DWELLINGS</td>\n      <td>1</td>\n      <td>377.0</td>\n      <td>66.0</td>\n      <td>NaN</td>\n      <td>C0</td>\n      <td>243 EAST 7TH STREET</td>\n      <td>NaN</td>\n      <td>...</td>\n      <td>3.0</td>\n      <td>0.0</td>\n      <td>3.0</td>\n      <td>2,381</td>\n      <td>3,084</td>\n      <td>1899.0</td>\n      <td>1.0</td>\n      <td>C0</td>\n      <td>4,350,000</td>\n      <td>2020/7/16</td>\n    </tr>\n    <tr>\n      <th>3</th>\n      <td>1.0</td>\n      <td>ALPHABET CITY</td>\n      <td>07 RENTALS - WALKUP APARTMENTS</td>\n      <td>2B</td>\n      <td>372.0</td>\n      <td>10.0</td>\n      <td>NaN</td>\n      <td>C7</td>\n      <td>274 EAST 3RD</td>\n      <td>NaN</td>\n      <td>...</td>\n      <td>9.0</td>\n      <td>1.0</td>\n      <td>10.0</td>\n      <td>2,021</td>\n      <td>6,445</td>\n      <td>1900.0</td>\n      <td>2.0</td>\n      <td>C7</td>\n      <td>0</td>\n      <td>2020/12/27</td>\n    </tr>\n    <tr>\n      <th>4</th>\n      <td>1.0</td>\n      <td>ALPHABET CITY</td>\n      <td>07 RENTALS - WALKUP APARTMENTS</td>\n      <td>2B</td>\n      <td>374.0</td>\n      <td>1.0</td>\n      <td>NaN</td>\n      <td>C7</td>\n      <td>301-303 EAST 4TH STREET</td>\n      <td>NaN</td>\n      <td>...</td>\n      <td>8.0</td>\n      <td>2.0</td>\n      <td>10.0</td>\n      <td>1,501</td>\n      <td>6,929</td>\n      <td>1900.0</td>\n      <td>2.0</td>\n      <td>C7</td>\n      <td>3,672,530</td>\n      <td>2020/11/24</td>\n    </tr>\n  </tbody>\n</table>\n<p>5 rows × 21 columns</p>\n</div>"
     },
     "metadata": {},
     "execution_count": 3
    }
   ],
   "source": [
    "datas.head(5)"
   ]
  },
  {
   "cell_type": "code",
   "execution_count": 4,
   "metadata": {},
   "outputs": [
    {
     "output_type": "execute_result",
     "data": {
      "text/plain": [
       "       BOROUGH             NEIGHBORHOOD          BUILDING CLASS CATEGORY  \\\n",
       "16325      NaN                      NaN                              NaN   \n",
       "15486      NaN                      NaN                              NaN   \n",
       "2595       1.0   GREENWICH VILLAGE-WEST   10 COOPS - ELEVATOR APARTMENTS   \n",
       "9251       1.0  UPPER EAST SIDE (79-96)  13 CONDOS - ELEVATOR APARTMENTS   \n",
       "13338      NaN                      NaN                              NaN   \n",
       "\n",
       "      TAX CLASS AT PRESENT   BLOCK     LOT  EASE-MENT  \\\n",
       "16325                  NaN     NaN     NaN        NaN   \n",
       "15486                  NaN     NaN     NaN        NaN   \n",
       "2595                     2   640.0    12.0        NaN   \n",
       "9251                     2  1566.0  1075.0        NaN   \n",
       "13338                  NaN     NaN     NaN        NaN   \n",
       "\n",
       "      BUILDING CLASS AT PRESENT                    ADDRESS APARTMENT NUMBER  \\\n",
       "16325                       NaN                        NaN              NaN   \n",
       "15486                       NaN                        NaN              NaN   \n",
       "2595                         D0   380 WEST 12TH STREET, 2G              NaN   \n",
       "9251                         R4  455 EAST 86TH STREET, 10C              10C   \n",
       "13338                       NaN                        NaN              NaN   \n",
       "\n",
       "       ...  RESIDENTIAL UNITS  COMMERCIAL UNITS  TOTAL UNITS  \\\n",
       "16325  ...                NaN               NaN          NaN   \n",
       "15486  ...                NaN               NaN          NaN   \n",
       "2595   ...                NaN               NaN          NaN   \n",
       "9251   ...                1.0               NaN          1.0   \n",
       "13338  ...                NaN               NaN          NaN   \n",
       "\n",
       "       LAND SQUARE FEET GROSS SQUARE FEET YEAR BUILT  \\\n",
       "16325               NaN               NaN        NaN   \n",
       "15486               NaN               NaN        NaN   \n",
       "2595                NaN               NaN     1939.0   \n",
       "9251                NaN               NaN     1986.0   \n",
       "13338               NaN               NaN        NaN   \n",
       "\n",
       "       TAX CLASS AT TIME OF SALE  BUILDING CLASS AT TIME OF SALE  SALE PRICE   \\\n",
       "16325                        NaN                             NaN          NaN   \n",
       "15486                        NaN                             NaN          NaN   \n",
       "2595                         2.0                              D0            0   \n",
       "9251                         2.0                              R4            0   \n",
       "13338                        NaN                             NaN          NaN   \n",
       "\n",
       "        SALE DATE  \n",
       "16325         NaN  \n",
       "15486         NaN  \n",
       "2595   2020/11/23  \n",
       "9251    2020/10/1  \n",
       "13338         NaN  \n",
       "\n",
       "[5 rows x 21 columns]"
      ],
      "text/html": "<div>\n<style scoped>\n    .dataframe tbody tr th:only-of-type {\n        vertical-align: middle;\n    }\n\n    .dataframe tbody tr th {\n        vertical-align: top;\n    }\n\n    .dataframe thead th {\n        text-align: right;\n    }\n</style>\n<table border=\"1\" class=\"dataframe\">\n  <thead>\n    <tr style=\"text-align: right;\">\n      <th></th>\n      <th>BOROUGH</th>\n      <th>NEIGHBORHOOD</th>\n      <th>BUILDING CLASS CATEGORY</th>\n      <th>TAX CLASS AT PRESENT</th>\n      <th>BLOCK</th>\n      <th>LOT</th>\n      <th>EASE-MENT</th>\n      <th>BUILDING CLASS AT PRESENT</th>\n      <th>ADDRESS</th>\n      <th>APARTMENT NUMBER</th>\n      <th>...</th>\n      <th>RESIDENTIAL UNITS</th>\n      <th>COMMERCIAL UNITS</th>\n      <th>TOTAL UNITS</th>\n      <th>LAND SQUARE FEET</th>\n      <th>GROSS SQUARE FEET</th>\n      <th>YEAR BUILT</th>\n      <th>TAX CLASS AT TIME OF SALE</th>\n      <th>BUILDING CLASS AT TIME OF SALE</th>\n      <th>SALE PRICE</th>\n      <th>SALE DATE</th>\n    </tr>\n  </thead>\n  <tbody>\n    <tr>\n      <th>16325</th>\n      <td>NaN</td>\n      <td>NaN</td>\n      <td>NaN</td>\n      <td>NaN</td>\n      <td>NaN</td>\n      <td>NaN</td>\n      <td>NaN</td>\n      <td>NaN</td>\n      <td>NaN</td>\n      <td>NaN</td>\n      <td>...</td>\n      <td>NaN</td>\n      <td>NaN</td>\n      <td>NaN</td>\n      <td>NaN</td>\n      <td>NaN</td>\n      <td>NaN</td>\n      <td>NaN</td>\n      <td>NaN</td>\n      <td>NaN</td>\n      <td>NaN</td>\n    </tr>\n    <tr>\n      <th>15486</th>\n      <td>NaN</td>\n      <td>NaN</td>\n      <td>NaN</td>\n      <td>NaN</td>\n      <td>NaN</td>\n      <td>NaN</td>\n      <td>NaN</td>\n      <td>NaN</td>\n      <td>NaN</td>\n      <td>NaN</td>\n      <td>...</td>\n      <td>NaN</td>\n      <td>NaN</td>\n      <td>NaN</td>\n      <td>NaN</td>\n      <td>NaN</td>\n      <td>NaN</td>\n      <td>NaN</td>\n      <td>NaN</td>\n      <td>NaN</td>\n      <td>NaN</td>\n    </tr>\n    <tr>\n      <th>2595</th>\n      <td>1.0</td>\n      <td>GREENWICH VILLAGE-WEST</td>\n      <td>10 COOPS - ELEVATOR APARTMENTS</td>\n      <td>2</td>\n      <td>640.0</td>\n      <td>12.0</td>\n      <td>NaN</td>\n      <td>D0</td>\n      <td>380 WEST 12TH STREET, 2G</td>\n      <td>NaN</td>\n      <td>...</td>\n      <td>NaN</td>\n      <td>NaN</td>\n      <td>NaN</td>\n      <td>NaN</td>\n      <td>NaN</td>\n      <td>1939.0</td>\n      <td>2.0</td>\n      <td>D0</td>\n      <td>0</td>\n      <td>2020/11/23</td>\n    </tr>\n    <tr>\n      <th>9251</th>\n      <td>1.0</td>\n      <td>UPPER EAST SIDE (79-96)</td>\n      <td>13 CONDOS - ELEVATOR APARTMENTS</td>\n      <td>2</td>\n      <td>1566.0</td>\n      <td>1075.0</td>\n      <td>NaN</td>\n      <td>R4</td>\n      <td>455 EAST 86TH STREET, 10C</td>\n      <td>10C</td>\n      <td>...</td>\n      <td>1.0</td>\n      <td>NaN</td>\n      <td>1.0</td>\n      <td>NaN</td>\n      <td>NaN</td>\n      <td>1986.0</td>\n      <td>2.0</td>\n      <td>R4</td>\n      <td>0</td>\n      <td>2020/10/1</td>\n    </tr>\n    <tr>\n      <th>13338</th>\n      <td>NaN</td>\n      <td>NaN</td>\n      <td>NaN</td>\n      <td>NaN</td>\n      <td>NaN</td>\n      <td>NaN</td>\n      <td>NaN</td>\n      <td>NaN</td>\n      <td>NaN</td>\n      <td>NaN</td>\n      <td>...</td>\n      <td>NaN</td>\n      <td>NaN</td>\n      <td>NaN</td>\n      <td>NaN</td>\n      <td>NaN</td>\n      <td>NaN</td>\n      <td>NaN</td>\n      <td>NaN</td>\n      <td>NaN</td>\n      <td>NaN</td>\n    </tr>\n  </tbody>\n</table>\n<p>5 rows × 21 columns</p>\n</div>"
     },
     "metadata": {},
     "execution_count": 4
    }
   ],
   "source": [
    "datas.sample(5)"
   ]
  },
  {
   "cell_type": "code",
   "execution_count": 5,
   "metadata": {},
   "outputs": [
    {
     "output_type": "execute_result",
     "data": {
      "text/plain": [
       "       BOROUGH NEIGHBORHOOD BUILDING CLASS CATEGORY TAX CLASS AT PRESENT  \\\n",
       "17757      NaN          NaN                     NaN                  NaN   \n",
       "17758      NaN          NaN                     NaN                  NaN   \n",
       "17759      NaN          NaN                     NaN                  NaN   \n",
       "17760      NaN          NaN                     NaN                  NaN   \n",
       "17761      NaN          NaN                     NaN                  NaN   \n",
       "\n",
       "       BLOCK  LOT  EASE-MENT BUILDING CLASS AT PRESENT ADDRESS  \\\n",
       "17757    NaN  NaN        NaN                       NaN     NaN   \n",
       "17758    NaN  NaN        NaN                       NaN     NaN   \n",
       "17759    NaN  NaN        NaN                       NaN     NaN   \n",
       "17760    NaN  NaN        NaN                       NaN     NaN   \n",
       "17761    NaN  NaN        NaN                       NaN     NaN   \n",
       "\n",
       "      APARTMENT NUMBER  ...  RESIDENTIAL UNITS  COMMERCIAL UNITS  TOTAL UNITS  \\\n",
       "17757              NaN  ...                NaN               NaN          NaN   \n",
       "17758              NaN  ...                NaN               NaN          NaN   \n",
       "17759              NaN  ...                NaN               NaN          NaN   \n",
       "17760              NaN  ...                NaN               NaN          NaN   \n",
       "17761              NaN  ...                NaN               NaN          NaN   \n",
       "\n",
       "       LAND SQUARE FEET GROSS SQUARE FEET YEAR BUILT  \\\n",
       "17757               NaN               NaN        NaN   \n",
       "17758               NaN               NaN        NaN   \n",
       "17759               NaN               NaN        NaN   \n",
       "17760               NaN               NaN        NaN   \n",
       "17761               NaN               NaN        NaN   \n",
       "\n",
       "       TAX CLASS AT TIME OF SALE  BUILDING CLASS AT TIME OF SALE  SALE PRICE   \\\n",
       "17757                        NaN                             NaN          NaN   \n",
       "17758                        NaN                             NaN          NaN   \n",
       "17759                        NaN                             NaN          NaN   \n",
       "17760                        NaN                             NaN          NaN   \n",
       "17761                        NaN                             NaN          NaN   \n",
       "\n",
       "      SALE DATE  \n",
       "17757       NaN  \n",
       "17758       NaN  \n",
       "17759       NaN  \n",
       "17760       NaN  \n",
       "17761       NaN  \n",
       "\n",
       "[5 rows x 21 columns]"
      ],
      "text/html": "<div>\n<style scoped>\n    .dataframe tbody tr th:only-of-type {\n        vertical-align: middle;\n    }\n\n    .dataframe tbody tr th {\n        vertical-align: top;\n    }\n\n    .dataframe thead th {\n        text-align: right;\n    }\n</style>\n<table border=\"1\" class=\"dataframe\">\n  <thead>\n    <tr style=\"text-align: right;\">\n      <th></th>\n      <th>BOROUGH</th>\n      <th>NEIGHBORHOOD</th>\n      <th>BUILDING CLASS CATEGORY</th>\n      <th>TAX CLASS AT PRESENT</th>\n      <th>BLOCK</th>\n      <th>LOT</th>\n      <th>EASE-MENT</th>\n      <th>BUILDING CLASS AT PRESENT</th>\n      <th>ADDRESS</th>\n      <th>APARTMENT NUMBER</th>\n      <th>...</th>\n      <th>RESIDENTIAL UNITS</th>\n      <th>COMMERCIAL UNITS</th>\n      <th>TOTAL UNITS</th>\n      <th>LAND SQUARE FEET</th>\n      <th>GROSS SQUARE FEET</th>\n      <th>YEAR BUILT</th>\n      <th>TAX CLASS AT TIME OF SALE</th>\n      <th>BUILDING CLASS AT TIME OF SALE</th>\n      <th>SALE PRICE</th>\n      <th>SALE DATE</th>\n    </tr>\n  </thead>\n  <tbody>\n    <tr>\n      <th>17757</th>\n      <td>NaN</td>\n      <td>NaN</td>\n      <td>NaN</td>\n      <td>NaN</td>\n      <td>NaN</td>\n      <td>NaN</td>\n      <td>NaN</td>\n      <td>NaN</td>\n      <td>NaN</td>\n      <td>NaN</td>\n      <td>...</td>\n      <td>NaN</td>\n      <td>NaN</td>\n      <td>NaN</td>\n      <td>NaN</td>\n      <td>NaN</td>\n      <td>NaN</td>\n      <td>NaN</td>\n      <td>NaN</td>\n      <td>NaN</td>\n      <td>NaN</td>\n    </tr>\n    <tr>\n      <th>17758</th>\n      <td>NaN</td>\n      <td>NaN</td>\n      <td>NaN</td>\n      <td>NaN</td>\n      <td>NaN</td>\n      <td>NaN</td>\n      <td>NaN</td>\n      <td>NaN</td>\n      <td>NaN</td>\n      <td>NaN</td>\n      <td>...</td>\n      <td>NaN</td>\n      <td>NaN</td>\n      <td>NaN</td>\n      <td>NaN</td>\n      <td>NaN</td>\n      <td>NaN</td>\n      <td>NaN</td>\n      <td>NaN</td>\n      <td>NaN</td>\n      <td>NaN</td>\n    </tr>\n    <tr>\n      <th>17759</th>\n      <td>NaN</td>\n      <td>NaN</td>\n      <td>NaN</td>\n      <td>NaN</td>\n      <td>NaN</td>\n      <td>NaN</td>\n      <td>NaN</td>\n      <td>NaN</td>\n      <td>NaN</td>\n      <td>NaN</td>\n      <td>...</td>\n      <td>NaN</td>\n      <td>NaN</td>\n      <td>NaN</td>\n      <td>NaN</td>\n      <td>NaN</td>\n      <td>NaN</td>\n      <td>NaN</td>\n      <td>NaN</td>\n      <td>NaN</td>\n      <td>NaN</td>\n    </tr>\n    <tr>\n      <th>17760</th>\n      <td>NaN</td>\n      <td>NaN</td>\n      <td>NaN</td>\n      <td>NaN</td>\n      <td>NaN</td>\n      <td>NaN</td>\n      <td>NaN</td>\n      <td>NaN</td>\n      <td>NaN</td>\n      <td>NaN</td>\n      <td>...</td>\n      <td>NaN</td>\n      <td>NaN</td>\n      <td>NaN</td>\n      <td>NaN</td>\n      <td>NaN</td>\n      <td>NaN</td>\n      <td>NaN</td>\n      <td>NaN</td>\n      <td>NaN</td>\n      <td>NaN</td>\n    </tr>\n    <tr>\n      <th>17761</th>\n      <td>NaN</td>\n      <td>NaN</td>\n      <td>NaN</td>\n      <td>NaN</td>\n      <td>NaN</td>\n      <td>NaN</td>\n      <td>NaN</td>\n      <td>NaN</td>\n      <td>NaN</td>\n      <td>NaN</td>\n      <td>...</td>\n      <td>NaN</td>\n      <td>NaN</td>\n      <td>NaN</td>\n      <td>NaN</td>\n      <td>NaN</td>\n      <td>NaN</td>\n      <td>NaN</td>\n      <td>NaN</td>\n      <td>NaN</td>\n      <td>NaN</td>\n    </tr>\n  </tbody>\n</table>\n<p>5 rows × 21 columns</p>\n</div>"
     },
     "metadata": {},
     "execution_count": 5
    }
   ],
   "source": [
    "datas.tail(5)"
   ]
  },
  {
   "cell_type": "code",
   "execution_count": 6,
   "metadata": {},
   "outputs": [
    {
     "output_type": "stream",
     "name": "stdout",
     "text": [
      "BOROUGH <class 'str'> 11732\nNEIGHBORHOOD <class 'str'> 11732\nBUILDING CLASS CATEGORY <class 'str'> 11732\nTAX CLASS AT PRESENT <class 'str'> 11701\nBLOCK <class 'str'> 11732\nLOT <class 'str'> 11732\nEASE-MENT <class 'str'> 0\nBUILDING CLASS AT PRESENT <class 'str'> 11701\nADDRESS <class 'str'> 11732\nAPARTMENT NUMBER <class 'str'> 5425\nZIP CODE <class 'str'> 11732\nRESIDENTIAL UNITS <class 'str'> 6131\nCOMMERCIAL UNITS <class 'str'> 1569\nTOTAL UNITS <class 'str'> 6553\nLAND SQUARE FEET <class 'str'> 1147\nGROSS SQUARE FEET <class 'str'> 1147\nYEAR BUILT <class 'str'> 10394\nTAX CLASS AT TIME OF SALE <class 'str'> 11732\nBUILDING CLASS AT TIME OF SALE <class 'str'> 11732\n SALE PRICE  <class 'str'> 11732\nSALE DATE <class 'str'> 11732\n"
     ]
    }
   ],
   "source": [
    "#3.describe the rows and data types\n",
    "for a in datas.columns:\n",
    "    print(a,type(a),len(datas[datas[a].notna() == True]))"
   ]
  },
  {
   "cell_type": "markdown",
   "metadata": {},
   "source": [
    "wrong type: \n",
    "RESIDENTIAL UNITS(double),LAND SQUARE FEET(double), GROSS SQUARE FEET(double), YEAR BUILT(int), TAX CLASS AT TIME OF SALE(double), SALE PRICE(double),\n"
   ]
  },
  {
   "cell_type": "code",
   "execution_count": 7,
   "metadata": {},
   "outputs": [],
   "source": [
    "#4.initial column (or row) clean-up\n",
    "datas = datas.drop(columns='EASE-MENT')\n",
    "datas = datas.drop(columns='APARTMENT NUMBER')\n",
    "datas = datas.drop(columns='GROSS SQUARE FEET')\n",
    "\n",
    "datas = datas.rename(columns={\" SALE PRICE \": \"SALE PRICE\", \"BOROUGH\": \"BOROUGH TYPE\"})\n",
    "datas = datas.dropna(how='all')"
   ]
  },
  {
   "cell_type": "markdown",
   "metadata": {},
   "source": [
    "I choose to drop three columns that with little number of noNA, which are EASE-MENT ,APARTMENT NUMBER and GROSS SQUARE FEET\n",
    "\n",
    "Finally I make a dropna for those data with all columns = NA since I think these datas are totally useless.\n",
    "\n"
   ]
  },
  {
   "cell_type": "code",
   "execution_count": 8,
   "metadata": {},
   "outputs": [
    {
     "output_type": "execute_result",
     "data": {
      "text/plain": [
       "UPPER EAST SIDE (59-79)      1240\n",
       "UPPER WEST SIDE (59-79)      1186\n",
       "UPPER EAST SIDE (79-96)      1057\n",
       "MIDTOWN EAST                  735\n",
       "UPPER WEST SIDE (79-96)       589\n",
       "MIDTOWN WEST                  527\n",
       "HARLEM-CENTRAL                502\n",
       "GREENWICH VILLAGE-CENTRAL     454\n",
       "CHELSEA                       437\n",
       "GREENWICH VILLAGE-WEST        435\n",
       "MURRAY HILL                   359\n",
       "TRIBECA                       340\n",
       "GRAMERCY                      316\n",
       "UPPER WEST SIDE (96-116)      307\n",
       "LOWER EAST SIDE               283\n",
       "MIDTOWN CBD                   241\n",
       "SOHO                          226\n",
       "FINANCIAL                     211\n",
       "KIPS BAY                      206\n",
       "FLATIRON                      202\n",
       "CLINTON                       195\n",
       "WASHINGTON HEIGHTS UPPER      179\n",
       "MANHATTAN VALLEY              178\n",
       "CIVIC CENTER                  175\n",
       "HARLEM-EAST                   143\n",
       "SOUTHBRIDGE                   134\n",
       "EAST VILLAGE                  124\n",
       "ALPHABET CITY                 117\n",
       "WASHINGTON HEIGHTS LOWER       94\n",
       "INWOOD                         88\n",
       "HARLEM-UPPER                   85\n",
       "FASHION                        78\n",
       "CHINATOWN                      60\n",
       "JAVITS CENTER                  57\n",
       "LITTLE ITALY                   54\n",
       "MORNINGSIDE HEIGHTS            41\n",
       "UPPER EAST SIDE (96-110)       34\n",
       "HARLEM-WEST                    22\n",
       "ROOSEVELT ISLAND               21\n",
       "Name: NEIGHBORHOOD, dtype: int64"
      ]
     },
     "metadata": {},
     "execution_count": 8
    }
   ],
   "source": [
    "#5.determine the top three neighborhoods that had the most properties sold (no need to calculate units, the actual number of properties is adequate)\n",
    "datas['NEIGHBORHOOD'].value_counts()"
   ]
  },
  {
   "cell_type": "markdown",
   "metadata": {},
   "source": [
    "So the top three neighborhoods are:UPPER EAST SIDE (59-79),UPPER WEST SIDE (59-79) and UPPER EAST SIDE (79-96)"
   ]
  },
  {
   "cell_type": "code",
   "execution_count": 9,
   "metadata": {},
   "outputs": [
    {
     "output_type": "execute_result",
     "data": {
      "text/plain": [
       "13 CONDOS - ELEVATOR APARTMENTS               4677\n",
       "10 COOPS - ELEVATOR APARTMENTS                3996\n",
       "17 CONDO COOPS                                 618\n",
       "09 COOPS - WALKUP APARTMENTS                   534\n",
       "07 RENTALS - WALKUP APARTMENTS                 443\n",
       "15 CONDOS - 2-10 UNIT RESIDENTIAL              203\n",
       "43 CONDO OFFICE BUILDINGS                      137\n",
       "08 RENTALS - ELEVATOR APARTMENTS               118\n",
       "47 CONDO NON-BUSINESS STORAGE                  107\n",
       "02 TWO FAMILY DWELLINGS                         98\n",
       "21 OFFICE BUILDINGS                             96\n",
       "01 ONE FAMILY DWELLINGS                         94\n",
       "12 CONDOS - WALKUP APARTMENTS                   72\n",
       "22 STORE BUILDINGS                              67\n",
       "46 CONDO STORE BUILDINGS                        52\n",
       "14 RENTALS - 4-10 UNIT                          52\n",
       "45 CONDO HOTELS                                 52\n",
       "03 THREE FAMILY DWELLINGS                       48\n",
       "44 CONDO PARKING                                47\n",
       "31 COMMERCIAL VACANT LAND                       38\n",
       "11 SPECIAL CONDO BILLING LOTS                   33\n",
       "04 TAX CLASS 1 CONDOS                           20\n",
       "16 CONDOS - 2-10 UNIT WITH COMMERCIAL UNIT      20\n",
       "29 COMMERCIAL GARAGES                           16\n",
       "28 COMMERCIAL CONDOS                            16\n",
       "42 CONDO CULTURAL/MEDICAL/EDUCATIONAL/ETC       13\n",
       "37 RELIGIOUS FACILITIES                         13\n",
       "25 LUXURY HOTELS                                12\n",
       "33 EDUCATIONAL FACILITIES                        8\n",
       "26 OTHER HOTELS                                  8\n",
       "41 TAX CLASS 4 - OTHER                           6\n",
       "35 INDOOR PUBLIC AND CULTURAL FACILITIES         4\n",
       "49 CONDO WAREHOUSES/FACTORY/INDUS                4\n",
       "32 HOSPITAL AND HEALTH FACILITIES                3\n",
       "48 CONDO TERRACES/GARDENS/CABANAS                2\n",
       "38 ASYLUMS AND HOMES                             2\n",
       "34 THEATRES                                      1\n",
       "36 OUTDOOR RECREATIONAL FACILITIES               1\n",
       "27 FACTORIES                                     1\n",
       "Name: BUILDING CLASS CATEGORY, dtype: int64"
      ]
     },
     "metadata": {},
     "execution_count": 9
    }
   ],
   "source": [
    "#6.describe the kind of buildings that were sold\n",
    "datas['BUILDING CLASS CATEGORY'].value_counts()"
   ]
  },
  {
   "cell_type": "code",
   "execution_count": 10,
   "metadata": {},
   "outputs": [
    {
     "output_type": "execute_result",
     "data": {
      "text/plain": [
       "{'ONE FAMILY DWELLINGS': 94, 'OFFICE BUILDINGS': 233, 'CONDOMINIUMS': 6057}"
      ]
     },
     "metadata": {},
     "execution_count": 10
    }
   ],
   "source": [
    "dictForGraph = {}\n",
    "condoList = ['13 CONDOS - ELEVATOR APARTMENTS','17 CONDO COOPS']\n",
    "a = len(datas[datas['BUILDING CLASS CATEGORY'] == '01 ONE FAMILY DWELLINGS'].index)\n",
    "b = len(datas[datas['BUILDING CLASS CATEGORY'] == '21 OFFICE BUILDINGS'].index)\n",
    "c = len(datas[datas['BUILDING CLASS CATEGORY'] == '43 CONDO OFFICE BUILDINGS'].index)\n",
    "dictForGraph['ONE FAMILY DWELLINGS'] = a\n",
    "dictForGraph['OFFICE BUILDINGS'] = b+c\n",
    "#I used the most stupid way(counting which line has and use == condition), so I give up writing this and directly count and mark the data here.\n",
    "dictForGraph['CONDOMINIUMS'] = 6057\n",
    "dictForGraph"
   ]
  },
  {
   "cell_type": "code",
   "execution_count": 11,
   "metadata": {},
   "outputs": [
    {
     "output_type": "execute_result",
     "data": {
      "text/plain": [
       "<BarContainer object of 3 artists>"
      ]
     },
     "metadata": {},
     "execution_count": 11
    },
    {
     "output_type": "display_data",
     "data": {
      "text/plain": "<Figure size 432x288 with 1 Axes>",
      "image/svg+xml": "<?xml version=\"1.0\" encoding=\"utf-8\" standalone=\"no\"?>\r\n<!DOCTYPE svg PUBLIC \"-//W3C//DTD SVG 1.1//EN\"\r\n  \"http://www.w3.org/Graphics/SVG/1.1/DTD/svg11.dtd\">\r\n<!-- Created with matplotlib (https://matplotlib.org/) -->\r\n<svg height=\"248.518125pt\" version=\"1.1\" viewBox=\"0 0 381.65 248.518125\" width=\"381.65pt\" xmlns=\"http://www.w3.org/2000/svg\" xmlns:xlink=\"http://www.w3.org/1999/xlink\">\r\n <metadata>\r\n  <rdf:RDF xmlns:cc=\"http://creativecommons.org/ns#\" xmlns:dc=\"http://purl.org/dc/elements/1.1/\" xmlns:rdf=\"http://www.w3.org/1999/02/22-rdf-syntax-ns#\">\r\n   <cc:Work>\r\n    <dc:type rdf:resource=\"http://purl.org/dc/dcmitype/StillImage\"/>\r\n    <dc:date>2021-03-03T20:48:17.645775</dc:date>\r\n    <dc:format>image/svg+xml</dc:format>\r\n    <dc:creator>\r\n     <cc:Agent>\r\n      <dc:title>Matplotlib v3.3.2, https://matplotlib.org/</dc:title>\r\n     </cc:Agent>\r\n    </dc:creator>\r\n   </cc:Work>\r\n  </rdf:RDF>\r\n </metadata>\r\n <defs>\r\n  <style type=\"text/css\">*{stroke-linecap:butt;stroke-linejoin:round;}</style>\r\n </defs>\r\n <g id=\"figure_1\">\r\n  <g id=\"patch_1\">\r\n   <path d=\"M -0 248.518125 \r\nL 381.65 248.518125 \r\nL 381.65 0 \r\nL -0 0 \r\nz\r\n\" style=\"fill:none;\"/>\r\n  </g>\r\n  <g id=\"axes_1\">\r\n   <g id=\"patch_2\">\r\n    <path d=\"M 39.65 224.64 \r\nL 374.45 224.64 \r\nL 374.45 7.2 \r\nL 39.65 7.2 \r\nz\r\n\" style=\"fill:#ffffff;\"/>\r\n   </g>\r\n   <g id=\"patch_3\">\r\n    <path clip-path=\"url(#p827fe952db)\" d=\"M 54.868182 224.64 \r\nL 115.740909 224.64 \r\nL 115.740909 221.426188 \r\nL 54.868182 221.426188 \r\nz\r\n\" style=\"fill:#0000ff;stroke:#808080;stroke-linejoin:miter;\"/>\r\n   </g>\r\n   <g id=\"patch_4\">\r\n    <path clip-path=\"url(#p827fe952db)\" d=\"M 176.613636 224.64 \r\nL 237.486364 224.64 \r\nL 237.486364 216.67385 \r\nL 176.613636 216.67385 \r\nz\r\n\" style=\"fill:#0000ff;stroke:#808080;stroke-linejoin:miter;\"/>\r\n   </g>\r\n   <g id=\"patch_5\">\r\n    <path clip-path=\"url(#p827fe952db)\" d=\"M 298.359091 224.64 \r\nL 359.231818 224.64 \r\nL 359.231818 17.554286 \r\nL 298.359091 17.554286 \r\nz\r\n\" style=\"fill:#0000ff;stroke:#808080;stroke-linejoin:miter;\"/>\r\n   </g>\r\n   <g id=\"matplotlib.axis_1\">\r\n    <g id=\"xtick_1\">\r\n     <g id=\"line2d_1\">\r\n      <defs>\r\n       <path d=\"M 0 0 \r\nL 0 3.5 \r\n\" id=\"m43543a84bd\" style=\"stroke:#000000;stroke-width:0.8;\"/>\r\n      </defs>\r\n      <g>\r\n       <use style=\"stroke:#000000;stroke-width:0.8;\" x=\"85.304545\" xlink:href=\"#m43543a84bd\" y=\"224.64\"/>\r\n      </g>\r\n     </g>\r\n     <g id=\"text_1\">\r\n      <!-- ONE FAMILY DWELLINGS -->\r\n      <g transform=\"translate(24.69517 239.238437)scale(0.1 -0.1)\">\r\n       <defs>\r\n        <path d=\"M 39.40625 66.21875 \r\nQ 28.65625 66.21875 22.328125 58.203125 \r\nQ 16.015625 50.203125 16.015625 36.375 \r\nQ 16.015625 22.609375 22.328125 14.59375 \r\nQ 28.65625 6.59375 39.40625 6.59375 \r\nQ 50.140625 6.59375 56.421875 14.59375 \r\nQ 62.703125 22.609375 62.703125 36.375 \r\nQ 62.703125 50.203125 56.421875 58.203125 \r\nQ 50.140625 66.21875 39.40625 66.21875 \r\nz\r\nM 39.40625 74.21875 \r\nQ 54.734375 74.21875 63.90625 63.9375 \r\nQ 73.09375 53.65625 73.09375 36.375 \r\nQ 73.09375 19.140625 63.90625 8.859375 \r\nQ 54.734375 -1.421875 39.40625 -1.421875 \r\nQ 24.03125 -1.421875 14.8125 8.828125 \r\nQ 5.609375 19.09375 5.609375 36.375 \r\nQ 5.609375 53.65625 14.8125 63.9375 \r\nQ 24.03125 74.21875 39.40625 74.21875 \r\nz\r\n\" id=\"DejaVuSans-79\"/>\r\n        <path d=\"M 9.8125 72.90625 \r\nL 23.09375 72.90625 \r\nL 55.421875 11.921875 \r\nL 55.421875 72.90625 \r\nL 64.984375 72.90625 \r\nL 64.984375 0 \r\nL 51.703125 0 \r\nL 19.390625 60.984375 \r\nL 19.390625 0 \r\nL 9.8125 0 \r\nz\r\n\" id=\"DejaVuSans-78\"/>\r\n        <path d=\"M 9.8125 72.90625 \r\nL 55.90625 72.90625 \r\nL 55.90625 64.59375 \r\nL 19.671875 64.59375 \r\nL 19.671875 43.015625 \r\nL 54.390625 43.015625 \r\nL 54.390625 34.71875 \r\nL 19.671875 34.71875 \r\nL 19.671875 8.296875 \r\nL 56.78125 8.296875 \r\nL 56.78125 0 \r\nL 9.8125 0 \r\nz\r\n\" id=\"DejaVuSans-69\"/>\r\n        <path id=\"DejaVuSans-32\"/>\r\n        <path d=\"M 9.8125 72.90625 \r\nL 51.703125 72.90625 \r\nL 51.703125 64.59375 \r\nL 19.671875 64.59375 \r\nL 19.671875 43.109375 \r\nL 48.578125 43.109375 \r\nL 48.578125 34.8125 \r\nL 19.671875 34.8125 \r\nL 19.671875 0 \r\nL 9.8125 0 \r\nz\r\n\" id=\"DejaVuSans-70\"/>\r\n        <path d=\"M 34.1875 63.1875 \r\nL 20.796875 26.90625 \r\nL 47.609375 26.90625 \r\nz\r\nM 28.609375 72.90625 \r\nL 39.796875 72.90625 \r\nL 67.578125 0 \r\nL 57.328125 0 \r\nL 50.6875 18.703125 \r\nL 17.828125 18.703125 \r\nL 11.1875 0 \r\nL 0.78125 0 \r\nz\r\n\" id=\"DejaVuSans-65\"/>\r\n        <path d=\"M 9.8125 72.90625 \r\nL 24.515625 72.90625 \r\nL 43.109375 23.296875 \r\nL 61.8125 72.90625 \r\nL 76.515625 72.90625 \r\nL 76.515625 0 \r\nL 66.890625 0 \r\nL 66.890625 64.015625 \r\nL 48.09375 14.015625 \r\nL 38.1875 14.015625 \r\nL 19.390625 64.015625 \r\nL 19.390625 0 \r\nL 9.8125 0 \r\nz\r\n\" id=\"DejaVuSans-77\"/>\r\n        <path d=\"M 9.8125 72.90625 \r\nL 19.671875 72.90625 \r\nL 19.671875 0 \r\nL 9.8125 0 \r\nz\r\n\" id=\"DejaVuSans-73\"/>\r\n        <path d=\"M 9.8125 72.90625 \r\nL 19.671875 72.90625 \r\nL 19.671875 8.296875 \r\nL 55.171875 8.296875 \r\nL 55.171875 0 \r\nL 9.8125 0 \r\nz\r\n\" id=\"DejaVuSans-76\"/>\r\n        <path d=\"M -0.203125 72.90625 \r\nL 10.40625 72.90625 \r\nL 30.609375 42.921875 \r\nL 50.6875 72.90625 \r\nL 61.28125 72.90625 \r\nL 35.5 34.71875 \r\nL 35.5 0 \r\nL 25.59375 0 \r\nL 25.59375 34.71875 \r\nz\r\n\" id=\"DejaVuSans-89\"/>\r\n        <path d=\"M 19.671875 64.796875 \r\nL 19.671875 8.109375 \r\nL 31.59375 8.109375 \r\nQ 46.6875 8.109375 53.6875 14.9375 \r\nQ 60.6875 21.78125 60.6875 36.53125 \r\nQ 60.6875 51.171875 53.6875 57.984375 \r\nQ 46.6875 64.796875 31.59375 64.796875 \r\nz\r\nM 9.8125 72.90625 \r\nL 30.078125 72.90625 \r\nQ 51.265625 72.90625 61.171875 64.09375 \r\nQ 71.09375 55.28125 71.09375 36.53125 \r\nQ 71.09375 17.671875 61.125 8.828125 \r\nQ 51.171875 0 30.078125 0 \r\nL 9.8125 0 \r\nz\r\n\" id=\"DejaVuSans-68\"/>\r\n        <path d=\"M 3.328125 72.90625 \r\nL 13.28125 72.90625 \r\nL 28.609375 11.28125 \r\nL 43.890625 72.90625 \r\nL 54.984375 72.90625 \r\nL 70.3125 11.28125 \r\nL 85.59375 72.90625 \r\nL 95.609375 72.90625 \r\nL 77.296875 0 \r\nL 64.890625 0 \r\nL 49.515625 63.28125 \r\nL 33.984375 0 \r\nL 21.578125 0 \r\nz\r\n\" id=\"DejaVuSans-87\"/>\r\n        <path d=\"M 59.515625 10.40625 \r\nL 59.515625 29.984375 \r\nL 43.40625 29.984375 \r\nL 43.40625 38.09375 \r\nL 69.28125 38.09375 \r\nL 69.28125 6.78125 \r\nQ 63.578125 2.734375 56.6875 0.65625 \r\nQ 49.8125 -1.421875 42 -1.421875 \r\nQ 24.90625 -1.421875 15.25 8.5625 \r\nQ 5.609375 18.5625 5.609375 36.375 \r\nQ 5.609375 54.25 15.25 64.234375 \r\nQ 24.90625 74.21875 42 74.21875 \r\nQ 49.125 74.21875 55.546875 72.453125 \r\nQ 61.96875 70.703125 67.390625 67.28125 \r\nL 67.390625 56.78125 \r\nQ 61.921875 61.421875 55.765625 63.765625 \r\nQ 49.609375 66.109375 42.828125 66.109375 \r\nQ 29.4375 66.109375 22.71875 58.640625 \r\nQ 16.015625 51.171875 16.015625 36.375 \r\nQ 16.015625 21.625 22.71875 14.15625 \r\nQ 29.4375 6.6875 42.828125 6.6875 \r\nQ 48.046875 6.6875 52.140625 7.59375 \r\nQ 56.25 8.5 59.515625 10.40625 \r\nz\r\n\" id=\"DejaVuSans-71\"/>\r\n        <path d=\"M 53.515625 70.515625 \r\nL 53.515625 60.890625 \r\nQ 47.90625 63.578125 42.921875 64.890625 \r\nQ 37.9375 66.21875 33.296875 66.21875 \r\nQ 25.25 66.21875 20.875 63.09375 \r\nQ 16.5 59.96875 16.5 54.203125 \r\nQ 16.5 49.359375 19.40625 46.890625 \r\nQ 22.3125 44.4375 30.421875 42.921875 \r\nL 36.375 41.703125 \r\nQ 47.40625 39.59375 52.65625 34.296875 \r\nQ 57.90625 29 57.90625 20.125 \r\nQ 57.90625 9.515625 50.796875 4.046875 \r\nQ 43.703125 -1.421875 29.984375 -1.421875 \r\nQ 24.8125 -1.421875 18.96875 -0.25 \r\nQ 13.140625 0.921875 6.890625 3.21875 \r\nL 6.890625 13.375 \r\nQ 12.890625 10.015625 18.65625 8.296875 \r\nQ 24.421875 6.59375 29.984375 6.59375 \r\nQ 38.421875 6.59375 43.015625 9.90625 \r\nQ 47.609375 13.234375 47.609375 19.390625 \r\nQ 47.609375 24.75 44.3125 27.78125 \r\nQ 41.015625 30.8125 33.5 32.328125 \r\nL 27.484375 33.5 \r\nQ 16.453125 35.6875 11.515625 40.375 \r\nQ 6.59375 45.0625 6.59375 53.421875 \r\nQ 6.59375 63.09375 13.40625 68.65625 \r\nQ 20.21875 74.21875 32.171875 74.21875 \r\nQ 37.3125 74.21875 42.625 73.28125 \r\nQ 47.953125 72.359375 53.515625 70.515625 \r\nz\r\n\" id=\"DejaVuSans-83\"/>\r\n       </defs>\r\n       <use xlink:href=\"#DejaVuSans-79\"/>\r\n       <use x=\"78.710938\" xlink:href=\"#DejaVuSans-78\"/>\r\n       <use x=\"153.515625\" xlink:href=\"#DejaVuSans-69\"/>\r\n       <use x=\"216.699219\" xlink:href=\"#DejaVuSans-32\"/>\r\n       <use x=\"248.486328\" xlink:href=\"#DejaVuSans-70\"/>\r\n       <use x=\"296.880859\" xlink:href=\"#DejaVuSans-65\"/>\r\n       <use x=\"365.289062\" xlink:href=\"#DejaVuSans-77\"/>\r\n       <use x=\"451.568359\" xlink:href=\"#DejaVuSans-73\"/>\r\n       <use x=\"481.060547\" xlink:href=\"#DejaVuSans-76\"/>\r\n       <use x=\"523.523438\" xlink:href=\"#DejaVuSans-89\"/>\r\n       <use x=\"584.607422\" xlink:href=\"#DejaVuSans-32\"/>\r\n       <use x=\"616.394531\" xlink:href=\"#DejaVuSans-68\"/>\r\n       <use x=\"693.396484\" xlink:href=\"#DejaVuSans-87\"/>\r\n       <use x=\"792.273438\" xlink:href=\"#DejaVuSans-69\"/>\r\n       <use x=\"855.457031\" xlink:href=\"#DejaVuSans-76\"/>\r\n       <use x=\"911.169922\" xlink:href=\"#DejaVuSans-76\"/>\r\n       <use x=\"966.882812\" xlink:href=\"#DejaVuSans-73\"/>\r\n       <use x=\"996.375\" xlink:href=\"#DejaVuSans-78\"/>\r\n       <use x=\"1071.179688\" xlink:href=\"#DejaVuSans-71\"/>\r\n       <use x=\"1148.669922\" xlink:href=\"#DejaVuSans-83\"/>\r\n      </g>\r\n     </g>\r\n    </g>\r\n    <g id=\"xtick_2\">\r\n     <g id=\"line2d_2\">\r\n      <g>\r\n       <use style=\"stroke:#000000;stroke-width:0.8;\" x=\"207.05\" xlink:href=\"#m43543a84bd\" y=\"224.64\"/>\r\n      </g>\r\n     </g>\r\n     <g id=\"text_2\">\r\n      <!-- OFFICE BUILDINGS -->\r\n      <g transform=\"translate(160.182813 239.238437)scale(0.1 -0.1)\">\r\n       <defs>\r\n        <path d=\"M 64.40625 67.28125 \r\nL 64.40625 56.890625 \r\nQ 59.421875 61.53125 53.78125 63.8125 \r\nQ 48.140625 66.109375 41.796875 66.109375 \r\nQ 29.296875 66.109375 22.65625 58.46875 \r\nQ 16.015625 50.828125 16.015625 36.375 \r\nQ 16.015625 21.96875 22.65625 14.328125 \r\nQ 29.296875 6.6875 41.796875 6.6875 \r\nQ 48.140625 6.6875 53.78125 8.984375 \r\nQ 59.421875 11.28125 64.40625 15.921875 \r\nL 64.40625 5.609375 \r\nQ 59.234375 2.09375 53.4375 0.328125 \r\nQ 47.65625 -1.421875 41.21875 -1.421875 \r\nQ 24.65625 -1.421875 15.125 8.703125 \r\nQ 5.609375 18.84375 5.609375 36.375 \r\nQ 5.609375 53.953125 15.125 64.078125 \r\nQ 24.65625 74.21875 41.21875 74.21875 \r\nQ 47.75 74.21875 53.53125 72.484375 \r\nQ 59.328125 70.75 64.40625 67.28125 \r\nz\r\n\" id=\"DejaVuSans-67\"/>\r\n        <path d=\"M 19.671875 34.8125 \r\nL 19.671875 8.109375 \r\nL 35.5 8.109375 \r\nQ 43.453125 8.109375 47.28125 11.40625 \r\nQ 51.125 14.703125 51.125 21.484375 \r\nQ 51.125 28.328125 47.28125 31.5625 \r\nQ 43.453125 34.8125 35.5 34.8125 \r\nz\r\nM 19.671875 64.796875 \r\nL 19.671875 42.828125 \r\nL 34.28125 42.828125 \r\nQ 41.5 42.828125 45.03125 45.53125 \r\nQ 48.578125 48.25 48.578125 53.8125 \r\nQ 48.578125 59.328125 45.03125 62.0625 \r\nQ 41.5 64.796875 34.28125 64.796875 \r\nz\r\nM 9.8125 72.90625 \r\nL 35.015625 72.90625 \r\nQ 46.296875 72.90625 52.390625 68.21875 \r\nQ 58.5 63.53125 58.5 54.890625 \r\nQ 58.5 48.1875 55.375 44.234375 \r\nQ 52.25 40.28125 46.1875 39.3125 \r\nQ 53.46875 37.75 57.5 32.78125 \r\nQ 61.53125 27.828125 61.53125 20.40625 \r\nQ 61.53125 10.640625 54.890625 5.3125 \r\nQ 48.25 0 35.984375 0 \r\nL 9.8125 0 \r\nz\r\n\" id=\"DejaVuSans-66\"/>\r\n        <path d=\"M 8.6875 72.90625 \r\nL 18.609375 72.90625 \r\nL 18.609375 28.609375 \r\nQ 18.609375 16.890625 22.84375 11.734375 \r\nQ 27.09375 6.59375 36.625 6.59375 \r\nQ 46.09375 6.59375 50.34375 11.734375 \r\nQ 54.59375 16.890625 54.59375 28.609375 \r\nL 54.59375 72.90625 \r\nL 64.5 72.90625 \r\nL 64.5 27.390625 \r\nQ 64.5 13.140625 57.4375 5.859375 \r\nQ 50.390625 -1.421875 36.625 -1.421875 \r\nQ 22.796875 -1.421875 15.734375 5.859375 \r\nQ 8.6875 13.140625 8.6875 27.390625 \r\nz\r\n\" id=\"DejaVuSans-85\"/>\r\n       </defs>\r\n       <use xlink:href=\"#DejaVuSans-79\"/>\r\n       <use x=\"78.710938\" xlink:href=\"#DejaVuSans-70\"/>\r\n       <use x=\"136.230469\" xlink:href=\"#DejaVuSans-70\"/>\r\n       <use x=\"193.75\" xlink:href=\"#DejaVuSans-73\"/>\r\n       <use x=\"223.242188\" xlink:href=\"#DejaVuSans-67\"/>\r\n       <use x=\"293.066406\" xlink:href=\"#DejaVuSans-69\"/>\r\n       <use x=\"356.25\" xlink:href=\"#DejaVuSans-32\"/>\r\n       <use x=\"388.037109\" xlink:href=\"#DejaVuSans-66\"/>\r\n       <use x=\"456.640625\" xlink:href=\"#DejaVuSans-85\"/>\r\n       <use x=\"529.833984\" xlink:href=\"#DejaVuSans-73\"/>\r\n       <use x=\"559.326172\" xlink:href=\"#DejaVuSans-76\"/>\r\n       <use x=\"615.039062\" xlink:href=\"#DejaVuSans-68\"/>\r\n       <use x=\"692.041016\" xlink:href=\"#DejaVuSans-73\"/>\r\n       <use x=\"721.533203\" xlink:href=\"#DejaVuSans-78\"/>\r\n       <use x=\"796.337891\" xlink:href=\"#DejaVuSans-71\"/>\r\n       <use x=\"873.828125\" xlink:href=\"#DejaVuSans-83\"/>\r\n      </g>\r\n     </g>\r\n    </g>\r\n    <g id=\"xtick_3\">\r\n     <g id=\"line2d_3\">\r\n      <g>\r\n       <use style=\"stroke:#000000;stroke-width:0.8;\" x=\"328.795455\" xlink:href=\"#m43543a84bd\" y=\"224.64\"/>\r\n      </g>\r\n     </g>\r\n     <g id=\"text_3\">\r\n      <!-- CONDOMINIUMS -->\r\n      <g transform=\"translate(287.689205 239.238437)scale(0.1 -0.1)\">\r\n       <use xlink:href=\"#DejaVuSans-67\"/>\r\n       <use x=\"69.824219\" xlink:href=\"#DejaVuSans-79\"/>\r\n       <use x=\"148.535156\" xlink:href=\"#DejaVuSans-78\"/>\r\n       <use x=\"223.339844\" xlink:href=\"#DejaVuSans-68\"/>\r\n       <use x=\"300.341797\" xlink:href=\"#DejaVuSans-79\"/>\r\n       <use x=\"379.052734\" xlink:href=\"#DejaVuSans-77\"/>\r\n       <use x=\"465.332031\" xlink:href=\"#DejaVuSans-73\"/>\r\n       <use x=\"494.824219\" xlink:href=\"#DejaVuSans-78\"/>\r\n       <use x=\"569.628906\" xlink:href=\"#DejaVuSans-73\"/>\r\n       <use x=\"599.121094\" xlink:href=\"#DejaVuSans-85\"/>\r\n       <use x=\"672.314453\" xlink:href=\"#DejaVuSans-77\"/>\r\n       <use x=\"758.59375\" xlink:href=\"#DejaVuSans-83\"/>\r\n      </g>\r\n     </g>\r\n    </g>\r\n   </g>\r\n   <g id=\"matplotlib.axis_2\">\r\n    <g id=\"ytick_1\">\r\n     <g id=\"line2d_4\">\r\n      <defs>\r\n       <path d=\"M 0 0 \r\nL -3.5 0 \r\n\" id=\"m3e4c13ed23\" style=\"stroke:#000000;stroke-width:0.8;\"/>\r\n      </defs>\r\n      <g>\r\n       <use style=\"stroke:#000000;stroke-width:0.8;\" x=\"39.65\" xlink:href=\"#m3e4c13ed23\" y=\"224.64\"/>\r\n      </g>\r\n     </g>\r\n     <g id=\"text_4\">\r\n      <!-- 0 -->\r\n      <g transform=\"translate(26.2875 228.439219)scale(0.1 -0.1)\">\r\n       <defs>\r\n        <path d=\"M 31.78125 66.40625 \r\nQ 24.171875 66.40625 20.328125 58.90625 \r\nQ 16.5 51.421875 16.5 36.375 \r\nQ 16.5 21.390625 20.328125 13.890625 \r\nQ 24.171875 6.390625 31.78125 6.390625 \r\nQ 39.453125 6.390625 43.28125 13.890625 \r\nQ 47.125 21.390625 47.125 36.375 \r\nQ 47.125 51.421875 43.28125 58.90625 \r\nQ 39.453125 66.40625 31.78125 66.40625 \r\nz\r\nM 31.78125 74.21875 \r\nQ 44.046875 74.21875 50.515625 64.515625 \r\nQ 56.984375 54.828125 56.984375 36.375 \r\nQ 56.984375 17.96875 50.515625 8.265625 \r\nQ 44.046875 -1.421875 31.78125 -1.421875 \r\nQ 19.53125 -1.421875 13.0625 8.265625 \r\nQ 6.59375 17.96875 6.59375 36.375 \r\nQ 6.59375 54.828125 13.0625 64.515625 \r\nQ 19.53125 74.21875 31.78125 74.21875 \r\nz\r\n\" id=\"DejaVuSans-48\"/>\r\n       </defs>\r\n       <use xlink:href=\"#DejaVuSans-48\"/>\r\n      </g>\r\n     </g>\r\n    </g>\r\n    <g id=\"ytick_2\">\r\n     <g id=\"line2d_5\">\r\n      <g>\r\n       <use style=\"stroke:#000000;stroke-width:0.8;\" x=\"39.65\" xlink:href=\"#m3e4c13ed23\" y=\"190.450514\"/>\r\n      </g>\r\n     </g>\r\n     <g id=\"text_5\">\r\n      <!-- 1000 -->\r\n      <g transform=\"translate(7.2 194.249733)scale(0.1 -0.1)\">\r\n       <defs>\r\n        <path d=\"M 12.40625 8.296875 \r\nL 28.515625 8.296875 \r\nL 28.515625 63.921875 \r\nL 10.984375 60.40625 \r\nL 10.984375 69.390625 \r\nL 28.421875 72.90625 \r\nL 38.28125 72.90625 \r\nL 38.28125 8.296875 \r\nL 54.390625 8.296875 \r\nL 54.390625 0 \r\nL 12.40625 0 \r\nz\r\n\" id=\"DejaVuSans-49\"/>\r\n       </defs>\r\n       <use xlink:href=\"#DejaVuSans-49\"/>\r\n       <use x=\"63.623047\" xlink:href=\"#DejaVuSans-48\"/>\r\n       <use x=\"127.246094\" xlink:href=\"#DejaVuSans-48\"/>\r\n       <use x=\"190.869141\" xlink:href=\"#DejaVuSans-48\"/>\r\n      </g>\r\n     </g>\r\n    </g>\r\n    <g id=\"ytick_3\">\r\n     <g id=\"line2d_6\">\r\n      <g>\r\n       <use style=\"stroke:#000000;stroke-width:0.8;\" x=\"39.65\" xlink:href=\"#m3e4c13ed23\" y=\"156.261029\"/>\r\n      </g>\r\n     </g>\r\n     <g id=\"text_6\">\r\n      <!-- 2000 -->\r\n      <g transform=\"translate(7.2 160.060248)scale(0.1 -0.1)\">\r\n       <defs>\r\n        <path d=\"M 19.1875 8.296875 \r\nL 53.609375 8.296875 \r\nL 53.609375 0 \r\nL 7.328125 0 \r\nL 7.328125 8.296875 \r\nQ 12.9375 14.109375 22.625 23.890625 \r\nQ 32.328125 33.6875 34.8125 36.53125 \r\nQ 39.546875 41.84375 41.421875 45.53125 \r\nQ 43.3125 49.21875 43.3125 52.78125 \r\nQ 43.3125 58.59375 39.234375 62.25 \r\nQ 35.15625 65.921875 28.609375 65.921875 \r\nQ 23.96875 65.921875 18.8125 64.3125 \r\nQ 13.671875 62.703125 7.8125 59.421875 \r\nL 7.8125 69.390625 \r\nQ 13.765625 71.78125 18.9375 73 \r\nQ 24.125 74.21875 28.421875 74.21875 \r\nQ 39.75 74.21875 46.484375 68.546875 \r\nQ 53.21875 62.890625 53.21875 53.421875 \r\nQ 53.21875 48.921875 51.53125 44.890625 \r\nQ 49.859375 40.875 45.40625 35.40625 \r\nQ 44.1875 33.984375 37.640625 27.21875 \r\nQ 31.109375 20.453125 19.1875 8.296875 \r\nz\r\n\" id=\"DejaVuSans-50\"/>\r\n       </defs>\r\n       <use xlink:href=\"#DejaVuSans-50\"/>\r\n       <use x=\"63.623047\" xlink:href=\"#DejaVuSans-48\"/>\r\n       <use x=\"127.246094\" xlink:href=\"#DejaVuSans-48\"/>\r\n       <use x=\"190.869141\" xlink:href=\"#DejaVuSans-48\"/>\r\n      </g>\r\n     </g>\r\n    </g>\r\n    <g id=\"ytick_4\">\r\n     <g id=\"line2d_7\">\r\n      <g>\r\n       <use style=\"stroke:#000000;stroke-width:0.8;\" x=\"39.65\" xlink:href=\"#m3e4c13ed23\" y=\"122.071543\"/>\r\n      </g>\r\n     </g>\r\n     <g id=\"text_7\">\r\n      <!-- 3000 -->\r\n      <g transform=\"translate(7.2 125.870762)scale(0.1 -0.1)\">\r\n       <defs>\r\n        <path d=\"M 40.578125 39.3125 \r\nQ 47.65625 37.796875 51.625 33 \r\nQ 55.609375 28.21875 55.609375 21.1875 \r\nQ 55.609375 10.40625 48.1875 4.484375 \r\nQ 40.765625 -1.421875 27.09375 -1.421875 \r\nQ 22.515625 -1.421875 17.65625 -0.515625 \r\nQ 12.796875 0.390625 7.625 2.203125 \r\nL 7.625 11.71875 \r\nQ 11.71875 9.328125 16.59375 8.109375 \r\nQ 21.484375 6.890625 26.8125 6.890625 \r\nQ 36.078125 6.890625 40.9375 10.546875 \r\nQ 45.796875 14.203125 45.796875 21.1875 \r\nQ 45.796875 27.640625 41.28125 31.265625 \r\nQ 36.765625 34.90625 28.71875 34.90625 \r\nL 20.21875 34.90625 \r\nL 20.21875 43.015625 \r\nL 29.109375 43.015625 \r\nQ 36.375 43.015625 40.234375 45.921875 \r\nQ 44.09375 48.828125 44.09375 54.296875 \r\nQ 44.09375 59.90625 40.109375 62.90625 \r\nQ 36.140625 65.921875 28.71875 65.921875 \r\nQ 24.65625 65.921875 20.015625 65.03125 \r\nQ 15.375 64.15625 9.8125 62.3125 \r\nL 9.8125 71.09375 \r\nQ 15.4375 72.65625 20.34375 73.4375 \r\nQ 25.25 74.21875 29.59375 74.21875 \r\nQ 40.828125 74.21875 47.359375 69.109375 \r\nQ 53.90625 64.015625 53.90625 55.328125 \r\nQ 53.90625 49.265625 50.4375 45.09375 \r\nQ 46.96875 40.921875 40.578125 39.3125 \r\nz\r\n\" id=\"DejaVuSans-51\"/>\r\n       </defs>\r\n       <use xlink:href=\"#DejaVuSans-51\"/>\r\n       <use x=\"63.623047\" xlink:href=\"#DejaVuSans-48\"/>\r\n       <use x=\"127.246094\" xlink:href=\"#DejaVuSans-48\"/>\r\n       <use x=\"190.869141\" xlink:href=\"#DejaVuSans-48\"/>\r\n      </g>\r\n     </g>\r\n    </g>\r\n    <g id=\"ytick_5\">\r\n     <g id=\"line2d_8\">\r\n      <g>\r\n       <use style=\"stroke:#000000;stroke-width:0.8;\" x=\"39.65\" xlink:href=\"#m3e4c13ed23\" y=\"87.882058\"/>\r\n      </g>\r\n     </g>\r\n     <g id=\"text_8\">\r\n      <!-- 4000 -->\r\n      <g transform=\"translate(7.2 91.681276)scale(0.1 -0.1)\">\r\n       <defs>\r\n        <path d=\"M 37.796875 64.3125 \r\nL 12.890625 25.390625 \r\nL 37.796875 25.390625 \r\nz\r\nM 35.203125 72.90625 \r\nL 47.609375 72.90625 \r\nL 47.609375 25.390625 \r\nL 58.015625 25.390625 \r\nL 58.015625 17.1875 \r\nL 47.609375 17.1875 \r\nL 47.609375 0 \r\nL 37.796875 0 \r\nL 37.796875 17.1875 \r\nL 4.890625 17.1875 \r\nL 4.890625 26.703125 \r\nz\r\n\" id=\"DejaVuSans-52\"/>\r\n       </defs>\r\n       <use xlink:href=\"#DejaVuSans-52\"/>\r\n       <use x=\"63.623047\" xlink:href=\"#DejaVuSans-48\"/>\r\n       <use x=\"127.246094\" xlink:href=\"#DejaVuSans-48\"/>\r\n       <use x=\"190.869141\" xlink:href=\"#DejaVuSans-48\"/>\r\n      </g>\r\n     </g>\r\n    </g>\r\n    <g id=\"ytick_6\">\r\n     <g id=\"line2d_9\">\r\n      <g>\r\n       <use style=\"stroke:#000000;stroke-width:0.8;\" x=\"39.65\" xlink:href=\"#m3e4c13ed23\" y=\"53.692572\"/>\r\n      </g>\r\n     </g>\r\n     <g id=\"text_9\">\r\n      <!-- 5000 -->\r\n      <g transform=\"translate(7.2 57.491791)scale(0.1 -0.1)\">\r\n       <defs>\r\n        <path d=\"M 10.796875 72.90625 \r\nL 49.515625 72.90625 \r\nL 49.515625 64.59375 \r\nL 19.828125 64.59375 \r\nL 19.828125 46.734375 \r\nQ 21.96875 47.46875 24.109375 47.828125 \r\nQ 26.265625 48.1875 28.421875 48.1875 \r\nQ 40.625 48.1875 47.75 41.5 \r\nQ 54.890625 34.8125 54.890625 23.390625 \r\nQ 54.890625 11.625 47.5625 5.09375 \r\nQ 40.234375 -1.421875 26.90625 -1.421875 \r\nQ 22.3125 -1.421875 17.546875 -0.640625 \r\nQ 12.796875 0.140625 7.71875 1.703125 \r\nL 7.71875 11.625 \r\nQ 12.109375 9.234375 16.796875 8.0625 \r\nQ 21.484375 6.890625 26.703125 6.890625 \r\nQ 35.15625 6.890625 40.078125 11.328125 \r\nQ 45.015625 15.765625 45.015625 23.390625 \r\nQ 45.015625 31 40.078125 35.4375 \r\nQ 35.15625 39.890625 26.703125 39.890625 \r\nQ 22.75 39.890625 18.8125 39.015625 \r\nQ 14.890625 38.140625 10.796875 36.28125 \r\nz\r\n\" id=\"DejaVuSans-53\"/>\r\n       </defs>\r\n       <use xlink:href=\"#DejaVuSans-53\"/>\r\n       <use x=\"63.623047\" xlink:href=\"#DejaVuSans-48\"/>\r\n       <use x=\"127.246094\" xlink:href=\"#DejaVuSans-48\"/>\r\n       <use x=\"190.869141\" xlink:href=\"#DejaVuSans-48\"/>\r\n      </g>\r\n     </g>\r\n    </g>\r\n    <g id=\"ytick_7\">\r\n     <g id=\"line2d_10\">\r\n      <g>\r\n       <use style=\"stroke:#000000;stroke-width:0.8;\" x=\"39.65\" xlink:href=\"#m3e4c13ed23\" y=\"19.503086\"/>\r\n      </g>\r\n     </g>\r\n     <g id=\"text_10\">\r\n      <!-- 6000 -->\r\n      <g transform=\"translate(7.2 23.302305)scale(0.1 -0.1)\">\r\n       <defs>\r\n        <path d=\"M 33.015625 40.375 \r\nQ 26.375 40.375 22.484375 35.828125 \r\nQ 18.609375 31.296875 18.609375 23.390625 \r\nQ 18.609375 15.53125 22.484375 10.953125 \r\nQ 26.375 6.390625 33.015625 6.390625 \r\nQ 39.65625 6.390625 43.53125 10.953125 \r\nQ 47.40625 15.53125 47.40625 23.390625 \r\nQ 47.40625 31.296875 43.53125 35.828125 \r\nQ 39.65625 40.375 33.015625 40.375 \r\nz\r\nM 52.59375 71.296875 \r\nL 52.59375 62.3125 \r\nQ 48.875 64.0625 45.09375 64.984375 \r\nQ 41.3125 65.921875 37.59375 65.921875 \r\nQ 27.828125 65.921875 22.671875 59.328125 \r\nQ 17.53125 52.734375 16.796875 39.40625 \r\nQ 19.671875 43.65625 24.015625 45.921875 \r\nQ 28.375 48.1875 33.59375 48.1875 \r\nQ 44.578125 48.1875 50.953125 41.515625 \r\nQ 57.328125 34.859375 57.328125 23.390625 \r\nQ 57.328125 12.15625 50.6875 5.359375 \r\nQ 44.046875 -1.421875 33.015625 -1.421875 \r\nQ 20.359375 -1.421875 13.671875 8.265625 \r\nQ 6.984375 17.96875 6.984375 36.375 \r\nQ 6.984375 53.65625 15.1875 63.9375 \r\nQ 23.390625 74.21875 37.203125 74.21875 \r\nQ 40.921875 74.21875 44.703125 73.484375 \r\nQ 48.484375 72.75 52.59375 71.296875 \r\nz\r\n\" id=\"DejaVuSans-54\"/>\r\n       </defs>\r\n       <use xlink:href=\"#DejaVuSans-54\"/>\r\n       <use x=\"63.623047\" xlink:href=\"#DejaVuSans-48\"/>\r\n       <use x=\"127.246094\" xlink:href=\"#DejaVuSans-48\"/>\r\n       <use x=\"190.869141\" xlink:href=\"#DejaVuSans-48\"/>\r\n      </g>\r\n     </g>\r\n    </g>\r\n   </g>\r\n   <g id=\"patch_6\">\r\n    <path d=\"M 39.65 224.64 \r\nL 39.65 7.2 \r\n\" style=\"fill:none;stroke:#000000;stroke-linecap:square;stroke-linejoin:miter;stroke-width:0.8;\"/>\r\n   </g>\r\n   <g id=\"patch_7\">\r\n    <path d=\"M 374.45 224.64 \r\nL 374.45 7.2 \r\n\" style=\"fill:none;stroke:#000000;stroke-linecap:square;stroke-linejoin:miter;stroke-width:0.8;\"/>\r\n   </g>\r\n   <g id=\"patch_8\">\r\n    <path d=\"M 39.65 224.64 \r\nL 374.45 224.64 \r\n\" style=\"fill:none;stroke:#000000;stroke-linecap:square;stroke-linejoin:miter;stroke-width:0.8;\"/>\r\n   </g>\r\n   <g id=\"patch_9\">\r\n    <path d=\"M 39.65 7.2 \r\nL 374.45 7.2 \r\n\" style=\"fill:none;stroke:#000000;stroke-linecap:square;stroke-linejoin:miter;stroke-width:0.8;\"/>\r\n   </g>\r\n  </g>\r\n </g>\r\n <defs>\r\n  <clipPath id=\"p827fe952db\">\r\n   <rect height=\"217.44\" width=\"334.8\" x=\"39.65\" y=\"7.2\"/>\r\n  </clipPath>\r\n </defs>\r\n</svg>\r\n",
      "image/png": "[encoded data removed]"
     },
     "metadata": {
      "needs_background": "light"
     }
    }
   ],
   "source": [
    "plot.bar(dictForGraph.keys(),  dictForGraph.values(), color ='b', width = 0.5, \n",
    "        edgecolor ='grey', label ='Old') "
   ]
  },
  {
   "cell_type": "code",
   "execution_count": 12,
   "metadata": {},
   "outputs": [
    {
     "output_type": "stream",
     "name": "stdout",
     "text": [
      "Median: 800000\nMean: 3037448.864473236\n25 precentiles: 180000\n75 precentiles: 185865\nMax: 978090439\nMin: 0\n"
     ]
    }
   ],
   "source": [
    "#7.calculate summary statistics for the prices of properties sold for all of Manhattan and for a couple of select neighborhoods\n",
    "priceList = list(datas['SALE PRICE'])\n",
    "for a in range(len(priceList)):\n",
    "    result = \"\"\n",
    "    for b in range(len(priceList[a])):\n",
    "        if priceList[a][b]!=',':\n",
    "            result += priceList[a][b]\n",
    "    priceList[a] = int(result)\n",
    "\n",
    "priceList.sort()\n",
    "print(\"Median:\",priceList[(len(priceList)-1)//2])\n",
    "print(\"Mean:\",sum(priceList)/len(priceList))\n",
    "print(\"25 precentiles:\",priceList[(len(priceList)-1)//4])\n",
    "print(\"75 precentiles:\",priceList[(len(priceList)-1)//4]+(len(priceList)-1)//2)\n",
    "print(\"Max:\",max(priceList))\n",
    "print(\"Min:\",min(priceList))"
   ]
  },
  {
   "cell_type": "code",
   "execution_count": 13,
   "metadata": {},
   "outputs": [
    {
     "output_type": "stream",
     "name": "stdout",
     "text": [
      "Median: 775000\nMean: 1868533.5685483871\n25 precentiles: 100000\n75 precentiles: 100619\nMax: 150150000\nMin: 0\n"
     ]
    }
   ],
   "source": [
    "priceList = list(datas[datas['NEIGHBORHOOD'] == 'UPPER EAST SIDE (59-79)']['SALE PRICE'])\n",
    "for a in range(len(priceList)):\n",
    "    result = \"\"\n",
    "    for b in range(len(priceList[a])):\n",
    "        if priceList[a][b]!=',':\n",
    "            result += priceList[a][b]\n",
    "    priceList[a] = int(result)\n",
    "\n",
    "priceList.sort()\n",
    "print(\"Median:\",priceList[(len(priceList)-1)//2])\n",
    "print(\"Mean:\",sum(priceList)/len(priceList))\n",
    "print(\"25 precentiles:\",priceList[(len(priceList)-1)//4])\n",
    "print(\"75 precentiles:\",priceList[(len(priceList)-1)//4]+(len(priceList)-1)//2)\n",
    "print(\"Max:\",max(priceList))\n",
    "print(\"Min:\",min(priceList))"
   ]
  },
  {
   "cell_type": "code",
   "execution_count": 14,
   "metadata": {},
   "outputs": [
    {
     "output_type": "stream",
     "name": "stdout",
     "text": [
      "Median: 800000\nMean: 1649268.10974456\n25 precentiles: 340000\n75 precentiles: 340528\nMax: 33072265\nMin: 0\n"
     ]
    }
   ],
   "source": [
    "priceList = list(datas[datas['NEIGHBORHOOD'] == 'UPPER EAST SIDE (79-96)']['SALE PRICE'])\n",
    "for a in range(len(priceList)):\n",
    "    result = \"\"\n",
    "    for b in range(len(priceList[a])):\n",
    "        if priceList[a][b]!=',':\n",
    "            result += priceList[a][b]\n",
    "    priceList[a] = int(result)\n",
    "\n",
    "priceList.sort()\n",
    "print(\"Median:\",priceList[(len(priceList)-1)//2])\n",
    "print(\"Mean:\",sum(priceList)/len(priceList))\n",
    "print(\"25 precentiles:\",priceList[(len(priceList)-1)//4])\n",
    "print(\"75 precentiles:\",priceList[(len(priceList)-1)//4]+(len(priceList)-1)//2)\n",
    "print(\"Max:\",max(priceList))\n",
    "print(\"Min:\",min(priceList))"
   ]
  },
  {
   "source": [
    "We found that the median of the two neighbourhoods are similar to the overall data. But hte mean of the two are somewhat smaller than the overall data. But the mean of the two data are simialr. BUt when it comes to the precentiles part. The frist part is smaller while the second part is larger. Finally the min of the two are same but the max of first is much bigger than the second.\n",
    "So in conclusion, we cound that the overall distribution of the first neighbourhoods is  at the lower price areas and has a high mean due to some huge outliers. For the second part we select it can be considered as the one with more colser range."
   ],
   "cell_type": "markdown",
   "metadata": {}
  },
  {
   "cell_type": "code",
   "execution_count": 15,
   "metadata": {
    "tags": []
   },
   "outputs": [],
   "source": [
    "#8.bin the prices of properties sold\n",
    "for a in range(len(datas['SALE PRICE'])):\n",
    "    result = \"\"\n",
    "    for b in range(len(datas['SALE PRICE'][a])):\n",
    "        if datas['SALE PRICE'][a][b]!=',':\n",
    "            result += datas['SALE PRICE'][a][b]\n",
    "    datas['SALE PRICE'][a] = int(result)"
   ]
  },
  {
   "cell_type": "code",
   "execution_count": 16,
   "metadata": {},
   "outputs": [
    {
     "output_type": "execute_result",
     "data": {
      "text/plain": [
       "0       (-978090.439, 195618087.8]\n",
       "5326    (-978090.439, 195618087.8]\n",
       "5327    (-978090.439, 195618087.8]\n",
       "5329    (-978090.439, 195618087.8]\n",
       "5333    (-978090.439, 195618087.8]\n",
       "                   ...            \n",
       "3972    (391236175.6, 586854263.4]\n",
       "1140    (391236175.6, 586854263.4]\n",
       "3700    (782472351.2, 978090439.0]\n",
       "4581    (782472351.2, 978090439.0]\n",
       "1154    (782472351.2, 978090439.0]\n",
       "Name: SALE PRICE, Length: 11732, dtype: category\n",
       "Categories (5, interval[float64]): [(-978090.439, 195618087.8] < (195618087.8, 391236175.6] < (391236175.6, 586854263.4] < (586854263.4, 782472351.2] < (782472351.2, 978090439.0]]"
      ]
     },
     "metadata": {},
     "execution_count": 16
    }
   ],
   "source": [
    "datas = datas.sort_values(by = ['SALE PRICE'],ascending = True)\n",
    "binResult = pd.cut(datas['SALE PRICE'],bins = 5)\n",
    "binResult"
   ]
  },
  {
   "cell_type": "code",
   "execution_count": 17,
   "metadata": {},
   "outputs": [
    {
     "output_type": "stream",
     "name": "stdout",
     "text": [
      "       BOROUGH TYPE         BLOCK           LOT      ZIP CODE  \\\ncount       11713.0  11713.000000  11713.000000  11713.000000   \nmean            1.0   1122.119355    772.019892  10030.810126   \nstd             0.0    527.236570    974.317661     37.189732   \nmin             1.0      8.000000      1.000000  10001.000000   \n25%             1.0    768.000000     29.000000  10013.000000   \n50%             1.0   1171.000000   1002.000000  10022.000000   \n75%             1.0   1458.000000   1203.000000  10028.000000   \nmax             1.0   2250.000000   9062.000000  10463.000000   \n\n       RESIDENTIAL UNITS  COMMERCIAL UNITS  TOTAL UNITS    YEAR BUILT  \\\ncount        6123.000000       1550.000000  6534.000000  10375.000000   \nmean            3.268659          2.848387     3.738751   1952.493108   \nstd            12.000293         16.992296    14.417338     37.382030   \nmin             0.000000          0.000000     0.000000   1800.000000   \n25%             1.000000          0.000000     1.000000   1920.000000   \n50%             1.000000          1.000000     1.000000   1955.000000   \n75%             1.000000          1.000000     1.000000   1985.000000   \nmax           239.000000        259.000000   259.000000   2019.000000   \n\n       TAX CLASS AT TIME OF SALE  \ncount                11713.00000  \nmean                     2.09545  \nstd                      0.49840  \nmin                      1.00000  \n25%                      2.00000  \n50%                      2.00000  \n75%                      2.00000  \nmax                      4.00000  \n       BOROUGH TYPE        BLOCK          LOT      ZIP CODE  \\\ncount          14.0    14.000000    14.000000     14.000000   \nmean            1.0  1058.928571   955.428571  10028.214286   \nstd             0.0   366.767892   557.436401     11.321719   \nmin             1.0    43.000000     1.000000  10005.000000   \n25%             1.0  1048.000000  1103.250000  10019.000000   \n50%             1.0  1259.000000  1106.500000  10036.000000   \n75%             1.0  1259.000000  1109.750000  10036.000000   \nmax             1.0  1259.000000  1702.000000  10036.000000   \n\n       RESIDENTIAL UNITS  COMMERCIAL UNITS  TOTAL UNITS   YEAR BUILT  \\\ncount           3.000000         14.000000    14.000000    14.000000   \nmean          134.666667          6.642857    35.500000  1925.285714   \nstd           233.249509         14.269964   107.579488    22.036433   \nmin             0.000000          1.000000     1.000000  1900.000000   \n25%             0.000000          1.000000     1.000000  1919.000000   \n50%             0.000000          1.000000     1.000000  1919.000000   \n75%           202.000000          1.000000     1.000000  1925.000000   \nmax           404.000000         45.000000   406.000000  1998.000000   \n\n       TAX CLASS AT TIME OF SALE  \ncount                  14.000000  \nmean                    3.857143  \nstd                     0.534522  \nmin                     2.000000  \n25%                     4.000000  \n50%                     4.000000  \n75%                     4.000000  \nmax                     4.000000  \n       BOROUGH TYPE       BLOCK        LOT      ZIP CODE  RESIDENTIAL UNITS  \\\ncount           2.0    2.000000   2.000000      2.000000           2.000000   \nmean            1.0  530.000000   8.500000  10010.000000         245.000000   \nstd             0.0  400.222438  10.606602     11.313708         346.482323   \nmin             1.0  247.000000   1.000000  10002.000000           0.000000   \n25%             1.0  388.500000   4.750000  10006.000000         122.500000   \n50%             1.0  530.000000   8.500000  10010.000000         245.000000   \n75%             1.0  671.500000  12.250000  10014.000000         367.500000   \nmax             1.0  813.000000  16.000000  10018.000000         490.000000   \n\n       COMMERCIAL UNITS  TOTAL UNITS   YEAR BUILT  TAX CLASS AT TIME OF SALE  \ncount          2.000000     2.000000     2.000000                   2.000000  \nmean          29.000000   274.000000  1953.000000                   3.000000  \nstd           38.183766   308.298557    36.769553                   1.414214  \nmin            2.000000    56.000000  1927.000000                   2.000000  \n25%           15.500000   165.000000  1940.000000                   2.500000  \n50%           29.000000   274.000000  1953.000000                   3.000000  \n75%           42.500000   383.000000  1966.000000                   3.500000  \nmax           56.000000   492.000000  1979.000000                   4.000000  \n       BOROUGH TYPE  BLOCK  LOT  ZIP CODE  RESIDENTIAL UNITS  \\\ncount           0.0    0.0  0.0       0.0                0.0   \nmean            NaN    NaN  NaN       NaN                NaN   \nstd             NaN    NaN  NaN       NaN                NaN   \nmin             NaN    NaN  NaN       NaN                NaN   \n25%             NaN    NaN  NaN       NaN                NaN   \n50%             NaN    NaN  NaN       NaN                NaN   \n75%             NaN    NaN  NaN       NaN                NaN   \nmax             NaN    NaN  NaN       NaN                NaN   \n\n       COMMERCIAL UNITS  TOTAL UNITS  YEAR BUILT  TAX CLASS AT TIME OF SALE  \ncount               0.0          0.0         0.0                        0.0  \nmean                NaN          NaN         NaN                        NaN  \nstd                 NaN          NaN         NaN                        NaN  \nmin                 NaN          NaN         NaN                        NaN  \n25%                 NaN          NaN         NaN                        NaN  \n50%                 NaN          NaN         NaN                        NaN  \n75%                 NaN          NaN         NaN                        NaN  \nmax                 NaN          NaN         NaN                        NaN  \n       BOROUGH TYPE        BLOCK        LOT      ZIP CODE  RESIDENTIAL UNITS  \\\ncount           3.0     3.000000   3.000000      3.000000                3.0   \nmean            1.0   949.333333  19.000000  10012.000000                0.0   \nstd             0.0   288.953860  20.952327      9.539392                0.0   \nmin             1.0   731.000000   1.000000  10001.000000                0.0   \n25%             1.0   785.500000   7.500000  10009.000000                0.0   \n50%             1.0   840.000000  14.000000  10017.000000                0.0   \n75%             1.0  1058.500000  28.000000  10017.500000                0.0   \nmax             1.0  1277.000000  42.000000  10018.000000                0.0   \n\n       COMMERCIAL UNITS  TOTAL UNITS   YEAR BUILT  TAX CLASS AT TIME OF SALE  \ncount          3.000000     3.000000     3.000000                        3.0  \nmean          41.333333    41.333333  1937.333333                        4.0  \nstd           33.842774    33.842774    24.214321                        0.0  \nmin            4.000000     4.000000  1920.000000                        4.0  \n25%           27.000000    27.000000  1923.500000                        4.0  \n50%           50.000000    50.000000  1927.000000                        4.0  \n75%           60.000000    60.000000  1946.000000                        4.0  \nmax           70.000000    70.000000  1965.000000                        4.0  \n"
     ]
    }
   ],
   "source": [
    "bin1 = datas[datas['SALE PRICE']<=195618087.8]\n",
    "\n",
    "bin2 = datas[datas['SALE PRICE']>195618087.8]\n",
    "bin2 = bin2[bin2['SALE PRICE']<=391236175.6]\n",
    "\n",
    "bin3 = datas[datas['SALE PRICE']>391236175.6]\n",
    "bin3 = bin3[bin3['SALE PRICE']<=586854263.4]\n",
    "\n",
    "bin4 = datas[datas['SALE PRICE']>586854263.4]\n",
    "bin4 = bin4[bin4['SALE PRICE']<=782472351.2]\n",
    "\n",
    "bin5 = datas[datas['SALE PRICE']>782472351.2]\n",
    "\n",
    "print(bin1.describe())\n",
    "print(bin2.describe())\n",
    "print(bin3.describe())\n",
    "print(bin4.describe())\n",
    "print(bin5.describe())"
   ]
  },
  {
   "source": [
    "We found that the range first contains negetive numbers and the bin2 part can be full of Nan and zero\n",
    "Here we found that the calculation of mean, median and precentile can be easily affected and be not accurate\n",
    "So I think we can use abs() or dropna and drop below zero values."
   ],
   "cell_type": "markdown",
   "metadata": {}
  },
  {
   "cell_type": "code",
   "execution_count": 31,
   "metadata": {},
   "outputs": [
    {
     "output_type": "execute_result",
     "data": {
      "text/plain": [
       "      BOROUGH TYPE             NEIGHBORHOOD         BUILDING CLASS CATEGORY  \\\n",
       "0              1.0            ALPHABET CITY         02 TWO FAMILY DWELLINGS   \n",
       "5347           1.0             MIDTOWN EAST          14 RENTALS - 4-10 UNIT   \n",
       "5380           1.0             MIDTOWN EAST              22 STORE BUILDINGS   \n",
       "5399           1.0             MIDTOWN WEST  07 RENTALS - WALKUP APARTMENTS   \n",
       "5400           1.0             MIDTOWN WEST  07 RENTALS - WALKUP APARTMENTS   \n",
       "...            ...                      ...                             ...   \n",
       "4298           1.0         MANHATTAN VALLEY   11 SPECIAL CONDO BILLING LOTS   \n",
       "5856           1.0             MIDTOWN WEST             21 OFFICE BUILDINGS   \n",
       "4588           1.0              MIDTOWN CBD             21 OFFICE BUILDINGS   \n",
       "536            1.0                  CHELSEA                25 LUXURY HOTELS   \n",
       "8232           1.0  UPPER EAST SIDE (59-79)                25 LUXURY HOTELS   \n",
       "\n",
       "     TAX CLASS AT PRESENT   BLOCK     LOT BUILDING CLASS AT PRESENT  \\\n",
       "0                       1   377.0    72.0                        B9   \n",
       "5347                   2A  1337.0    52.0                        S3   \n",
       "5380                    4  1327.0    18.0                        K4   \n",
       "5399                    2  1034.0     9.0                        C4   \n",
       "5400                    2  1034.0    10.0                        C4   \n",
       "...                   ...     ...     ...                       ...   \n",
       "4298                    2  1832.0  1101.0                        RR   \n",
       "5856                    4  1263.0    24.0                        O6   \n",
       "4588                    4  1284.0    14.0                        O6   \n",
       "536                     4   803.0    62.0                        H2   \n",
       "8232                    4  1390.0    57.0                        H1   \n",
       "\n",
       "                         ADDRESS  ZIP CODE  RESIDENTIAL UNITS  \\\n",
       "0                   231 EAST 7TH   10009.0                2.0   \n",
       "5347                836 2 AVENUE   10017.0                3.0   \n",
       "5380        243 EAST 53RD STREET   10022.0                1.0   \n",
       "5399        333 WEST 43RD STREET   10036.0               30.0   \n",
       "5400        331 WEST 43RD STREET   10036.0               19.0   \n",
       "...                          ...       ...                ...   \n",
       "4298  65 WEST 96TH STREET, RESID   10025.0              217.0   \n",
       "5856         15 WEST 47TH STREET   10036.0                0.0   \n",
       "4588          410 MADISON AVENUE   10017.0                0.0   \n",
       "536         140 WEST 28TH STREET   10001.0                0.0   \n",
       "8232         20 EAST 76TH STREET   10021.0              112.0   \n",
       "\n",
       "      COMMERCIAL UNITS  TOTAL UNITS LAND SQUARE FEET  YEAR BUILT  \\\n",
       "0                  0.0          2.0      12000001718      1901.0   \n",
       "5347               1.0          4.0            1,260      1910.0   \n",
       "5380               1.0          2.0            1,674      1900.0   \n",
       "5399               0.0         30.0            5,010      1910.0   \n",
       "5400               0.0         19.0            2,510      1910.0   \n",
       "...                ...          ...              ...         ...   \n",
       "4298               0.0        217.0                0      1971.0   \n",
       "5856             111.0        111.0            9,790      1926.0   \n",
       "4588               2.0          2.0            7,164      1964.0   \n",
       "536                1.0          1.0            7,571      2018.0   \n",
       "8232               2.0        114.0           10,025      1926.0   \n",
       "\n",
       "      TAX CLASS AT TIME OF SALE BUILDING CLASS AT TIME OF SALE SALE PRICE  \\\n",
       "0                           1.0                             B9          0   \n",
       "5347                        2.0                             S3          0   \n",
       "5380                        4.0                             K4          0   \n",
       "5399                        2.0                             C4          0   \n",
       "5400                        2.0                             C4          0   \n",
       "...                         ...                            ...        ...   \n",
       "4298                        2.0                             RR   93836434   \n",
       "5856                        4.0                             O6  110000000   \n",
       "4588                        4.0                             O6  115000000   \n",
       "536                         4.0                             H2  147362877   \n",
       "8232                        4.0                             H1  150150000   \n",
       "\n",
       "       SALE DATE  \n",
       "0      2020/10/2  \n",
       "5347   2020/4/26  \n",
       "5380  2020/11/17  \n",
       "5399   2020/2/13  \n",
       "5400   2020/2/13  \n",
       "...          ...  \n",
       "4298   2020/3/17  \n",
       "5856  2020/12/10  \n",
       "4588   2020/6/17  \n",
       "536    2020/9/30  \n",
       "8232   2020/12/3  \n",
       "\n",
       "[1139 rows x 18 columns]"
      ],
      "text/html": "<div>\n<style scoped>\n    .dataframe tbody tr th:only-of-type {\n        vertical-align: middle;\n    }\n\n    .dataframe tbody tr th {\n        vertical-align: top;\n    }\n\n    .dataframe thead th {\n        text-align: right;\n    }\n</style>\n<table border=\"1\" class=\"dataframe\">\n  <thead>\n    <tr style=\"text-align: right;\">\n      <th></th>\n      <th>BOROUGH TYPE</th>\n      <th>NEIGHBORHOOD</th>\n      <th>BUILDING CLASS CATEGORY</th>\n      <th>TAX CLASS AT PRESENT</th>\n      <th>BLOCK</th>\n      <th>LOT</th>\n      <th>BUILDING CLASS AT PRESENT</th>\n      <th>ADDRESS</th>\n      <th>ZIP CODE</th>\n      <th>RESIDENTIAL UNITS</th>\n      <th>COMMERCIAL UNITS</th>\n      <th>TOTAL UNITS</th>\n      <th>LAND SQUARE FEET</th>\n      <th>YEAR BUILT</th>\n      <th>TAX CLASS AT TIME OF SALE</th>\n      <th>BUILDING CLASS AT TIME OF SALE</th>\n      <th>SALE PRICE</th>\n      <th>SALE DATE</th>\n    </tr>\n  </thead>\n  <tbody>\n    <tr>\n      <th>0</th>\n      <td>1.0</td>\n      <td>ALPHABET CITY</td>\n      <td>02 TWO FAMILY DWELLINGS</td>\n      <td>1</td>\n      <td>377.0</td>\n      <td>72.0</td>\n      <td>B9</td>\n      <td>231 EAST 7TH</td>\n      <td>10009.0</td>\n      <td>2.0</td>\n      <td>0.0</td>\n      <td>2.0</td>\n      <td>12000001718</td>\n      <td>1901.0</td>\n      <td>1.0</td>\n      <td>B9</td>\n      <td>0</td>\n      <td>2020/10/2</td>\n    </tr>\n    <tr>\n      <th>5347</th>\n      <td>1.0</td>\n      <td>MIDTOWN EAST</td>\n      <td>14 RENTALS - 4-10 UNIT</td>\n      <td>2A</td>\n      <td>1337.0</td>\n      <td>52.0</td>\n      <td>S3</td>\n      <td>836 2 AVENUE</td>\n      <td>10017.0</td>\n      <td>3.0</td>\n      <td>1.0</td>\n      <td>4.0</td>\n      <td>1,260</td>\n      <td>1910.0</td>\n      <td>2.0</td>\n      <td>S3</td>\n      <td>0</td>\n      <td>2020/4/26</td>\n    </tr>\n    <tr>\n      <th>5380</th>\n      <td>1.0</td>\n      <td>MIDTOWN EAST</td>\n      <td>22 STORE BUILDINGS</td>\n      <td>4</td>\n      <td>1327.0</td>\n      <td>18.0</td>\n      <td>K4</td>\n      <td>243 EAST 53RD STREET</td>\n      <td>10022.0</td>\n      <td>1.0</td>\n      <td>1.0</td>\n      <td>2.0</td>\n      <td>1,674</td>\n      <td>1900.0</td>\n      <td>4.0</td>\n      <td>K4</td>\n      <td>0</td>\n      <td>2020/11/17</td>\n    </tr>\n    <tr>\n      <th>5399</th>\n      <td>1.0</td>\n      <td>MIDTOWN WEST</td>\n      <td>07 RENTALS - WALKUP APARTMENTS</td>\n      <td>2</td>\n      <td>1034.0</td>\n      <td>9.0</td>\n      <td>C4</td>\n      <td>333 WEST 43RD STREET</td>\n      <td>10036.0</td>\n      <td>30.0</td>\n      <td>0.0</td>\n      <td>30.0</td>\n      <td>5,010</td>\n      <td>1910.0</td>\n      <td>2.0</td>\n      <td>C4</td>\n      <td>0</td>\n      <td>2020/2/13</td>\n    </tr>\n    <tr>\n      <th>5400</th>\n      <td>1.0</td>\n      <td>MIDTOWN WEST</td>\n      <td>07 RENTALS - WALKUP APARTMENTS</td>\n      <td>2</td>\n      <td>1034.0</td>\n      <td>10.0</td>\n      <td>C4</td>\n      <td>331 WEST 43RD STREET</td>\n      <td>10036.0</td>\n      <td>19.0</td>\n      <td>0.0</td>\n      <td>19.0</td>\n      <td>2,510</td>\n      <td>1910.0</td>\n      <td>2.0</td>\n      <td>C4</td>\n      <td>0</td>\n      <td>2020/2/13</td>\n    </tr>\n    <tr>\n      <th>...</th>\n      <td>...</td>\n      <td>...</td>\n      <td>...</td>\n      <td>...</td>\n      <td>...</td>\n      <td>...</td>\n      <td>...</td>\n      <td>...</td>\n      <td>...</td>\n      <td>...</td>\n      <td>...</td>\n      <td>...</td>\n      <td>...</td>\n      <td>...</td>\n      <td>...</td>\n      <td>...</td>\n      <td>...</td>\n      <td>...</td>\n    </tr>\n    <tr>\n      <th>4298</th>\n      <td>1.0</td>\n      <td>MANHATTAN VALLEY</td>\n      <td>11 SPECIAL CONDO BILLING LOTS</td>\n      <td>2</td>\n      <td>1832.0</td>\n      <td>1101.0</td>\n      <td>RR</td>\n      <td>65 WEST 96TH STREET, RESID</td>\n      <td>10025.0</td>\n      <td>217.0</td>\n      <td>0.0</td>\n      <td>217.0</td>\n      <td>0</td>\n      <td>1971.0</td>\n      <td>2.0</td>\n      <td>RR</td>\n      <td>93836434</td>\n      <td>2020/3/17</td>\n    </tr>\n    <tr>\n      <th>5856</th>\n      <td>1.0</td>\n      <td>MIDTOWN WEST</td>\n      <td>21 OFFICE BUILDINGS</td>\n      <td>4</td>\n      <td>1263.0</td>\n      <td>24.0</td>\n      <td>O6</td>\n      <td>15 WEST 47TH STREET</td>\n      <td>10036.0</td>\n      <td>0.0</td>\n      <td>111.0</td>\n      <td>111.0</td>\n      <td>9,790</td>\n      <td>1926.0</td>\n      <td>4.0</td>\n      <td>O6</td>\n      <td>110000000</td>\n      <td>2020/12/10</td>\n    </tr>\n    <tr>\n      <th>4588</th>\n      <td>1.0</td>\n      <td>MIDTOWN CBD</td>\n      <td>21 OFFICE BUILDINGS</td>\n      <td>4</td>\n      <td>1284.0</td>\n      <td>14.0</td>\n      <td>O6</td>\n      <td>410 MADISON AVENUE</td>\n      <td>10017.0</td>\n      <td>0.0</td>\n      <td>2.0</td>\n      <td>2.0</td>\n      <td>7,164</td>\n      <td>1964.0</td>\n      <td>4.0</td>\n      <td>O6</td>\n      <td>115000000</td>\n      <td>2020/6/17</td>\n    </tr>\n    <tr>\n      <th>536</th>\n      <td>1.0</td>\n      <td>CHELSEA</td>\n      <td>25 LUXURY HOTELS</td>\n      <td>4</td>\n      <td>803.0</td>\n      <td>62.0</td>\n      <td>H2</td>\n      <td>140 WEST 28TH STREET</td>\n      <td>10001.0</td>\n      <td>0.0</td>\n      <td>1.0</td>\n      <td>1.0</td>\n      <td>7,571</td>\n      <td>2018.0</td>\n      <td>4.0</td>\n      <td>H2</td>\n      <td>147362877</td>\n      <td>2020/9/30</td>\n    </tr>\n    <tr>\n      <th>8232</th>\n      <td>1.0</td>\n      <td>UPPER EAST SIDE (59-79)</td>\n      <td>25 LUXURY HOTELS</td>\n      <td>4</td>\n      <td>1390.0</td>\n      <td>57.0</td>\n      <td>H1</td>\n      <td>20 EAST 76TH STREET</td>\n      <td>10021.0</td>\n      <td>112.0</td>\n      <td>2.0</td>\n      <td>114.0</td>\n      <td>10,025</td>\n      <td>1926.0</td>\n      <td>4.0</td>\n      <td>H1</td>\n      <td>150150000</td>\n      <td>2020/12/3</td>\n    </tr>\n  </tbody>\n</table>\n<p>1139 rows × 18 columns</p>\n</div>"
     },
     "metadata": {},
     "execution_count": 31
    }
   ],
   "source": [
    "#9.create a visualization the shows the relationship (if any) between the price sold and the number of square footage of all the areas of a property within a building or a structure\n",
    "bin1 = bin1.dropna(subset = ['LAND SQUARE FEET'])\n",
    "bin1"
   ]
  },
  {
   "cell_type": "code",
   "execution_count": 19,
   "metadata": {},
   "outputs": [],
   "source": [
    "#10.which month did the least amount of sales occur"
   ]
  }
 ],
 "metadata": {
  "kernelspec": {
   "display_name": "Python 3",
   "language": "python",
   "name": "python3"
  },
  "language_info": {
   "codemirror_mode": {
    "name": "ipython",
    "version": 3
   },
   "file_extension": ".py",
   "mimetype": "text/x-python",
   "name": "python",
   "nbconvert_exporter": "python",
   "pygments_lexer": "ipython3",
   "version": "3.8.5-final"
  }
 },
 "nbformat": 4,
 "nbformat_minor": 4
}