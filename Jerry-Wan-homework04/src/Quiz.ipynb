{
 "cells": [
  {
   "cell_type": "code",
   "execution_count": 44,
   "metadata": {},
   "outputs": [],
   "source": [
    "import pandas as pd\n",
    "import matplotlib.pyplot as plot\n",
    "import numpy as np \n",
    "import re"
   ]
  },
  {
   "cell_type": "code",
   "execution_count": 88,
   "metadata": {},
   "outputs": [],
   "source": [
    "df = pd.read_csv(\"../data/raw/players2020.csv\")"
   ]
  },
  {
   "cell_type": "code",
   "execution_count": 46,
   "metadata": {},
   "outputs": [
    {
     "output_type": "execute_result",
     "data": {
      "text/plain": [
       "    PLAYER_LAST_NAME PLAYER_FIRST_NAME    TEAM_CITY      TEAM_NAME  \\\n",
       "0            Achiuwa          Precious        Miami           Heat   \n",
       "1              Adams            Jaylen     Portland  Trail Blazers   \n",
       "2              Adams            Steven  New Orleans       Pelicans   \n",
       "3            Adebayo               Bam        Miami           Heat   \n",
       "4           Aldridge          LaMarcus  San Antonio          Spurs   \n",
       "..               ...               ...          ...            ...   \n",
       "492           Wright             Delon      Detroit        Pistons   \n",
       "493            Young          Thaddeus      Chicago          Bulls   \n",
       "494            Young              Trae      Atlanta          Hawks   \n",
       "495           Zeller              Cody    Charlotte        Hornets   \n",
       "496            Zubac             Ivica           LA       Clippers   \n",
       "\n",
       "    TEAM_ABBREVIATION POSITION HEIGHT   WEIGHT          COLLEGE      COUNTRY  \\\n",
       "0                 MIA        F   6'8\"  225 lbs          Memphis      Nigeria   \n",
       "1                 POR        G   6'0\"  225 lbs  St. Bonaventure          USA   \n",
       "2                 NOP        C  6'11\"  265 lbs       Pittsburgh  New Zealand   \n",
       "3                 MIA      C-F   6'9\"  255 lbs         Kentucky          USA   \n",
       "4                 SAS      C-F  6'11\"  250 lbs            Texas          USA   \n",
       "..                ...      ...    ...      ...              ...          ...   \n",
       "492               DET        G   6'5\"  185 lbs             Utah          USA   \n",
       "493               CHI        F   6'8\"  235 lbs     Georgia Tech          USA   \n",
       "494               ATL        G   6'1\"  180 lbs         Oklahoma          USA   \n",
       "495               CHA      F-C  6'11\"  240 lbs          Indiana          USA   \n",
       "496               LAC        C   7'0\"  240 lbs      Mega Basket      Croatia   \n",
       "\n",
       "     DRAFT_YEAR  DRAFT_ROUND  DRAFT_NUMBER  ROSTER_STATUS   PTS  REB  AST  \\\n",
       "0        2020.0          1.0          20.0            1.0   5.8  3.9  0.5   \n",
       "1           NaN          NaN           NaN            NaN   0.3  0.4  0.3   \n",
       "2        2013.0          1.0          12.0            1.0   8.2  9.2  2.0   \n",
       "3        2017.0          1.0          14.0            1.0  19.2  9.5  5.4   \n",
       "4        2006.0          1.0           2.0            1.0  13.7  4.5  1.7   \n",
       "..          ...          ...           ...            ...   ...  ...  ...   \n",
       "492      2015.0          1.0          20.0            1.0  10.6  4.5  4.8   \n",
       "493      2007.0          1.0          12.0            1.0  12.2  6.1  4.3   \n",
       "494      2018.0          1.0           5.0            1.0  26.7  4.1  9.3   \n",
       "495      2013.0          1.0           4.0            1.0  10.0  7.5  2.3   \n",
       "496      2016.0          2.0          32.0            1.0   8.2  6.9  1.1   \n",
       "\n",
       "     FROM_YEAR  TO_YEAR  \n",
       "0         2020     2020  \n",
       "1         2018     2020  \n",
       "2         2013     2020  \n",
       "3         2017     2020  \n",
       "4         2006     2020  \n",
       "..         ...      ...  \n",
       "492       2015     2020  \n",
       "493       2007     2020  \n",
       "494       2018     2020  \n",
       "495       2013     2020  \n",
       "496       2016     2020  \n",
       "\n",
       "[497 rows x 19 columns]"
      ],
      "text/html": "<div>\n<style scoped>\n    .dataframe tbody tr th:only-of-type {\n        vertical-align: middle;\n    }\n\n    .dataframe tbody tr th {\n        vertical-align: top;\n    }\n\n    .dataframe thead th {\n        text-align: right;\n    }\n</style>\n<table border=\"1\" class=\"dataframe\">\n  <thead>\n    <tr style=\"text-align: right;\">\n      <th></th>\n      <th>PLAYER_LAST_NAME</th>\n      <th>PLAYER_FIRST_NAME</th>\n      <th>TEAM_CITY</th>\n      <th>TEAM_NAME</th>\n      <th>TEAM_ABBREVIATION</th>\n      <th>POSITION</th>\n      <th>HEIGHT</th>\n      <th>WEIGHT</th>\n      <th>COLLEGE</th>\n      <th>COUNTRY</th>\n      <th>DRAFT_YEAR</th>\n      <th>DRAFT_ROUND</th>\n      <th>DRAFT_NUMBER</th>\n      <th>ROSTER_STATUS</th>\n      <th>PTS</th>\n      <th>REB</th>\n      <th>AST</th>\n      <th>FROM_YEAR</th>\n      <th>TO_YEAR</th>\n    </tr>\n  </thead>\n  <tbody>\n    <tr>\n      <th>0</th>\n      <td>Achiuwa</td>\n      <td>Precious</td>\n      <td>Miami</td>\n      <td>Heat</td>\n      <td>MIA</td>\n      <td>F</td>\n      <td>6'8\"</td>\n      <td>225 lbs</td>\n      <td>Memphis</td>\n      <td>Nigeria</td>\n      <td>2020.0</td>\n      <td>1.0</td>\n      <td>20.0</td>\n      <td>1.0</td>\n      <td>5.8</td>\n      <td>3.9</td>\n      <td>0.5</td>\n      <td>2020</td>\n      <td>2020</td>\n    </tr>\n    <tr>\n      <th>1</th>\n      <td>Adams</td>\n      <td>Jaylen</td>\n      <td>Portland</td>\n      <td>Trail Blazers</td>\n      <td>POR</td>\n      <td>G</td>\n      <td>6'0\"</td>\n      <td>225 lbs</td>\n      <td>St. Bonaventure</td>\n      <td>USA</td>\n      <td>NaN</td>\n      <td>NaN</td>\n      <td>NaN</td>\n      <td>NaN</td>\n      <td>0.3</td>\n      <td>0.4</td>\n      <td>0.3</td>\n      <td>2018</td>\n      <td>2020</td>\n    </tr>\n    <tr>\n      <th>2</th>\n      <td>Adams</td>\n      <td>Steven</td>\n      <td>New Orleans</td>\n      <td>Pelicans</td>\n      <td>NOP</td>\n      <td>C</td>\n      <td>6'11\"</td>\n      <td>265 lbs</td>\n      <td>Pittsburgh</td>\n      <td>New Zealand</td>\n      <td>2013.0</td>\n      <td>1.0</td>\n      <td>12.0</td>\n      <td>1.0</td>\n      <td>8.2</td>\n      <td>9.2</td>\n      <td>2.0</td>\n      <td>2013</td>\n      <td>2020</td>\n    </tr>\n    <tr>\n      <th>3</th>\n      <td>Adebayo</td>\n      <td>Bam</td>\n      <td>Miami</td>\n      <td>Heat</td>\n      <td>MIA</td>\n      <td>C-F</td>\n      <td>6'9\"</td>\n      <td>255 lbs</td>\n      <td>Kentucky</td>\n      <td>USA</td>\n      <td>2017.0</td>\n      <td>1.0</td>\n      <td>14.0</td>\n      <td>1.0</td>\n      <td>19.2</td>\n      <td>9.5</td>\n      <td>5.4</td>\n      <td>2017</td>\n      <td>2020</td>\n    </tr>\n    <tr>\n      <th>4</th>\n      <td>Aldridge</td>\n      <td>LaMarcus</td>\n      <td>San Antonio</td>\n      <td>Spurs</td>\n      <td>SAS</td>\n      <td>C-F</td>\n      <td>6'11\"</td>\n      <td>250 lbs</td>\n      <td>Texas</td>\n      <td>USA</td>\n      <td>2006.0</td>\n      <td>1.0</td>\n      <td>2.0</td>\n      <td>1.0</td>\n      <td>13.7</td>\n      <td>4.5</td>\n      <td>1.7</td>\n      <td>2006</td>\n      <td>2020</td>\n    </tr>\n    <tr>\n      <th>...</th>\n      <td>...</td>\n      <td>...</td>\n      <td>...</td>\n      <td>...</td>\n      <td>...</td>\n      <td>...</td>\n      <td>...</td>\n      <td>...</td>\n      <td>...</td>\n      <td>...</td>\n      <td>...</td>\n      <td>...</td>\n      <td>...</td>\n      <td>...</td>\n      <td>...</td>\n      <td>...</td>\n      <td>...</td>\n      <td>...</td>\n      <td>...</td>\n    </tr>\n    <tr>\n      <th>492</th>\n      <td>Wright</td>\n      <td>Delon</td>\n      <td>Detroit</td>\n      <td>Pistons</td>\n      <td>DET</td>\n      <td>G</td>\n      <td>6'5\"</td>\n      <td>185 lbs</td>\n      <td>Utah</td>\n      <td>USA</td>\n      <td>2015.0</td>\n      <td>1.0</td>\n      <td>20.0</td>\n      <td>1.0</td>\n      <td>10.6</td>\n      <td>4.5</td>\n      <td>4.8</td>\n      <td>2015</td>\n      <td>2020</td>\n    </tr>\n    <tr>\n      <th>493</th>\n      <td>Young</td>\n      <td>Thaddeus</td>\n      <td>Chicago</td>\n      <td>Bulls</td>\n      <td>CHI</td>\n      <td>F</td>\n      <td>6'8\"</td>\n      <td>235 lbs</td>\n      <td>Georgia Tech</td>\n      <td>USA</td>\n      <td>2007.0</td>\n      <td>1.0</td>\n      <td>12.0</td>\n      <td>1.0</td>\n      <td>12.2</td>\n      <td>6.1</td>\n      <td>4.3</td>\n      <td>2007</td>\n      <td>2020</td>\n    </tr>\n    <tr>\n      <th>494</th>\n      <td>Young</td>\n      <td>Trae</td>\n      <td>Atlanta</td>\n      <td>Hawks</td>\n      <td>ATL</td>\n      <td>G</td>\n      <td>6'1\"</td>\n      <td>180 lbs</td>\n      <td>Oklahoma</td>\n      <td>USA</td>\n      <td>2018.0</td>\n      <td>1.0</td>\n      <td>5.0</td>\n      <td>1.0</td>\n      <td>26.7</td>\n      <td>4.1</td>\n      <td>9.3</td>\n      <td>2018</td>\n      <td>2020</td>\n    </tr>\n    <tr>\n      <th>495</th>\n      <td>Zeller</td>\n      <td>Cody</td>\n      <td>Charlotte</td>\n      <td>Hornets</td>\n      <td>CHA</td>\n      <td>F-C</td>\n      <td>6'11\"</td>\n      <td>240 lbs</td>\n      <td>Indiana</td>\n      <td>USA</td>\n      <td>2013.0</td>\n      <td>1.0</td>\n      <td>4.0</td>\n      <td>1.0</td>\n      <td>10.0</td>\n      <td>7.5</td>\n      <td>2.3</td>\n      <td>2013</td>\n      <td>2020</td>\n    </tr>\n    <tr>\n      <th>496</th>\n      <td>Zubac</td>\n      <td>Ivica</td>\n      <td>LA</td>\n      <td>Clippers</td>\n      <td>LAC</td>\n      <td>C</td>\n      <td>7'0\"</td>\n      <td>240 lbs</td>\n      <td>Mega Basket</td>\n      <td>Croatia</td>\n      <td>2016.0</td>\n      <td>2.0</td>\n      <td>32.0</td>\n      <td>1.0</td>\n      <td>8.2</td>\n      <td>6.9</td>\n      <td>1.1</td>\n      <td>2016</td>\n      <td>2020</td>\n    </tr>\n  </tbody>\n</table>\n<p>497 rows × 19 columns</p>\n</div>"
     },
     "metadata": {},
     "execution_count": 46
    }
   ],
   "source": [
    "df"
   ]
  },
  {
   "cell_type": "code",
   "execution_count": 47,
   "metadata": {},
   "outputs": [
    {
     "output_type": "error",
     "ename": "NameError",
     "evalue": "name 'CneterPlayerdf' is not defined",
     "traceback": [
      "\u001b[1;31m---------------------------------------------------------------------------\u001b[0m",
      "\u001b[1;31mNameError\u001b[0m                                 Traceback (most recent call last)",
      "\u001b[1;32m<ipython-input-47-01c8a41aafba>\u001b[0m in \u001b[0;36m<module>\u001b[1;34m\u001b[0m\n\u001b[0;32m      2\u001b[0m \u001b[0mCneterPlayers\u001b[0m \u001b[1;33m=\u001b[0m \u001b[0mdf\u001b[0m\u001b[1;33m[\u001b[0m\u001b[0mdf\u001b[0m\u001b[1;33m[\u001b[0m\u001b[1;34m'POSITION'\u001b[0m\u001b[1;33m]\u001b[0m \u001b[1;33m==\u001b[0m \u001b[1;34m'F-C'\u001b[0m\u001b[1;33m]\u001b[0m\u001b[1;33m\u001b[0m\u001b[1;33m\u001b[0m\u001b[0m\n\u001b[0;32m      3\u001b[0m \u001b[0mcenterplayer\u001b[0m \u001b[1;33m=\u001b[0m \u001b[0mdf\u001b[0m\u001b[1;33m[\u001b[0m\u001b[0mdf\u001b[0m\u001b[1;33m[\u001b[0m\u001b[1;34m'POSITION'\u001b[0m\u001b[1;33m]\u001b[0m \u001b[1;33m==\u001b[0m \u001b[1;34m'C-F'\u001b[0m\u001b[1;33m]\u001b[0m\u001b[1;33m\u001b[0m\u001b[1;33m\u001b[0m\u001b[0m\n\u001b[1;32m----> 4\u001b[1;33m \u001b[0mAllCneterPlayer\u001b[0m \u001b[1;33m=\u001b[0m \u001b[0mpd\u001b[0m\u001b[1;33m.\u001b[0m\u001b[0mconcat\u001b[0m\u001b[1;33m(\u001b[0m\u001b[1;33m[\u001b[0m\u001b[0mCneterPlayer\u001b[0m\u001b[1;33m,\u001b[0m\u001b[0mCneterPlayerdf\u001b[0m\u001b[1;33m,\u001b[0m\u001b[0mcenterplayer\u001b[0m\u001b[1;33m]\u001b[0m\u001b[1;33m)\u001b[0m\u001b[1;33m\u001b[0m\u001b[1;33m\u001b[0m\u001b[0m\n\u001b[0m\u001b[0;32m      5\u001b[0m \u001b[0mAllCneterPlayer\u001b[0m\u001b[1;33m\u001b[0m\u001b[1;33m\u001b[0m\u001b[0m\n",
      "\u001b[1;31mNameError\u001b[0m: name 'CneterPlayerdf' is not defined"
     ]
    }
   ],
   "source": [
    "CneterPlayer = df[df['POSITION'] == 'C'] \n",
    "CneterPlayers = df[df['POSITION'] == 'F-C'] \n",
    "centerplayer = df[df['POSITION'] == 'C-F'] \n",
    "AllCneterPlayer = pd.concat([CneterPlayer,CneterPlayerdf,centerplayer])\n",
    "AllCneterPlayer"
   ]
  },
  {
   "cell_type": "code",
   "execution_count": 23,
   "metadata": {},
   "outputs": [
    {
     "output_type": "execute_result",
     "data": {
      "text/plain": [
       "    PLAYER_LAST_NAME PLAYER_FIRST_NAME     TEAM_CITY  TEAM_NAME  \\\n",
       "0            Achiuwa          Precious         Miami       Heat   \n",
       "9              Aminu         Al-Farouq       Orlando      Magic   \n",
       "11     Antetokounmpo           Giannis     Milwaukee      Bucks   \n",
       "12     Antetokounmpo            Kostas   Los Angeles     Lakers   \n",
       "13     Antetokounmpo          Thanasis     Milwaukee      Bucks   \n",
       "..               ...               ...           ...        ...   \n",
       "359        Oubre Jr.             Kelly  Golden State   Warriors   \n",
       "389          Reddish               Cam       Atlanta      Hawks   \n",
       "422         Sirvydis          Deividas       Detroit    Pistons   \n",
       "435            Tatum            Jayson        Boston    Celtics   \n",
       "487          Winslow           Justise       Memphis  Grizzlies   \n",
       "\n",
       "    TEAM_ABBREVIATION POSITION HEIGHT   WEIGHT        COLLEGE    COUNTRY  \\\n",
       "0                 MIA        F   6'8\"  225 lbs        Memphis    Nigeria   \n",
       "9                 ORL        F   6'8\"  220 lbs    Wake Forest        USA   \n",
       "11                MIL        F  6'11\"  242 lbs  Filathlitikos     Greece   \n",
       "12                LAL        F  6'10\"  200 lbs         Dayton     Greece   \n",
       "13                MIL        F   6'6\"  219 lbs  Panathinaikos     Greece   \n",
       "..                ...      ...    ...      ...            ...        ...   \n",
       "359               GSW      F-G   6'7\"  203 lbs         Kansas        USA   \n",
       "389               ATL      F-G   6'8\"  218 lbs           Duke        USA   \n",
       "422               DET      F-G   6'8\"  190 lbs              -  Lithuania   \n",
       "435               BOS      F-G   6'8\"  210 lbs           Duke        USA   \n",
       "487               MEM      F-G   6'6\"  222 lbs           Duke        USA   \n",
       "\n",
       "     DRAFT_YEAR  DRAFT_ROUND  DRAFT_NUMBER  ROSTER_STATUS   PTS   REB  AST  \\\n",
       "0        2020.0          1.0          20.0            1.0   5.8   3.9  0.5   \n",
       "9        2010.0          1.0           8.0            1.0   4.6   4.4  1.5   \n",
       "11       2013.0          1.0          15.0            1.0  29.0  11.6  6.1   \n",
       "12       2018.0          2.0          60.0            1.0   1.0   2.7  0.0   \n",
       "13       2014.0          2.0          51.0            1.0   2.3   2.0  0.6   \n",
       "..          ...          ...           ...            ...   ...   ...  ...   \n",
       "359      2015.0          1.0          15.0            1.0  15.4   5.9  1.4   \n",
       "389      2019.0          1.0          10.0            1.0  11.2   4.0  1.3   \n",
       "422      2019.0          2.0          37.0            1.0   0.2   0.2  0.2   \n",
       "435      2017.0          1.0           3.0            1.0  25.1   7.0  4.4   \n",
       "487      2015.0          1.0          10.0            1.0   9.0   5.6  2.3   \n",
       "\n",
       "     FROM_YEAR  TO_YEAR  \n",
       "0         2020     2020  \n",
       "9         2010     2020  \n",
       "11        2013     2020  \n",
       "12        2018     2020  \n",
       "13        2015     2020  \n",
       "..         ...      ...  \n",
       "359       2015     2020  \n",
       "389       2019     2020  \n",
       "422       2020     2020  \n",
       "435       2017     2020  \n",
       "487       2015     2020  \n",
       "\n",
       "[278 rows x 19 columns]"
      ],
      "text/html": "<div>\n<style scoped>\n    .dataframe tbody tr th:only-of-type {\n        vertical-align: middle;\n    }\n\n    .dataframe tbody tr th {\n        vertical-align: top;\n    }\n\n    .dataframe thead th {\n        text-align: right;\n    }\n</style>\n<table border=\"1\" class=\"dataframe\">\n  <thead>\n    <tr style=\"text-align: right;\">\n      <th></th>\n      <th>PLAYER_LAST_NAME</th>\n      <th>PLAYER_FIRST_NAME</th>\n      <th>TEAM_CITY</th>\n      <th>TEAM_NAME</th>\n      <th>TEAM_ABBREVIATION</th>\n      <th>POSITION</th>\n      <th>HEIGHT</th>\n      <th>WEIGHT</th>\n      <th>COLLEGE</th>\n      <th>COUNTRY</th>\n      <th>DRAFT_YEAR</th>\n      <th>DRAFT_ROUND</th>\n      <th>DRAFT_NUMBER</th>\n      <th>ROSTER_STATUS</th>\n      <th>PTS</th>\n      <th>REB</th>\n      <th>AST</th>\n      <th>FROM_YEAR</th>\n      <th>TO_YEAR</th>\n    </tr>\n  </thead>\n  <tbody>\n    <tr>\n      <th>0</th>\n      <td>Achiuwa</td>\n      <td>Precious</td>\n      <td>Miami</td>\n      <td>Heat</td>\n      <td>MIA</td>\n      <td>F</td>\n      <td>6'8\"</td>\n      <td>225 lbs</td>\n      <td>Memphis</td>\n      <td>Nigeria</td>\n      <td>2020.0</td>\n      <td>1.0</td>\n      <td>20.0</td>\n      <td>1.0</td>\n      <td>5.8</td>\n      <td>3.9</td>\n      <td>0.5</td>\n      <td>2020</td>\n      <td>2020</td>\n    </tr>\n    <tr>\n      <th>9</th>\n      <td>Aminu</td>\n      <td>Al-Farouq</td>\n      <td>Orlando</td>\n      <td>Magic</td>\n      <td>ORL</td>\n      <td>F</td>\n      <td>6'8\"</td>\n      <td>220 lbs</td>\n      <td>Wake Forest</td>\n      <td>USA</td>\n      <td>2010.0</td>\n      <td>1.0</td>\n      <td>8.0</td>\n      <td>1.0</td>\n      <td>4.6</td>\n      <td>4.4</td>\n      <td>1.5</td>\n      <td>2010</td>\n      <td>2020</td>\n    </tr>\n    <tr>\n      <th>11</th>\n      <td>Antetokounmpo</td>\n      <td>Giannis</td>\n      <td>Milwaukee</td>\n      <td>Bucks</td>\n      <td>MIL</td>\n      <td>F</td>\n      <td>6'11\"</td>\n      <td>242 lbs</td>\n      <td>Filathlitikos</td>\n      <td>Greece</td>\n      <td>2013.0</td>\n      <td>1.0</td>\n      <td>15.0</td>\n      <td>1.0</td>\n      <td>29.0</td>\n      <td>11.6</td>\n      <td>6.1</td>\n      <td>2013</td>\n      <td>2020</td>\n    </tr>\n    <tr>\n      <th>12</th>\n      <td>Antetokounmpo</td>\n      <td>Kostas</td>\n      <td>Los Angeles</td>\n      <td>Lakers</td>\n      <td>LAL</td>\n      <td>F</td>\n      <td>6'10\"</td>\n      <td>200 lbs</td>\n      <td>Dayton</td>\n      <td>Greece</td>\n      <td>2018.0</td>\n      <td>2.0</td>\n      <td>60.0</td>\n      <td>1.0</td>\n      <td>1.0</td>\n      <td>2.7</td>\n      <td>0.0</td>\n      <td>2018</td>\n      <td>2020</td>\n    </tr>\n    <tr>\n      <th>13</th>\n      <td>Antetokounmpo</td>\n      <td>Thanasis</td>\n      <td>Milwaukee</td>\n      <td>Bucks</td>\n      <td>MIL</td>\n      <td>F</td>\n      <td>6'6\"</td>\n      <td>219 lbs</td>\n      <td>Panathinaikos</td>\n      <td>Greece</td>\n      <td>2014.0</td>\n      <td>2.0</td>\n      <td>51.0</td>\n      <td>1.0</td>\n      <td>2.3</td>\n      <td>2.0</td>\n      <td>0.6</td>\n      <td>2015</td>\n      <td>2020</td>\n    </tr>\n    <tr>\n      <th>...</th>\n      <td>...</td>\n      <td>...</td>\n      <td>...</td>\n      <td>...</td>\n      <td>...</td>\n      <td>...</td>\n      <td>...</td>\n      <td>...</td>\n      <td>...</td>\n      <td>...</td>\n      <td>...</td>\n      <td>...</td>\n      <td>...</td>\n      <td>...</td>\n      <td>...</td>\n      <td>...</td>\n      <td>...</td>\n      <td>...</td>\n      <td>...</td>\n    </tr>\n    <tr>\n      <th>359</th>\n      <td>Oubre Jr.</td>\n      <td>Kelly</td>\n      <td>Golden State</td>\n      <td>Warriors</td>\n      <td>GSW</td>\n      <td>F-G</td>\n      <td>6'7\"</td>\n      <td>203 lbs</td>\n      <td>Kansas</td>\n      <td>USA</td>\n      <td>2015.0</td>\n      <td>1.0</td>\n      <td>15.0</td>\n      <td>1.0</td>\n      <td>15.4</td>\n      <td>5.9</td>\n      <td>1.4</td>\n      <td>2015</td>\n      <td>2020</td>\n    </tr>\n    <tr>\n      <th>389</th>\n      <td>Reddish</td>\n      <td>Cam</td>\n      <td>Atlanta</td>\n      <td>Hawks</td>\n      <td>ATL</td>\n      <td>F-G</td>\n      <td>6'8\"</td>\n      <td>218 lbs</td>\n      <td>Duke</td>\n      <td>USA</td>\n      <td>2019.0</td>\n      <td>1.0</td>\n      <td>10.0</td>\n      <td>1.0</td>\n      <td>11.2</td>\n      <td>4.0</td>\n      <td>1.3</td>\n      <td>2019</td>\n      <td>2020</td>\n    </tr>\n    <tr>\n      <th>422</th>\n      <td>Sirvydis</td>\n      <td>Deividas</td>\n      <td>Detroit</td>\n      <td>Pistons</td>\n      <td>DET</td>\n      <td>F-G</td>\n      <td>6'8\"</td>\n      <td>190 lbs</td>\n      <td>-</td>\n      <td>Lithuania</td>\n      <td>2019.0</td>\n      <td>2.0</td>\n      <td>37.0</td>\n      <td>1.0</td>\n      <td>0.2</td>\n      <td>0.2</td>\n      <td>0.2</td>\n      <td>2020</td>\n      <td>2020</td>\n    </tr>\n    <tr>\n      <th>435</th>\n      <td>Tatum</td>\n      <td>Jayson</td>\n      <td>Boston</td>\n      <td>Celtics</td>\n      <td>BOS</td>\n      <td>F-G</td>\n      <td>6'8\"</td>\n      <td>210 lbs</td>\n      <td>Duke</td>\n      <td>USA</td>\n      <td>2017.0</td>\n      <td>1.0</td>\n      <td>3.0</td>\n      <td>1.0</td>\n      <td>25.1</td>\n      <td>7.0</td>\n      <td>4.4</td>\n      <td>2017</td>\n      <td>2020</td>\n    </tr>\n    <tr>\n      <th>487</th>\n      <td>Winslow</td>\n      <td>Justise</td>\n      <td>Memphis</td>\n      <td>Grizzlies</td>\n      <td>MEM</td>\n      <td>F-G</td>\n      <td>6'6\"</td>\n      <td>222 lbs</td>\n      <td>Duke</td>\n      <td>USA</td>\n      <td>2015.0</td>\n      <td>1.0</td>\n      <td>10.0</td>\n      <td>1.0</td>\n      <td>9.0</td>\n      <td>5.6</td>\n      <td>2.3</td>\n      <td>2015</td>\n      <td>2020</td>\n    </tr>\n  </tbody>\n</table>\n<p>278 rows × 19 columns</p>\n</div>"
     },
     "metadata": {},
     "execution_count": 23
    }
   ],
   "source": [
    "FPlayer = df[df['POSITION'] == 'F'] \n",
    "FPlayers = df[df['POSITION'] == 'F-C'] \n",
    "fplayer = df[df['POSITION'] == 'C-F'] \n",
    "fplayers = df[df['POSITION'] == 'G-F'] \n",
    "fowardplayers = df[df['POSITION'] == 'F-G'] \n",
    "AllForwardPlayer = pd.concat([FPlayer,FPlayers,fplayer,fplayers,fowardplayers])\n",
    "AllForwardPlayer"
   ]
  },
  {
   "cell_type": "code",
   "execution_count": 24,
   "metadata": {},
   "outputs": [
    {
     "output_type": "execute_result",
     "data": {
      "text/plain": [
       "     PLAYER_LAST_NAME PLAYER_FIRST_NAME      TEAM_CITY      TEAM_NAME  \\\n",
       "1               Adams            Jaylen       Portland  Trail Blazers   \n",
       "5           Alexander           Ty-Shon        Phoenix           Suns   \n",
       "6    Alexander-Walker           Nickeil    New Orleans       Pelicans   \n",
       "7               Allen           Grayson        Memphis      Grizzlies   \n",
       "15            Anthony              Cole        Orlando          Magic   \n",
       "..                ...               ...            ...            ...   \n",
       "457           Vassell             Devin    San Antonio          Spurs   \n",
       "464         Walker IV            Lonnie    San Antonio          Spurs   \n",
       "469          Watanabe              Yuta        Toronto        Raptors   \n",
       "480          Williams           Kenrich  Oklahoma City        Thunder   \n",
       "486           Windler             Dylan      Cleveland      Cavaliers   \n",
       "\n",
       "    TEAM_ABBREVIATION POSITION HEIGHT   WEIGHT            COLLEGE COUNTRY  \\\n",
       "1                 POR        G   6'0\"  225 lbs    St. Bonaventure     USA   \n",
       "5                 PHX        G   6'3\"  195 lbs          Creighton     USA   \n",
       "6                 NOP        G   6'6\"  205 lbs      Virginia Tech  Canada   \n",
       "7                 MEM        G   6'4\"  198 lbs               Duke     USA   \n",
       "15                ORL        G   6'2\"  185 lbs     North Carolina     USA   \n",
       "..                ...      ...    ...      ...                ...     ...   \n",
       "457               SAS      G-F   6'5\"  200 lbs      Florida State     USA   \n",
       "464               SAS      G-F   6'4\"  204 lbs              Miami     USA   \n",
       "469               TOR      G-F   6'9\"  215 lbs  George Washington   Japan   \n",
       "480               OKC      G-F   6'6\"  210 lbs                TCU     USA   \n",
       "486               CLE      G-F   6'6\"  196 lbs            Belmont     USA   \n",
       "\n",
       "     DRAFT_YEAR  DRAFT_ROUND  DRAFT_NUMBER  ROSTER_STATUS   PTS  REB  AST  \\\n",
       "1           NaN          NaN           NaN            NaN   0.3  0.4  0.3   \n",
       "5           NaN          NaN           NaN            1.0   0.0  0.3  0.3   \n",
       "6        2019.0          1.0          17.0            1.0   8.5  2.6  2.0   \n",
       "7        2018.0          1.0          21.0            1.0   9.3  2.8  2.2   \n",
       "15       2020.0          1.0          15.0            1.0  11.0  4.4  3.8   \n",
       "..          ...          ...           ...            ...   ...  ...  ...   \n",
       "457      2020.0          1.0          11.0            1.0   5.6  3.2  1.1   \n",
       "464      2018.0          1.0          18.0            1.0  11.1  2.9  1.7   \n",
       "469         NaN          NaN           NaN            1.0   2.7  3.1  0.4   \n",
       "480         NaN          NaN           NaN            1.0   6.3  3.9  1.7   \n",
       "486      2019.0          1.0          26.0            1.0   6.3  4.1  1.2   \n",
       "\n",
       "     FROM_YEAR  TO_YEAR  \n",
       "1         2018     2020  \n",
       "5         2020     2020  \n",
       "6         2019     2020  \n",
       "7         2018     2020  \n",
       "15        2020     2020  \n",
       "..         ...      ...  \n",
       "457       2020     2020  \n",
       "464       2018     2020  \n",
       "469       2018     2020  \n",
       "480       2018     2020  \n",
       "486       2019     2020  \n",
       "\n",
       "[261 rows x 19 columns]"
      ],
      "text/html": "<div>\n<style scoped>\n    .dataframe tbody tr th:only-of-type {\n        vertical-align: middle;\n    }\n\n    .dataframe tbody tr th {\n        vertical-align: top;\n    }\n\n    .dataframe thead th {\n        text-align: right;\n    }\n</style>\n<table border=\"1\" class=\"dataframe\">\n  <thead>\n    <tr style=\"text-align: right;\">\n      <th></th>\n      <th>PLAYER_LAST_NAME</th>\n      <th>PLAYER_FIRST_NAME</th>\n      <th>TEAM_CITY</th>\n      <th>TEAM_NAME</th>\n      <th>TEAM_ABBREVIATION</th>\n      <th>POSITION</th>\n      <th>HEIGHT</th>\n      <th>WEIGHT</th>\n      <th>COLLEGE</th>\n      <th>COUNTRY</th>\n      <th>DRAFT_YEAR</th>\n      <th>DRAFT_ROUND</th>\n      <th>DRAFT_NUMBER</th>\n      <th>ROSTER_STATUS</th>\n      <th>PTS</th>\n      <th>REB</th>\n      <th>AST</th>\n      <th>FROM_YEAR</th>\n      <th>TO_YEAR</th>\n    </tr>\n  </thead>\n  <tbody>\n    <tr>\n      <th>1</th>\n      <td>Adams</td>\n      <td>Jaylen</td>\n      <td>Portland</td>\n      <td>Trail Blazers</td>\n      <td>POR</td>\n      <td>G</td>\n      <td>6'0\"</td>\n      <td>225 lbs</td>\n      <td>St. Bonaventure</td>\n      <td>USA</td>\n      <td>NaN</td>\n      <td>NaN</td>\n      <td>NaN</td>\n      <td>NaN</td>\n      <td>0.3</td>\n      <td>0.4</td>\n      <td>0.3</td>\n      <td>2018</td>\n      <td>2020</td>\n    </tr>\n    <tr>\n      <th>5</th>\n      <td>Alexander</td>\n      <td>Ty-Shon</td>\n      <td>Phoenix</td>\n      <td>Suns</td>\n      <td>PHX</td>\n      <td>G</td>\n      <td>6'3\"</td>\n      <td>195 lbs</td>\n      <td>Creighton</td>\n      <td>USA</td>\n      <td>NaN</td>\n      <td>NaN</td>\n      <td>NaN</td>\n      <td>1.0</td>\n      <td>0.0</td>\n      <td>0.3</td>\n      <td>0.3</td>\n      <td>2020</td>\n      <td>2020</td>\n    </tr>\n    <tr>\n      <th>6</th>\n      <td>Alexander-Walker</td>\n      <td>Nickeil</td>\n      <td>New Orleans</td>\n      <td>Pelicans</td>\n      <td>NOP</td>\n      <td>G</td>\n      <td>6'6\"</td>\n      <td>205 lbs</td>\n      <td>Virginia Tech</td>\n      <td>Canada</td>\n      <td>2019.0</td>\n      <td>1.0</td>\n      <td>17.0</td>\n      <td>1.0</td>\n      <td>8.5</td>\n      <td>2.6</td>\n      <td>2.0</td>\n      <td>2019</td>\n      <td>2020</td>\n    </tr>\n    <tr>\n      <th>7</th>\n      <td>Allen</td>\n      <td>Grayson</td>\n      <td>Memphis</td>\n      <td>Grizzlies</td>\n      <td>MEM</td>\n      <td>G</td>\n      <td>6'4\"</td>\n      <td>198 lbs</td>\n      <td>Duke</td>\n      <td>USA</td>\n      <td>2018.0</td>\n      <td>1.0</td>\n      <td>21.0</td>\n      <td>1.0</td>\n      <td>9.3</td>\n      <td>2.8</td>\n      <td>2.2</td>\n      <td>2018</td>\n      <td>2020</td>\n    </tr>\n    <tr>\n      <th>15</th>\n      <td>Anthony</td>\n      <td>Cole</td>\n      <td>Orlando</td>\n      <td>Magic</td>\n      <td>ORL</td>\n      <td>G</td>\n      <td>6'2\"</td>\n      <td>185 lbs</td>\n      <td>North Carolina</td>\n      <td>USA</td>\n      <td>2020.0</td>\n      <td>1.0</td>\n      <td>15.0</td>\n      <td>1.0</td>\n      <td>11.0</td>\n      <td>4.4</td>\n      <td>3.8</td>\n      <td>2020</td>\n      <td>2020</td>\n    </tr>\n    <tr>\n      <th>...</th>\n      <td>...</td>\n      <td>...</td>\n      <td>...</td>\n      <td>...</td>\n      <td>...</td>\n      <td>...</td>\n      <td>...</td>\n      <td>...</td>\n      <td>...</td>\n      <td>...</td>\n      <td>...</td>\n      <td>...</td>\n      <td>...</td>\n      <td>...</td>\n      <td>...</td>\n      <td>...</td>\n      <td>...</td>\n      <td>...</td>\n      <td>...</td>\n    </tr>\n    <tr>\n      <th>457</th>\n      <td>Vassell</td>\n      <td>Devin</td>\n      <td>San Antonio</td>\n      <td>Spurs</td>\n      <td>SAS</td>\n      <td>G-F</td>\n      <td>6'5\"</td>\n      <td>200 lbs</td>\n      <td>Florida State</td>\n      <td>USA</td>\n      <td>2020.0</td>\n      <td>1.0</td>\n      <td>11.0</td>\n      <td>1.0</td>\n      <td>5.6</td>\n      <td>3.2</td>\n      <td>1.1</td>\n      <td>2020</td>\n      <td>2020</td>\n    </tr>\n    <tr>\n      <th>464</th>\n      <td>Walker IV</td>\n      <td>Lonnie</td>\n      <td>San Antonio</td>\n      <td>Spurs</td>\n      <td>SAS</td>\n      <td>G-F</td>\n      <td>6'4\"</td>\n      <td>204 lbs</td>\n      <td>Miami</td>\n      <td>USA</td>\n      <td>2018.0</td>\n      <td>1.0</td>\n      <td>18.0</td>\n      <td>1.0</td>\n      <td>11.1</td>\n      <td>2.9</td>\n      <td>1.7</td>\n      <td>2018</td>\n      <td>2020</td>\n    </tr>\n    <tr>\n      <th>469</th>\n      <td>Watanabe</td>\n      <td>Yuta</td>\n      <td>Toronto</td>\n      <td>Raptors</td>\n      <td>TOR</td>\n      <td>G-F</td>\n      <td>6'9\"</td>\n      <td>215 lbs</td>\n      <td>George Washington</td>\n      <td>Japan</td>\n      <td>NaN</td>\n      <td>NaN</td>\n      <td>NaN</td>\n      <td>1.0</td>\n      <td>2.7</td>\n      <td>3.1</td>\n      <td>0.4</td>\n      <td>2018</td>\n      <td>2020</td>\n    </tr>\n    <tr>\n      <th>480</th>\n      <td>Williams</td>\n      <td>Kenrich</td>\n      <td>Oklahoma City</td>\n      <td>Thunder</td>\n      <td>OKC</td>\n      <td>G-F</td>\n      <td>6'6\"</td>\n      <td>210 lbs</td>\n      <td>TCU</td>\n      <td>USA</td>\n      <td>NaN</td>\n      <td>NaN</td>\n      <td>NaN</td>\n      <td>1.0</td>\n      <td>6.3</td>\n      <td>3.9</td>\n      <td>1.7</td>\n      <td>2018</td>\n      <td>2020</td>\n    </tr>\n    <tr>\n      <th>486</th>\n      <td>Windler</td>\n      <td>Dylan</td>\n      <td>Cleveland</td>\n      <td>Cavaliers</td>\n      <td>CLE</td>\n      <td>G-F</td>\n      <td>6'6\"</td>\n      <td>196 lbs</td>\n      <td>Belmont</td>\n      <td>USA</td>\n      <td>2019.0</td>\n      <td>1.0</td>\n      <td>26.0</td>\n      <td>1.0</td>\n      <td>6.3</td>\n      <td>4.1</td>\n      <td>1.2</td>\n      <td>2019</td>\n      <td>2020</td>\n    </tr>\n  </tbody>\n</table>\n<p>261 rows × 19 columns</p>\n</div>"
     },
     "metadata": {},
     "execution_count": 24
    }
   ],
   "source": [
    "GuardPlayer = df[df['POSITION'] == 'G'] \n",
    "GuardPlayers = df[df['POSITION'] == 'F-G'] \n",
    "guardplayer = df[df['POSITION'] == 'G-F'] \n",
    "AllGuardPlayer = pd.concat([GuardPlayer,GuardPlayers,guardplayer])\n",
    "AllGuardPlayer"
   ]
  },
  {
   "cell_type": "code",
   "execution_count": 30,
   "metadata": {},
   "outputs": [
    {
     "output_type": "execute_result",
     "data": {
      "text/plain": [
       "                DRAFT_YEAR  DRAFT_ROUND  DRAFT_NUMBER  ROSTER_STATUS  \\\n",
       "TEAM_CITY                                                              \n",
       "Atlanta        2015.571429     1.142857     19.214286            1.0   \n",
       "Boston         2016.153846     1.230769     19.538462            1.0   \n",
       "Brooklyn       2013.076923     1.461538     22.923077            1.0   \n",
       "Charlotte      2016.928571     1.428571     23.285714            1.0   \n",
       "Chicago        2015.727273     1.181818     14.454545            1.0   \n",
       "Cleveland      2015.461538     1.230769     19.230769            1.0   \n",
       "Dallas         2015.923077     1.461538     22.923077            1.0   \n",
       "Denver         2015.692308     1.538462     31.538462            1.0   \n",
       "Detroit        2016.941176     1.352941     23.647059            1.0   \n",
       "Golden State   2015.363636     1.272727     20.000000            1.0   \n",
       "Houston        2013.846154     1.307692     21.384615            1.0   \n",
       "Indiana        2016.000000     1.272727     23.818182            1.0   \n",
       "LA             2012.428571     1.357143     26.071429            1.0   \n",
       "Los Angeles    2012.583333     1.333333     25.416667            1.0   \n",
       "Memphis        2016.583333     1.250000     24.166667            1.0   \n",
       "Miami          2013.181818     1.181818     20.090909            1.0   \n",
       "Milwaukee      2014.307692     1.461538     29.000000            1.0   \n",
       "Minnesota      2016.230769     1.230769     18.538462            1.0   \n",
       "New Orleans    2015.666667     1.166667     16.416667            1.0   \n",
       "New York       2015.000000     1.133333     15.533333            1.0   \n",
       "Oklahoma City  2015.615385     1.384615     27.615385            1.0   \n",
       "Orlando        2014.692308     1.166667     16.250000            1.0   \n",
       "Philadelphia   2015.133333     1.400000     28.666667            1.0   \n",
       "Phoenix        2015.076923     1.307692     20.230769            1.0   \n",
       "Portland       2014.833333     1.181818     19.363636            1.0   \n",
       "Sacramento     2015.933333     1.533333     26.333333            1.0   \n",
       "San Antonio    2015.133333     1.266667     24.533333            1.0   \n",
       "Toronto        2015.700000     1.300000     29.300000            1.0   \n",
       "Utah           2015.090909     1.545455     31.636364            1.0   \n",
       "Washington     2015.333333     1.333333     23.066667            1.0   \n",
       "\n",
       "                     PTS       REB       AST    FROM_YEAR  TO_YEAR  \n",
       "TEAM_CITY                                                           \n",
       "Atlanta         9.318750  3.862500  1.981250  2016.187500   2020.0  \n",
       "Boston          9.375000  3.562500  2.037500  2016.562500   2020.0  \n",
       "Brooklyn       11.773333  4.186667  2.873333  2013.466667   2020.0  \n",
       "Charlotte       8.687500  3.618750  2.031250  2017.250000   2020.0  \n",
       "Chicago         8.461111  3.527778  1.866667  2016.166667   2020.0  \n",
       "Cleveland       8.900000  4.194118  2.017647  2016.352941   2020.0  \n",
       "Dallas          8.382353  3.447059  1.623529  2016.176471   2020.0  \n",
       "Denver          7.468421  2.978947  1.657895  2016.736842   2020.0  \n",
       "Detroit         7.338889  2.972222  1.805556  2016.944444   2020.0  \n",
       "Golden State    9.193750  4.118750  2.318750  2015.875000   2020.0  \n",
       "Houston         9.326316  3.715789  2.010526  2015.105263   2020.0  \n",
       "Indiana         9.264706  3.282353  2.041176  2016.176471   2020.0  \n",
       "LA              9.526667  3.606667  1.980000  2013.133333   2020.0  \n",
       "Los Angeles     8.287500  3.625000  1.756250  2013.375000   2020.0  \n",
       "Memphis         9.813333  4.120000  2.333333  2017.266667   2020.0  \n",
       "Miami           9.381250  3.687500  2.293750  2014.875000   2020.0  \n",
       "Milwaukee       8.458824  3.605882  2.141176  2014.941176   2020.0  \n",
       "Minnesota      10.086667  4.120000  2.306667  2016.733333   2020.0  \n",
       "New Orleans     8.726667  3.766667  1.986667  2016.400000   2020.0  \n",
       "New York        8.205882  3.529412  1.682353  2015.411765   2020.0  \n",
       "Oklahoma City   8.670588  3.858824  2.052941  2016.411765   2020.0  \n",
       "Orlando         9.581250  4.293750  2.406250  2015.562500   2020.0  \n",
       "Philadelphia    8.505556  3.516667  1.694444  2015.500000   2020.0  \n",
       "Phoenix         8.986667  3.373333  2.126667  2015.533333   2020.0  \n",
       "Portland        9.960000  3.826667  1.833333  2015.066667   2020.0  \n",
       "Sacramento      8.723529  3.500000  1.917647  2016.411765   2020.0  \n",
       "San Antonio     8.806250  3.525000  1.950000  2015.312500   2020.0  \n",
       "Toronto         8.588235  3.547059  2.076471  2016.294118   2020.0  \n",
       "Utah            8.480000  3.486667  1.773333  2015.933333   2020.0  \n",
       "Washington      8.500000  3.477778  1.961111  2016.000000   2020.0  "
      ],
      "text/html": "<div>\n<style scoped>\n    .dataframe tbody tr th:only-of-type {\n        vertical-align: middle;\n    }\n\n    .dataframe tbody tr th {\n        vertical-align: top;\n    }\n\n    .dataframe thead th {\n        text-align: right;\n    }\n</style>\n<table border=\"1\" class=\"dataframe\">\n  <thead>\n    <tr style=\"text-align: right;\">\n      <th></th>\n      <th>DRAFT_YEAR</th>\n      <th>DRAFT_ROUND</th>\n      <th>DRAFT_NUMBER</th>\n      <th>ROSTER_STATUS</th>\n      <th>PTS</th>\n      <th>REB</th>\n      <th>AST</th>\n      <th>FROM_YEAR</th>\n      <th>TO_YEAR</th>\n    </tr>\n    <tr>\n      <th>TEAM_CITY</th>\n      <th></th>\n      <th></th>\n      <th></th>\n      <th></th>\n      <th></th>\n      <th></th>\n      <th></th>\n      <th></th>\n      <th></th>\n    </tr>\n  </thead>\n  <tbody>\n    <tr>\n      <th>Atlanta</th>\n      <td>2015.571429</td>\n      <td>1.142857</td>\n      <td>19.214286</td>\n      <td>1.0</td>\n      <td>9.318750</td>\n      <td>3.862500</td>\n      <td>1.981250</td>\n      <td>2016.187500</td>\n      <td>2020.0</td>\n    </tr>\n    <tr>\n      <th>Boston</th>\n      <td>2016.153846</td>\n      <td>1.230769</td>\n      <td>19.538462</td>\n      <td>1.0</td>\n      <td>9.375000</td>\n      <td>3.562500</td>\n      <td>2.037500</td>\n      <td>2016.562500</td>\n      <td>2020.0</td>\n    </tr>\n    <tr>\n      <th>Brooklyn</th>\n      <td>2013.076923</td>\n      <td>1.461538</td>\n      <td>22.923077</td>\n      <td>1.0</td>\n      <td>11.773333</td>\n      <td>4.186667</td>\n      <td>2.873333</td>\n      <td>2013.466667</td>\n      <td>2020.0</td>\n    </tr>\n    <tr>\n      <th>Charlotte</th>\n      <td>2016.928571</td>\n      <td>1.428571</td>\n      <td>23.285714</td>\n      <td>1.0</td>\n      <td>8.687500</td>\n      <td>3.618750</td>\n      <td>2.031250</td>\n      <td>2017.250000</td>\n      <td>2020.0</td>\n    </tr>\n    <tr>\n      <th>Chicago</th>\n      <td>2015.727273</td>\n      <td>1.181818</td>\n      <td>14.454545</td>\n      <td>1.0</td>\n      <td>8.461111</td>\n      <td>3.527778</td>\n      <td>1.866667</td>\n      <td>2016.166667</td>\n      <td>2020.0</td>\n    </tr>\n    <tr>\n      <th>Cleveland</th>\n      <td>2015.461538</td>\n      <td>1.230769</td>\n      <td>19.230769</td>\n      <td>1.0</td>\n      <td>8.900000</td>\n      <td>4.194118</td>\n      <td>2.017647</td>\n      <td>2016.352941</td>\n      <td>2020.0</td>\n    </tr>\n    <tr>\n      <th>Dallas</th>\n      <td>2015.923077</td>\n      <td>1.461538</td>\n      <td>22.923077</td>\n      <td>1.0</td>\n      <td>8.382353</td>\n      <td>3.447059</td>\n      <td>1.623529</td>\n      <td>2016.176471</td>\n      <td>2020.0</td>\n    </tr>\n    <tr>\n      <th>Denver</th>\n      <td>2015.692308</td>\n      <td>1.538462</td>\n      <td>31.538462</td>\n      <td>1.0</td>\n      <td>7.468421</td>\n      <td>2.978947</td>\n      <td>1.657895</td>\n      <td>2016.736842</td>\n      <td>2020.0</td>\n    </tr>\n    <tr>\n      <th>Detroit</th>\n      <td>2016.941176</td>\n      <td>1.352941</td>\n      <td>23.647059</td>\n      <td>1.0</td>\n      <td>7.338889</td>\n      <td>2.972222</td>\n      <td>1.805556</td>\n      <td>2016.944444</td>\n      <td>2020.0</td>\n    </tr>\n    <tr>\n      <th>Golden State</th>\n      <td>2015.363636</td>\n      <td>1.272727</td>\n      <td>20.000000</td>\n      <td>1.0</td>\n      <td>9.193750</td>\n      <td>4.118750</td>\n      <td>2.318750</td>\n      <td>2015.875000</td>\n      <td>2020.0</td>\n    </tr>\n    <tr>\n      <th>Houston</th>\n      <td>2013.846154</td>\n      <td>1.307692</td>\n      <td>21.384615</td>\n      <td>1.0</td>\n      <td>9.326316</td>\n      <td>3.715789</td>\n      <td>2.010526</td>\n      <td>2015.105263</td>\n      <td>2020.0</td>\n    </tr>\n    <tr>\n      <th>Indiana</th>\n      <td>2016.000000</td>\n      <td>1.272727</td>\n      <td>23.818182</td>\n      <td>1.0</td>\n      <td>9.264706</td>\n      <td>3.282353</td>\n      <td>2.041176</td>\n      <td>2016.176471</td>\n      <td>2020.0</td>\n    </tr>\n    <tr>\n      <th>LA</th>\n      <td>2012.428571</td>\n      <td>1.357143</td>\n      <td>26.071429</td>\n      <td>1.0</td>\n      <td>9.526667</td>\n      <td>3.606667</td>\n      <td>1.980000</td>\n      <td>2013.133333</td>\n      <td>2020.0</td>\n    </tr>\n    <tr>\n      <th>Los Angeles</th>\n      <td>2012.583333</td>\n      <td>1.333333</td>\n      <td>25.416667</td>\n      <td>1.0</td>\n      <td>8.287500</td>\n      <td>3.625000</td>\n      <td>1.756250</td>\n      <td>2013.375000</td>\n      <td>2020.0</td>\n    </tr>\n    <tr>\n      <th>Memphis</th>\n      <td>2016.583333</td>\n      <td>1.250000</td>\n      <td>24.166667</td>\n      <td>1.0</td>\n      <td>9.813333</td>\n      <td>4.120000</td>\n      <td>2.333333</td>\n      <td>2017.266667</td>\n      <td>2020.0</td>\n    </tr>\n    <tr>\n      <th>Miami</th>\n      <td>2013.181818</td>\n      <td>1.181818</td>\n      <td>20.090909</td>\n      <td>1.0</td>\n      <td>9.381250</td>\n      <td>3.687500</td>\n      <td>2.293750</td>\n      <td>2014.875000</td>\n      <td>2020.0</td>\n    </tr>\n    <tr>\n      <th>Milwaukee</th>\n      <td>2014.307692</td>\n      <td>1.461538</td>\n      <td>29.000000</td>\n      <td>1.0</td>\n      <td>8.458824</td>\n      <td>3.605882</td>\n      <td>2.141176</td>\n      <td>2014.941176</td>\n      <td>2020.0</td>\n    </tr>\n    <tr>\n      <th>Minnesota</th>\n      <td>2016.230769</td>\n      <td>1.230769</td>\n      <td>18.538462</td>\n      <td>1.0</td>\n      <td>10.086667</td>\n      <td>4.120000</td>\n      <td>2.306667</td>\n      <td>2016.733333</td>\n      <td>2020.0</td>\n    </tr>\n    <tr>\n      <th>New Orleans</th>\n      <td>2015.666667</td>\n      <td>1.166667</td>\n      <td>16.416667</td>\n      <td>1.0</td>\n      <td>8.726667</td>\n      <td>3.766667</td>\n      <td>1.986667</td>\n      <td>2016.400000</td>\n      <td>2020.0</td>\n    </tr>\n    <tr>\n      <th>New York</th>\n      <td>2015.000000</td>\n      <td>1.133333</td>\n      <td>15.533333</td>\n      <td>1.0</td>\n      <td>8.205882</td>\n      <td>3.529412</td>\n      <td>1.682353</td>\n      <td>2015.411765</td>\n      <td>2020.0</td>\n    </tr>\n    <tr>\n      <th>Oklahoma City</th>\n      <td>2015.615385</td>\n      <td>1.384615</td>\n      <td>27.615385</td>\n      <td>1.0</td>\n      <td>8.670588</td>\n      <td>3.858824</td>\n      <td>2.052941</td>\n      <td>2016.411765</td>\n      <td>2020.0</td>\n    </tr>\n    <tr>\n      <th>Orlando</th>\n      <td>2014.692308</td>\n      <td>1.166667</td>\n      <td>16.250000</td>\n      <td>1.0</td>\n      <td>9.581250</td>\n      <td>4.293750</td>\n      <td>2.406250</td>\n      <td>2015.562500</td>\n      <td>2020.0</td>\n    </tr>\n    <tr>\n      <th>Philadelphia</th>\n      <td>2015.133333</td>\n      <td>1.400000</td>\n      <td>28.666667</td>\n      <td>1.0</td>\n      <td>8.505556</td>\n      <td>3.516667</td>\n      <td>1.694444</td>\n      <td>2015.500000</td>\n      <td>2020.0</td>\n    </tr>\n    <tr>\n      <th>Phoenix</th>\n      <td>2015.076923</td>\n      <td>1.307692</td>\n      <td>20.230769</td>\n      <td>1.0</td>\n      <td>8.986667</td>\n      <td>3.373333</td>\n      <td>2.126667</td>\n      <td>2015.533333</td>\n      <td>2020.0</td>\n    </tr>\n    <tr>\n      <th>Portland</th>\n      <td>2014.833333</td>\n      <td>1.181818</td>\n      <td>19.363636</td>\n      <td>1.0</td>\n      <td>9.960000</td>\n      <td>3.826667</td>\n      <td>1.833333</td>\n      <td>2015.066667</td>\n      <td>2020.0</td>\n    </tr>\n    <tr>\n      <th>Sacramento</th>\n      <td>2015.933333</td>\n      <td>1.533333</td>\n      <td>26.333333</td>\n      <td>1.0</td>\n      <td>8.723529</td>\n      <td>3.500000</td>\n      <td>1.917647</td>\n      <td>2016.411765</td>\n      <td>2020.0</td>\n    </tr>\n    <tr>\n      <th>San Antonio</th>\n      <td>2015.133333</td>\n      <td>1.266667</td>\n      <td>24.533333</td>\n      <td>1.0</td>\n      <td>8.806250</td>\n      <td>3.525000</td>\n      <td>1.950000</td>\n      <td>2015.312500</td>\n      <td>2020.0</td>\n    </tr>\n    <tr>\n      <th>Toronto</th>\n      <td>2015.700000</td>\n      <td>1.300000</td>\n      <td>29.300000</td>\n      <td>1.0</td>\n      <td>8.588235</td>\n      <td>3.547059</td>\n      <td>2.076471</td>\n      <td>2016.294118</td>\n      <td>2020.0</td>\n    </tr>\n    <tr>\n      <th>Utah</th>\n      <td>2015.090909</td>\n      <td>1.545455</td>\n      <td>31.636364</td>\n      <td>1.0</td>\n      <td>8.480000</td>\n      <td>3.486667</td>\n      <td>1.773333</td>\n      <td>2015.933333</td>\n      <td>2020.0</td>\n    </tr>\n    <tr>\n      <th>Washington</th>\n      <td>2015.333333</td>\n      <td>1.333333</td>\n      <td>23.066667</td>\n      <td>1.0</td>\n      <td>8.500000</td>\n      <td>3.477778</td>\n      <td>1.961111</td>\n      <td>2016.000000</td>\n      <td>2020.0</td>\n    </tr>\n  </tbody>\n</table>\n</div>"
     },
     "metadata": {},
     "execution_count": 30
    }
   ],
   "source": [
    "cities = df.groupby('TEAM_CITY').mean()\n",
    "cities"
   ]
  },
  {
   "cell_type": "code",
   "execution_count": 31,
   "metadata": {},
   "outputs": [
    {
     "output_type": "execute_result",
     "data": {
      "text/plain": [
       "                DRAFT_YEAR  DRAFT_ROUND  DRAFT_NUMBER  ROSTER_STATUS  \\\n",
       "TEAM_NAME                                                              \n",
       "76ers          2015.133333     1.400000     28.666667            1.0   \n",
       "Bucks          2014.307692     1.461538     29.000000            1.0   \n",
       "Bulls          2015.727273     1.181818     14.454545            1.0   \n",
       "Cavaliers      2015.461538     1.230769     19.230769            1.0   \n",
       "Celtics        2016.153846     1.230769     19.538462            1.0   \n",
       "Clippers       2012.428571     1.357143     26.071429            1.0   \n",
       "Grizzlies      2016.583333     1.250000     24.166667            1.0   \n",
       "Hawks          2015.571429     1.142857     19.214286            1.0   \n",
       "Heat           2013.181818     1.181818     20.090909            1.0   \n",
       "Hornets        2016.928571     1.428571     23.285714            1.0   \n",
       "Jazz           2015.090909     1.545455     31.636364            1.0   \n",
       "Kings          2015.933333     1.533333     26.333333            1.0   \n",
       "Knicks         2015.000000     1.133333     15.533333            1.0   \n",
       "Lakers         2012.583333     1.333333     25.416667            1.0   \n",
       "Magic          2014.692308     1.166667     16.250000            1.0   \n",
       "Mavericks      2015.923077     1.461538     22.923077            1.0   \n",
       "Nets           2013.076923     1.461538     22.923077            1.0   \n",
       "Nuggets        2015.692308     1.538462     31.538462            1.0   \n",
       "Pacers         2016.000000     1.272727     23.818182            1.0   \n",
       "Pelicans       2015.666667     1.166667     16.416667            1.0   \n",
       "Pistons        2016.941176     1.352941     23.647059            1.0   \n",
       "Raptors        2015.700000     1.300000     29.300000            1.0   \n",
       "Rockets        2013.846154     1.307692     21.384615            1.0   \n",
       "Spurs          2015.133333     1.266667     24.533333            1.0   \n",
       "Suns           2015.076923     1.307692     20.230769            1.0   \n",
       "Thunder        2015.615385     1.384615     27.615385            1.0   \n",
       "Timberwolves   2016.230769     1.230769     18.538462            1.0   \n",
       "Trail Blazers  2014.833333     1.181818     19.363636            1.0   \n",
       "Warriors       2015.363636     1.272727     20.000000            1.0   \n",
       "Wizards        2015.333333     1.333333     23.066667            1.0   \n",
       "\n",
       "                     PTS       REB       AST    FROM_YEAR  TO_YEAR  \n",
       "TEAM_NAME                                                           \n",
       "76ers           8.505556  3.516667  1.694444  2015.500000   2020.0  \n",
       "Bucks           8.458824  3.605882  2.141176  2014.941176   2020.0  \n",
       "Bulls           8.461111  3.527778  1.866667  2016.166667   2020.0  \n",
       "Cavaliers       8.900000  4.194118  2.017647  2016.352941   2020.0  \n",
       "Celtics         9.375000  3.562500  2.037500  2016.562500   2020.0  \n",
       "Clippers        9.526667  3.606667  1.980000  2013.133333   2020.0  \n",
       "Grizzlies       9.813333  4.120000  2.333333  2017.266667   2020.0  \n",
       "Hawks           9.318750  3.862500  1.981250  2016.187500   2020.0  \n",
       "Heat            9.381250  3.687500  2.293750  2014.875000   2020.0  \n",
       "Hornets         8.687500  3.618750  2.031250  2017.250000   2020.0  \n",
       "Jazz            8.480000  3.486667  1.773333  2015.933333   2020.0  \n",
       "Kings           8.723529  3.500000  1.917647  2016.411765   2020.0  \n",
       "Knicks          8.205882  3.529412  1.682353  2015.411765   2020.0  \n",
       "Lakers          8.287500  3.625000  1.756250  2013.375000   2020.0  \n",
       "Magic           9.581250  4.293750  2.406250  2015.562500   2020.0  \n",
       "Mavericks       8.382353  3.447059  1.623529  2016.176471   2020.0  \n",
       "Nets           11.773333  4.186667  2.873333  2013.466667   2020.0  \n",
       "Nuggets         7.468421  2.978947  1.657895  2016.736842   2020.0  \n",
       "Pacers          9.264706  3.282353  2.041176  2016.176471   2020.0  \n",
       "Pelicans        8.726667  3.766667  1.986667  2016.400000   2020.0  \n",
       "Pistons         7.338889  2.972222  1.805556  2016.944444   2020.0  \n",
       "Raptors         8.588235  3.547059  2.076471  2016.294118   2020.0  \n",
       "Rockets         9.326316  3.715789  2.010526  2015.105263   2020.0  \n",
       "Spurs           8.806250  3.525000  1.950000  2015.312500   2020.0  \n",
       "Suns            8.986667  3.373333  2.126667  2015.533333   2020.0  \n",
       "Thunder         8.670588  3.858824  2.052941  2016.411765   2020.0  \n",
       "Timberwolves   10.086667  4.120000  2.306667  2016.733333   2020.0  \n",
       "Trail Blazers   9.960000  3.826667  1.833333  2015.066667   2020.0  \n",
       "Warriors        9.193750  4.118750  2.318750  2015.875000   2020.0  \n",
       "Wizards         8.500000  3.477778  1.961111  2016.000000   2020.0  "
      ],
      "text/html": "<div>\n<style scoped>\n    .dataframe tbody tr th:only-of-type {\n        vertical-align: middle;\n    }\n\n    .dataframe tbody tr th {\n        vertical-align: top;\n    }\n\n    .dataframe thead th {\n        text-align: right;\n    }\n</style>\n<table border=\"1\" class=\"dataframe\">\n  <thead>\n    <tr style=\"text-align: right;\">\n      <th></th>\n      <th>DRAFT_YEAR</th>\n      <th>DRAFT_ROUND</th>\n      <th>DRAFT_NUMBER</th>\n      <th>ROSTER_STATUS</th>\n      <th>PTS</th>\n      <th>REB</th>\n      <th>AST</th>\n      <th>FROM_YEAR</th>\n      <th>TO_YEAR</th>\n    </tr>\n    <tr>\n      <th>TEAM_NAME</th>\n      <th></th>\n      <th></th>\n      <th></th>\n      <th></th>\n      <th></th>\n      <th></th>\n      <th></th>\n      <th></th>\n      <th></th>\n    </tr>\n  </thead>\n  <tbody>\n    <tr>\n      <th>76ers</th>\n      <td>2015.133333</td>\n      <td>1.400000</td>\n      <td>28.666667</td>\n      <td>1.0</td>\n      <td>8.505556</td>\n      <td>3.516667</td>\n      <td>1.694444</td>\n      <td>2015.500000</td>\n      <td>2020.0</td>\n    </tr>\n    <tr>\n      <th>Bucks</th>\n      <td>2014.307692</td>\n      <td>1.461538</td>\n      <td>29.000000</td>\n      <td>1.0</td>\n      <td>8.458824</td>\n      <td>3.605882</td>\n      <td>2.141176</td>\n      <td>2014.941176</td>\n      <td>2020.0</td>\n    </tr>\n    <tr>\n      <th>Bulls</th>\n      <td>2015.727273</td>\n      <td>1.181818</td>\n      <td>14.454545</td>\n      <td>1.0</td>\n      <td>8.461111</td>\n      <td>3.527778</td>\n      <td>1.866667</td>\n      <td>2016.166667</td>\n      <td>2020.0</td>\n    </tr>\n    <tr>\n      <th>Cavaliers</th>\n      <td>2015.461538</td>\n      <td>1.230769</td>\n      <td>19.230769</td>\n      <td>1.0</td>\n      <td>8.900000</td>\n      <td>4.194118</td>\n      <td>2.017647</td>\n      <td>2016.352941</td>\n      <td>2020.0</td>\n    </tr>\n    <tr>\n      <th>Celtics</th>\n      <td>2016.153846</td>\n      <td>1.230769</td>\n      <td>19.538462</td>\n      <td>1.0</td>\n      <td>9.375000</td>\n      <td>3.562500</td>\n      <td>2.037500</td>\n      <td>2016.562500</td>\n      <td>2020.0</td>\n    </tr>\n    <tr>\n      <th>Clippers</th>\n      <td>2012.428571</td>\n      <td>1.357143</td>\n      <td>26.071429</td>\n      <td>1.0</td>\n      <td>9.526667</td>\n      <td>3.606667</td>\n      <td>1.980000</td>\n      <td>2013.133333</td>\n      <td>2020.0</td>\n    </tr>\n    <tr>\n      <th>Grizzlies</th>\n      <td>2016.583333</td>\n      <td>1.250000</td>\n      <td>24.166667</td>\n      <td>1.0</td>\n      <td>9.813333</td>\n      <td>4.120000</td>\n      <td>2.333333</td>\n      <td>2017.266667</td>\n      <td>2020.0</td>\n    </tr>\n    <tr>\n      <th>Hawks</th>\n      <td>2015.571429</td>\n      <td>1.142857</td>\n      <td>19.214286</td>\n      <td>1.0</td>\n      <td>9.318750</td>\n      <td>3.862500</td>\n      <td>1.981250</td>\n      <td>2016.187500</td>\n      <td>2020.0</td>\n    </tr>\n    <tr>\n      <th>Heat</th>\n      <td>2013.181818</td>\n      <td>1.181818</td>\n      <td>20.090909</td>\n      <td>1.0</td>\n      <td>9.381250</td>\n      <td>3.687500</td>\n      <td>2.293750</td>\n      <td>2014.875000</td>\n      <td>2020.0</td>\n    </tr>\n    <tr>\n      <th>Hornets</th>\n      <td>2016.928571</td>\n      <td>1.428571</td>\n      <td>23.285714</td>\n      <td>1.0</td>\n      <td>8.687500</td>\n      <td>3.618750</td>\n      <td>2.031250</td>\n      <td>2017.250000</td>\n      <td>2020.0</td>\n    </tr>\n    <tr>\n      <th>Jazz</th>\n      <td>2015.090909</td>\n      <td>1.545455</td>\n      <td>31.636364</td>\n      <td>1.0</td>\n      <td>8.480000</td>\n      <td>3.486667</td>\n      <td>1.773333</td>\n      <td>2015.933333</td>\n      <td>2020.0</td>\n    </tr>\n    <tr>\n      <th>Kings</th>\n      <td>2015.933333</td>\n      <td>1.533333</td>\n      <td>26.333333</td>\n      <td>1.0</td>\n      <td>8.723529</td>\n      <td>3.500000</td>\n      <td>1.917647</td>\n      <td>2016.411765</td>\n      <td>2020.0</td>\n    </tr>\n    <tr>\n      <th>Knicks</th>\n      <td>2015.000000</td>\n      <td>1.133333</td>\n      <td>15.533333</td>\n      <td>1.0</td>\n      <td>8.205882</td>\n      <td>3.529412</td>\n      <td>1.682353</td>\n      <td>2015.411765</td>\n      <td>2020.0</td>\n    </tr>\n    <tr>\n      <th>Lakers</th>\n      <td>2012.583333</td>\n      <td>1.333333</td>\n      <td>25.416667</td>\n      <td>1.0</td>\n      <td>8.287500</td>\n      <td>3.625000</td>\n      <td>1.756250</td>\n      <td>2013.375000</td>\n      <td>2020.0</td>\n    </tr>\n    <tr>\n      <th>Magic</th>\n      <td>2014.692308</td>\n      <td>1.166667</td>\n      <td>16.250000</td>\n      <td>1.0</td>\n      <td>9.581250</td>\n      <td>4.293750</td>\n      <td>2.406250</td>\n      <td>2015.562500</td>\n      <td>2020.0</td>\n    </tr>\n    <tr>\n      <th>Mavericks</th>\n      <td>2015.923077</td>\n      <td>1.461538</td>\n      <td>22.923077</td>\n      <td>1.0</td>\n      <td>8.382353</td>\n      <td>3.447059</td>\n      <td>1.623529</td>\n      <td>2016.176471</td>\n      <td>2020.0</td>\n    </tr>\n    <tr>\n      <th>Nets</th>\n      <td>2013.076923</td>\n      <td>1.461538</td>\n      <td>22.923077</td>\n      <td>1.0</td>\n      <td>11.773333</td>\n      <td>4.186667</td>\n      <td>2.873333</td>\n      <td>2013.466667</td>\n      <td>2020.0</td>\n    </tr>\n    <tr>\n      <th>Nuggets</th>\n      <td>2015.692308</td>\n      <td>1.538462</td>\n      <td>31.538462</td>\n      <td>1.0</td>\n      <td>7.468421</td>\n      <td>2.978947</td>\n      <td>1.657895</td>\n      <td>2016.736842</td>\n      <td>2020.0</td>\n    </tr>\n    <tr>\n      <th>Pacers</th>\n      <td>2016.000000</td>\n      <td>1.272727</td>\n      <td>23.818182</td>\n      <td>1.0</td>\n      <td>9.264706</td>\n      <td>3.282353</td>\n      <td>2.041176</td>\n      <td>2016.176471</td>\n      <td>2020.0</td>\n    </tr>\n    <tr>\n      <th>Pelicans</th>\n      <td>2015.666667</td>\n      <td>1.166667</td>\n      <td>16.416667</td>\n      <td>1.0</td>\n      <td>8.726667</td>\n      <td>3.766667</td>\n      <td>1.986667</td>\n      <td>2016.400000</td>\n      <td>2020.0</td>\n    </tr>\n    <tr>\n      <th>Pistons</th>\n      <td>2016.941176</td>\n      <td>1.352941</td>\n      <td>23.647059</td>\n      <td>1.0</td>\n      <td>7.338889</td>\n      <td>2.972222</td>\n      <td>1.805556</td>\n      <td>2016.944444</td>\n      <td>2020.0</td>\n    </tr>\n    <tr>\n      <th>Raptors</th>\n      <td>2015.700000</td>\n      <td>1.300000</td>\n      <td>29.300000</td>\n      <td>1.0</td>\n      <td>8.588235</td>\n      <td>3.547059</td>\n      <td>2.076471</td>\n      <td>2016.294118</td>\n      <td>2020.0</td>\n    </tr>\n    <tr>\n      <th>Rockets</th>\n      <td>2013.846154</td>\n      <td>1.307692</td>\n      <td>21.384615</td>\n      <td>1.0</td>\n      <td>9.326316</td>\n      <td>3.715789</td>\n      <td>2.010526</td>\n      <td>2015.105263</td>\n      <td>2020.0</td>\n    </tr>\n    <tr>\n      <th>Spurs</th>\n      <td>2015.133333</td>\n      <td>1.266667</td>\n      <td>24.533333</td>\n      <td>1.0</td>\n      <td>8.806250</td>\n      <td>3.525000</td>\n      <td>1.950000</td>\n      <td>2015.312500</td>\n      <td>2020.0</td>\n    </tr>\n    <tr>\n      <th>Suns</th>\n      <td>2015.076923</td>\n      <td>1.307692</td>\n      <td>20.230769</td>\n      <td>1.0</td>\n      <td>8.986667</td>\n      <td>3.373333</td>\n      <td>2.126667</td>\n      <td>2015.533333</td>\n      <td>2020.0</td>\n    </tr>\n    <tr>\n      <th>Thunder</th>\n      <td>2015.615385</td>\n      <td>1.384615</td>\n      <td>27.615385</td>\n      <td>1.0</td>\n      <td>8.670588</td>\n      <td>3.858824</td>\n      <td>2.052941</td>\n      <td>2016.411765</td>\n      <td>2020.0</td>\n    </tr>\n    <tr>\n      <th>Timberwolves</th>\n      <td>2016.230769</td>\n      <td>1.230769</td>\n      <td>18.538462</td>\n      <td>1.0</td>\n      <td>10.086667</td>\n      <td>4.120000</td>\n      <td>2.306667</td>\n      <td>2016.733333</td>\n      <td>2020.0</td>\n    </tr>\n    <tr>\n      <th>Trail Blazers</th>\n      <td>2014.833333</td>\n      <td>1.181818</td>\n      <td>19.363636</td>\n      <td>1.0</td>\n      <td>9.960000</td>\n      <td>3.826667</td>\n      <td>1.833333</td>\n      <td>2015.066667</td>\n      <td>2020.0</td>\n    </tr>\n    <tr>\n      <th>Warriors</th>\n      <td>2015.363636</td>\n      <td>1.272727</td>\n      <td>20.000000</td>\n      <td>1.0</td>\n      <td>9.193750</td>\n      <td>4.118750</td>\n      <td>2.318750</td>\n      <td>2015.875000</td>\n      <td>2020.0</td>\n    </tr>\n    <tr>\n      <th>Wizards</th>\n      <td>2015.333333</td>\n      <td>1.333333</td>\n      <td>23.066667</td>\n      <td>1.0</td>\n      <td>8.500000</td>\n      <td>3.477778</td>\n      <td>1.961111</td>\n      <td>2016.000000</td>\n      <td>2020.0</td>\n    </tr>\n  </tbody>\n</table>\n</div>"
     },
     "metadata": {},
     "execution_count": 31
    }
   ],
   "source": [
    "names = df.groupby('TEAM_NAME').mean()\n",
    "names"
   ]
  },
  {
   "cell_type": "code",
   "execution_count": 33,
   "metadata": {},
   "outputs": [
    {
     "output_type": "execute_result",
     "data": {
      "text/plain": [
       "    PLAYER_LAST_NAME PLAYER_FIRST_NAME     TEAM_CITY      TEAM_NAME  \\\n",
       "36              Beal           Bradley    Washington        Wizards   \n",
       "134           Embiid              Joel  Philadelphia          76ers   \n",
       "271          Lillard            Damian      Portland  Trail Blazers   \n",
       "108            Curry           Stephen  Golden State       Warriors   \n",
       "11     Antetokounmpo           Giannis     Milwaukee          Bucks   \n",
       "..               ...               ...           ...            ...   \n",
       "459           Vonleh              Noah        Denver        Nuggets   \n",
       "109          Darling              Nate     Charlotte        Hornets   \n",
       "298            McCaw           Patrick       Toronto        Raptors   \n",
       "477      Whittington              Greg        Denver        Nuggets   \n",
       "5          Alexander           Ty-Shon       Phoenix           Suns   \n",
       "\n",
       "    TEAM_ABBREVIATION POSITION HEIGHT   WEIGHT        COLLEGE   COUNTRY  \\\n",
       "36                WAS        G   6'3\"  207 lbs        Florida       USA   \n",
       "134               PHI      C-F   7'0\"  280 lbs         Kansas  Cameroon   \n",
       "271               POR        G   6'2\"  195 lbs    Weber State       USA   \n",
       "108               GSW        G   6'3\"  185 lbs       Davidson       USA   \n",
       "11                MIL        F  6'11\"  242 lbs  Filathlitikos    Greece   \n",
       "..                ...      ...    ...      ...            ...       ...   \n",
       "459               DEN        F  6'10\"  257 lbs        Indiana       USA   \n",
       "109               CHA        G   6'6\"  200 lbs       Delaware    Canada   \n",
       "298               TOR        G   6'7\"  181 lbs           UNLV       USA   \n",
       "477               DEN        F   6'8\"  210 lbs     Georgetown       USA   \n",
       "5                 PHX        G   6'3\"  195 lbs      Creighton       USA   \n",
       "\n",
       "     DRAFT_YEAR  DRAFT_ROUND  DRAFT_NUMBER  ROSTER_STATUS   PTS   REB  AST  \\\n",
       "36       2012.0          1.0           3.0            1.0  32.1   5.3  4.6   \n",
       "134      2014.0          1.0           3.0            1.0  29.9  11.5  3.3   \n",
       "271      2012.0          1.0           6.0            1.0  29.7   4.4  8.0   \n",
       "108      2009.0          1.0           7.0            1.0  29.3   5.4  6.2   \n",
       "11       2013.0          1.0          15.0            1.0  29.0  11.6  6.1   \n",
       "..          ...          ...           ...            ...   ...   ...  ...   \n",
       "459      2014.0          1.0           9.0            NaN   0.0   0.3  0.3   \n",
       "109         NaN          NaN           NaN            1.0   0.0   0.0  0.0   \n",
       "298      2016.0          2.0          38.0            1.0   0.0   0.3  1.3   \n",
       "477         NaN          NaN           NaN            1.0   0.0   0.0  0.0   \n",
       "5           NaN          NaN           NaN            1.0   0.0   0.3  0.3   \n",
       "\n",
       "     FROM_YEAR  TO_YEAR  \n",
       "36        2012     2020  \n",
       "134       2014     2020  \n",
       "271       2012     2020  \n",
       "108       2009     2020  \n",
       "11        2013     2020  \n",
       "..         ...      ...  \n",
       "459       2014     2020  \n",
       "109       2020     2020  \n",
       "298       2016     2020  \n",
       "477       2020     2020  \n",
       "5         2020     2020  \n",
       "\n",
       "[497 rows x 19 columns]"
      ],
      "text/html": "<div>\n<style scoped>\n    .dataframe tbody tr th:only-of-type {\n        vertical-align: middle;\n    }\n\n    .dataframe tbody tr th {\n        vertical-align: top;\n    }\n\n    .dataframe thead th {\n        text-align: right;\n    }\n</style>\n<table border=\"1\" class=\"dataframe\">\n  <thead>\n    <tr style=\"text-align: right;\">\n      <th></th>\n      <th>PLAYER_LAST_NAME</th>\n      <th>PLAYER_FIRST_NAME</th>\n      <th>TEAM_CITY</th>\n      <th>TEAM_NAME</th>\n      <th>TEAM_ABBREVIATION</th>\n      <th>POSITION</th>\n      <th>HEIGHT</th>\n      <th>WEIGHT</th>\n      <th>COLLEGE</th>\n      <th>COUNTRY</th>\n      <th>DRAFT_YEAR</th>\n      <th>DRAFT_ROUND</th>\n      <th>DRAFT_NUMBER</th>\n      <th>ROSTER_STATUS</th>\n      <th>PTS</th>\n      <th>REB</th>\n      <th>AST</th>\n      <th>FROM_YEAR</th>\n      <th>TO_YEAR</th>\n    </tr>\n  </thead>\n  <tbody>\n    <tr>\n      <th>36</th>\n      <td>Beal</td>\n      <td>Bradley</td>\n      <td>Washington</td>\n      <td>Wizards</td>\n      <td>WAS</td>\n      <td>G</td>\n      <td>6'3\"</td>\n      <td>207 lbs</td>\n      <td>Florida</td>\n      <td>USA</td>\n      <td>2012.0</td>\n      <td>1.0</td>\n      <td>3.0</td>\n      <td>1.0</td>\n      <td>32.1</td>\n      <td>5.3</td>\n      <td>4.6</td>\n      <td>2012</td>\n      <td>2020</td>\n    </tr>\n    <tr>\n      <th>134</th>\n      <td>Embiid</td>\n      <td>Joel</td>\n      <td>Philadelphia</td>\n      <td>76ers</td>\n      <td>PHI</td>\n      <td>C-F</td>\n      <td>7'0\"</td>\n      <td>280 lbs</td>\n      <td>Kansas</td>\n      <td>Cameroon</td>\n      <td>2014.0</td>\n      <td>1.0</td>\n      <td>3.0</td>\n      <td>1.0</td>\n      <td>29.9</td>\n      <td>11.5</td>\n      <td>3.3</td>\n      <td>2014</td>\n      <td>2020</td>\n    </tr>\n    <tr>\n      <th>271</th>\n      <td>Lillard</td>\n      <td>Damian</td>\n      <td>Portland</td>\n      <td>Trail Blazers</td>\n      <td>POR</td>\n      <td>G</td>\n      <td>6'2\"</td>\n      <td>195 lbs</td>\n      <td>Weber State</td>\n      <td>USA</td>\n      <td>2012.0</td>\n      <td>1.0</td>\n      <td>6.0</td>\n      <td>1.0</td>\n      <td>29.7</td>\n      <td>4.4</td>\n      <td>8.0</td>\n      <td>2012</td>\n      <td>2020</td>\n    </tr>\n    <tr>\n      <th>108</th>\n      <td>Curry</td>\n      <td>Stephen</td>\n      <td>Golden State</td>\n      <td>Warriors</td>\n      <td>GSW</td>\n      <td>G</td>\n      <td>6'3\"</td>\n      <td>185 lbs</td>\n      <td>Davidson</td>\n      <td>USA</td>\n      <td>2009.0</td>\n      <td>1.0</td>\n      <td>7.0</td>\n      <td>1.0</td>\n      <td>29.3</td>\n      <td>5.4</td>\n      <td>6.2</td>\n      <td>2009</td>\n      <td>2020</td>\n    </tr>\n    <tr>\n      <th>11</th>\n      <td>Antetokounmpo</td>\n      <td>Giannis</td>\n      <td>Milwaukee</td>\n      <td>Bucks</td>\n      <td>MIL</td>\n      <td>F</td>\n      <td>6'11\"</td>\n      <td>242 lbs</td>\n      <td>Filathlitikos</td>\n      <td>Greece</td>\n      <td>2013.0</td>\n      <td>1.0</td>\n      <td>15.0</td>\n      <td>1.0</td>\n      <td>29.0</td>\n      <td>11.6</td>\n      <td>6.1</td>\n      <td>2013</td>\n      <td>2020</td>\n    </tr>\n    <tr>\n      <th>...</th>\n      <td>...</td>\n      <td>...</td>\n      <td>...</td>\n      <td>...</td>\n      <td>...</td>\n      <td>...</td>\n      <td>...</td>\n      <td>...</td>\n      <td>...</td>\n      <td>...</td>\n      <td>...</td>\n      <td>...</td>\n      <td>...</td>\n      <td>...</td>\n      <td>...</td>\n      <td>...</td>\n      <td>...</td>\n      <td>...</td>\n      <td>...</td>\n    </tr>\n    <tr>\n      <th>459</th>\n      <td>Vonleh</td>\n      <td>Noah</td>\n      <td>Denver</td>\n      <td>Nuggets</td>\n      <td>DEN</td>\n      <td>F</td>\n      <td>6'10\"</td>\n      <td>257 lbs</td>\n      <td>Indiana</td>\n      <td>USA</td>\n      <td>2014.0</td>\n      <td>1.0</td>\n      <td>9.0</td>\n      <td>NaN</td>\n      <td>0.0</td>\n      <td>0.3</td>\n      <td>0.3</td>\n      <td>2014</td>\n      <td>2020</td>\n    </tr>\n    <tr>\n      <th>109</th>\n      <td>Darling</td>\n      <td>Nate</td>\n      <td>Charlotte</td>\n      <td>Hornets</td>\n      <td>CHA</td>\n      <td>G</td>\n      <td>6'6\"</td>\n      <td>200 lbs</td>\n      <td>Delaware</td>\n      <td>Canada</td>\n      <td>NaN</td>\n      <td>NaN</td>\n      <td>NaN</td>\n      <td>1.0</td>\n      <td>0.0</td>\n      <td>0.0</td>\n      <td>0.0</td>\n      <td>2020</td>\n      <td>2020</td>\n    </tr>\n    <tr>\n      <th>298</th>\n      <td>McCaw</td>\n      <td>Patrick</td>\n      <td>Toronto</td>\n      <td>Raptors</td>\n      <td>TOR</td>\n      <td>G</td>\n      <td>6'7\"</td>\n      <td>181 lbs</td>\n      <td>UNLV</td>\n      <td>USA</td>\n      <td>2016.0</td>\n      <td>2.0</td>\n      <td>38.0</td>\n      <td>1.0</td>\n      <td>0.0</td>\n      <td>0.3</td>\n      <td>1.3</td>\n      <td>2016</td>\n      <td>2020</td>\n    </tr>\n    <tr>\n      <th>477</th>\n      <td>Whittington</td>\n      <td>Greg</td>\n      <td>Denver</td>\n      <td>Nuggets</td>\n      <td>DEN</td>\n      <td>F</td>\n      <td>6'8\"</td>\n      <td>210 lbs</td>\n      <td>Georgetown</td>\n      <td>USA</td>\n      <td>NaN</td>\n      <td>NaN</td>\n      <td>NaN</td>\n      <td>1.0</td>\n      <td>0.0</td>\n      <td>0.0</td>\n      <td>0.0</td>\n      <td>2020</td>\n      <td>2020</td>\n    </tr>\n    <tr>\n      <th>5</th>\n      <td>Alexander</td>\n      <td>Ty-Shon</td>\n      <td>Phoenix</td>\n      <td>Suns</td>\n      <td>PHX</td>\n      <td>G</td>\n      <td>6'3\"</td>\n      <td>195 lbs</td>\n      <td>Creighton</td>\n      <td>USA</td>\n      <td>NaN</td>\n      <td>NaN</td>\n      <td>NaN</td>\n      <td>1.0</td>\n      <td>0.0</td>\n      <td>0.3</td>\n      <td>0.3</td>\n      <td>2020</td>\n      <td>2020</td>\n    </tr>\n  </tbody>\n</table>\n<p>497 rows × 19 columns</p>\n</div>"
     },
     "metadata": {},
     "execution_count": 33
    }
   ],
   "source": [
    "pointsLeader = df.sort_values(by = ['PTS'],ascending=False)\n",
    "pointsLeader"
   ]
  },
  {
   "cell_type": "code",
   "execution_count": 34,
   "metadata": {},
   "outputs": [
    {
     "output_type": "execute_result",
     "data": {
      "text/plain": [
       "    PLAYER_LAST_NAME PLAYER_FIRST_NAME  TEAM_CITY      TEAM_NAME  \\\n",
       "83            Capela             Clint    Atlanta          Hawks   \n",
       "126         Drummond             Andre  Cleveland      Cavaliers   \n",
       "164           Gobert              Rudy       Utah           Jazz   \n",
       "249           Kanter              Enes   Portland  Trail Blazers   \n",
       "460          Vucevic            Nikola    Orlando          Magic   \n",
       "..               ...               ...        ...            ...   \n",
       "186           Harper             Jared   New York         Knicks   \n",
       "179           Hagans            Ashton        NaN            NaN   \n",
       "477      Whittington              Greg     Denver        Nuggets   \n",
       "109          Darling              Nate  Charlotte        Hornets   \n",
       "204           Hinton              Nate     Dallas      Mavericks   \n",
       "\n",
       "    TEAM_ABBREVIATION POSITION HEIGHT   WEIGHT              COLLEGE  \\\n",
       "83                ATL        C  6'10\"  240 lbs          Elan Chalon   \n",
       "126               CLE        C  6'10\"  279 lbs          Connecticut   \n",
       "164               UTA        C   7'1\"  258 lbs               Cholet   \n",
       "249               POR        C  6'10\"  250 lbs           Fenerbahce   \n",
       "460               ORL        C  6'11\"  260 lbs  Southern California   \n",
       "..                ...      ...    ...      ...                  ...   \n",
       "186               NYK        G  5'10\"  175 lbs               Auburn   \n",
       "179               NaN      G-F   6'3\"  190 lbs             Kentucky   \n",
       "477               DEN        F   6'8\"  210 lbs           Georgetown   \n",
       "109               CHA        G   6'6\"  200 lbs             Delaware   \n",
       "204               DAL      G-F   6'5\"  210 lbs              Houston   \n",
       "\n",
       "         COUNTRY  DRAFT_YEAR  DRAFT_ROUND  DRAFT_NUMBER  ROSTER_STATUS   PTS  \\\n",
       "83   Switzerland      2014.0          1.0          25.0            1.0  14.8   \n",
       "126          USA      2012.0          1.0           9.0            1.0  17.5   \n",
       "164       France      2013.0          1.0          27.0            1.0  14.2   \n",
       "249       Turkey      2011.0          1.0           3.0            1.0  12.2   \n",
       "460   Montenegro      2011.0          1.0          16.0            1.0  24.6   \n",
       "..           ...         ...          ...           ...            ...   ...   \n",
       "186          USA         NaN          NaN           NaN            1.0   1.0   \n",
       "179          USA         NaN          NaN           NaN            NaN   0.0   \n",
       "477          USA         NaN          NaN           NaN            1.0   0.0   \n",
       "109       Canada         NaN          NaN           NaN            1.0   0.0   \n",
       "204          USA         NaN          NaN           NaN            1.0   1.3   \n",
       "\n",
       "      REB  AST  FROM_YEAR  TO_YEAR  \n",
       "83   14.3  0.9       2014     2020  \n",
       "126  13.5  2.6       2012     2020  \n",
       "164  13.1  1.3       2013     2020  \n",
       "249  11.8  1.2       2011     2020  \n",
       "460  11.7  3.7       2011     2020  \n",
       "..    ...  ...        ...      ...  \n",
       "186   0.0  0.0       2019     2020  \n",
       "179   0.0  0.0       2020     2020  \n",
       "477   0.0  0.0       2020     2020  \n",
       "109   0.0  0.0       2020     2020  \n",
       "204   0.0  0.0       2020     2020  \n",
       "\n",
       "[497 rows x 19 columns]"
      ],
      "text/html": "<div>\n<style scoped>\n    .dataframe tbody tr th:only-of-type {\n        vertical-align: middle;\n    }\n\n    .dataframe tbody tr th {\n        vertical-align: top;\n    }\n\n    .dataframe thead th {\n        text-align: right;\n    }\n</style>\n<table border=\"1\" class=\"dataframe\">\n  <thead>\n    <tr style=\"text-align: right;\">\n      <th></th>\n      <th>PLAYER_LAST_NAME</th>\n      <th>PLAYER_FIRST_NAME</th>\n      <th>TEAM_CITY</th>\n      <th>TEAM_NAME</th>\n      <th>TEAM_ABBREVIATION</th>\n      <th>POSITION</th>\n      <th>HEIGHT</th>\n      <th>WEIGHT</th>\n      <th>COLLEGE</th>\n      <th>COUNTRY</th>\n      <th>DRAFT_YEAR</th>\n      <th>DRAFT_ROUND</th>\n      <th>DRAFT_NUMBER</th>\n      <th>ROSTER_STATUS</th>\n      <th>PTS</th>\n      <th>REB</th>\n      <th>AST</th>\n      <th>FROM_YEAR</th>\n      <th>TO_YEAR</th>\n    </tr>\n  </thead>\n  <tbody>\n    <tr>\n      <th>83</th>\n      <td>Capela</td>\n      <td>Clint</td>\n      <td>Atlanta</td>\n      <td>Hawks</td>\n      <td>ATL</td>\n      <td>C</td>\n      <td>6'10\"</td>\n      <td>240 lbs</td>\n      <td>Elan Chalon</td>\n      <td>Switzerland</td>\n      <td>2014.0</td>\n      <td>1.0</td>\n      <td>25.0</td>\n      <td>1.0</td>\n      <td>14.8</td>\n      <td>14.3</td>\n      <td>0.9</td>\n      <td>2014</td>\n      <td>2020</td>\n    </tr>\n    <tr>\n      <th>126</th>\n      <td>Drummond</td>\n      <td>Andre</td>\n      <td>Cleveland</td>\n      <td>Cavaliers</td>\n      <td>CLE</td>\n      <td>C</td>\n      <td>6'10\"</td>\n      <td>279 lbs</td>\n      <td>Connecticut</td>\n      <td>USA</td>\n      <td>2012.0</td>\n      <td>1.0</td>\n      <td>9.0</td>\n      <td>1.0</td>\n      <td>17.5</td>\n      <td>13.5</td>\n      <td>2.6</td>\n      <td>2012</td>\n      <td>2020</td>\n    </tr>\n    <tr>\n      <th>164</th>\n      <td>Gobert</td>\n      <td>Rudy</td>\n      <td>Utah</td>\n      <td>Jazz</td>\n      <td>UTA</td>\n      <td>C</td>\n      <td>7'1\"</td>\n      <td>258 lbs</td>\n      <td>Cholet</td>\n      <td>France</td>\n      <td>2013.0</td>\n      <td>1.0</td>\n      <td>27.0</td>\n      <td>1.0</td>\n      <td>14.2</td>\n      <td>13.1</td>\n      <td>1.3</td>\n      <td>2013</td>\n      <td>2020</td>\n    </tr>\n    <tr>\n      <th>249</th>\n      <td>Kanter</td>\n      <td>Enes</td>\n      <td>Portland</td>\n      <td>Trail Blazers</td>\n      <td>POR</td>\n      <td>C</td>\n      <td>6'10\"</td>\n      <td>250 lbs</td>\n      <td>Fenerbahce</td>\n      <td>Turkey</td>\n      <td>2011.0</td>\n      <td>1.0</td>\n      <td>3.0</td>\n      <td>1.0</td>\n      <td>12.2</td>\n      <td>11.8</td>\n      <td>1.2</td>\n      <td>2011</td>\n      <td>2020</td>\n    </tr>\n    <tr>\n      <th>460</th>\n      <td>Vucevic</td>\n      <td>Nikola</td>\n      <td>Orlando</td>\n      <td>Magic</td>\n      <td>ORL</td>\n      <td>C</td>\n      <td>6'11\"</td>\n      <td>260 lbs</td>\n      <td>Southern California</td>\n      <td>Montenegro</td>\n      <td>2011.0</td>\n      <td>1.0</td>\n      <td>16.0</td>\n      <td>1.0</td>\n      <td>24.6</td>\n      <td>11.7</td>\n      <td>3.7</td>\n      <td>2011</td>\n      <td>2020</td>\n    </tr>\n    <tr>\n      <th>...</th>\n      <td>...</td>\n      <td>...</td>\n      <td>...</td>\n      <td>...</td>\n      <td>...</td>\n      <td>...</td>\n      <td>...</td>\n      <td>...</td>\n      <td>...</td>\n      <td>...</td>\n      <td>...</td>\n      <td>...</td>\n      <td>...</td>\n      <td>...</td>\n      <td>...</td>\n      <td>...</td>\n      <td>...</td>\n      <td>...</td>\n      <td>...</td>\n    </tr>\n    <tr>\n      <th>186</th>\n      <td>Harper</td>\n      <td>Jared</td>\n      <td>New York</td>\n      <td>Knicks</td>\n      <td>NYK</td>\n      <td>G</td>\n      <td>5'10\"</td>\n      <td>175 lbs</td>\n      <td>Auburn</td>\n      <td>USA</td>\n      <td>NaN</td>\n      <td>NaN</td>\n      <td>NaN</td>\n      <td>1.0</td>\n      <td>1.0</td>\n      <td>0.0</td>\n      <td>0.0</td>\n      <td>2019</td>\n      <td>2020</td>\n    </tr>\n    <tr>\n      <th>179</th>\n      <td>Hagans</td>\n      <td>Ashton</td>\n      <td>NaN</td>\n      <td>NaN</td>\n      <td>NaN</td>\n      <td>G-F</td>\n      <td>6'3\"</td>\n      <td>190 lbs</td>\n      <td>Kentucky</td>\n      <td>USA</td>\n      <td>NaN</td>\n      <td>NaN</td>\n      <td>NaN</td>\n      <td>NaN</td>\n      <td>0.0</td>\n      <td>0.0</td>\n      <td>0.0</td>\n      <td>2020</td>\n      <td>2020</td>\n    </tr>\n    <tr>\n      <th>477</th>\n      <td>Whittington</td>\n      <td>Greg</td>\n      <td>Denver</td>\n      <td>Nuggets</td>\n      <td>DEN</td>\n      <td>F</td>\n      <td>6'8\"</td>\n      <td>210 lbs</td>\n      <td>Georgetown</td>\n      <td>USA</td>\n      <td>NaN</td>\n      <td>NaN</td>\n      <td>NaN</td>\n      <td>1.0</td>\n      <td>0.0</td>\n      <td>0.0</td>\n      <td>0.0</td>\n      <td>2020</td>\n      <td>2020</td>\n    </tr>\n    <tr>\n      <th>109</th>\n      <td>Darling</td>\n      <td>Nate</td>\n      <td>Charlotte</td>\n      <td>Hornets</td>\n      <td>CHA</td>\n      <td>G</td>\n      <td>6'6\"</td>\n      <td>200 lbs</td>\n      <td>Delaware</td>\n      <td>Canada</td>\n      <td>NaN</td>\n      <td>NaN</td>\n      <td>NaN</td>\n      <td>1.0</td>\n      <td>0.0</td>\n      <td>0.0</td>\n      <td>0.0</td>\n      <td>2020</td>\n      <td>2020</td>\n    </tr>\n    <tr>\n      <th>204</th>\n      <td>Hinton</td>\n      <td>Nate</td>\n      <td>Dallas</td>\n      <td>Mavericks</td>\n      <td>DAL</td>\n      <td>G-F</td>\n      <td>6'5\"</td>\n      <td>210 lbs</td>\n      <td>Houston</td>\n      <td>USA</td>\n      <td>NaN</td>\n      <td>NaN</td>\n      <td>NaN</td>\n      <td>1.0</td>\n      <td>1.3</td>\n      <td>0.0</td>\n      <td>0.0</td>\n      <td>2020</td>\n      <td>2020</td>\n    </tr>\n  </tbody>\n</table>\n<p>497 rows × 19 columns</p>\n</div>"
     },
     "metadata": {},
     "execution_count": 34
    }
   ],
   "source": [
    "rebLeader = df.sort_values(by = ['REB'],ascending=False)\n",
    "rebLeader"
   ]
  },
  {
   "cell_type": "code",
   "execution_count": 35,
   "metadata": {},
   "outputs": [
    {
     "output_type": "execute_result",
     "data": {
      "text/plain": [
       "    PLAYER_LAST_NAME PLAYER_FIRST_NAME   TEAM_CITY  TEAM_NAME  \\\n",
       "184           Harden             James    Brooklyn       Nets   \n",
       "473        Westbrook           Russell  Washington    Wizards   \n",
       "494            Young              Trae     Atlanta      Hawks   \n",
       "119           Doncic              Luka      Dallas  Mavericks   \n",
       "376       Porter Jr.             Kevin     Houston    Rockets   \n",
       "..               ...               ...         ...        ...   \n",
       "428         Spalding               Ray   Charlotte    Hornets   \n",
       "429          Stanley           Cassius     Indiana     Pacers   \n",
       "53            Bolden           Marques         NaN        NaN   \n",
       "61          Brantley           Jarrell        Utah       Jazz   \n",
       "345            Nwora            Jordan   Milwaukee      Bucks   \n",
       "\n",
       "    TEAM_ABBREVIATION POSITION HEIGHT   WEIGHT                COLLEGE  \\\n",
       "184               BKN        G   6'5\"  220 lbs          Arizona State   \n",
       "473               WAS        G   6'3\"  200 lbs                   UCLA   \n",
       "494               ATL        G   6'1\"  180 lbs               Oklahoma   \n",
       "119               DAL      F-G   6'7\"  230 lbs            Real Madrid   \n",
       "376               HOU      G-F   6'4\"  203 lbs    Southern California   \n",
       "..                ...      ...    ...      ...                    ...   \n",
       "428               CHA        F   6'9\"  225 lbs             Louisville   \n",
       "429               IND        G   6'5\"  190 lbs                   Duke   \n",
       "53                NaN        C  6'10\"  249 lbs                   Duke   \n",
       "61                UTA        F   6'5\"  250 lbs  College of Charleston   \n",
       "345               MIL        F   6'8\"  225 lbs             Louisville   \n",
       "\n",
       "      COUNTRY  DRAFT_YEAR  DRAFT_ROUND  DRAFT_NUMBER  ROSTER_STATUS   PTS  \\\n",
       "184       USA      2009.0          1.0           3.0            1.0  25.2   \n",
       "473       USA      2008.0          1.0           4.0            1.0  21.1   \n",
       "494       USA      2018.0          1.0           5.0            1.0  26.7   \n",
       "119  Slovenia      2018.0          1.0           3.0            1.0  28.2   \n",
       "376       USA      2019.0          1.0          30.0            1.0  20.0   \n",
       "..        ...         ...          ...           ...            ...   ...   \n",
       "428       USA      2018.0          2.0          56.0            NaN   2.0   \n",
       "429       USA      2020.0          2.0          54.0            1.0   1.1   \n",
       "53        USA      2019.0          NaN           NaN            NaN   1.2   \n",
       "61        USA      2019.0          2.0          50.0            1.0   1.1   \n",
       "345       USA      2020.0          2.0          45.0            1.0   5.1   \n",
       "\n",
       "     REB   AST  FROM_YEAR  TO_YEAR  \n",
       "184  7.9  11.0       2009     2020  \n",
       "473  9.4   9.8       2008     2020  \n",
       "494  4.1   9.3       2018     2020  \n",
       "119  8.4   9.1       2018     2020  \n",
       "376  4.0   9.0       2019     2020  \n",
       "..   ...   ...        ...      ...  \n",
       "428  2.0   0.0       2018     2020  \n",
       "429  0.4   0.0       2020     2020  \n",
       "53   1.0   0.0       2019     2020  \n",
       "61   0.7   0.0       2019     2020  \n",
       "345  1.5   0.0       2020     2020  \n",
       "\n",
       "[497 rows x 19 columns]"
      ],
      "text/html": "<div>\n<style scoped>\n    .dataframe tbody tr th:only-of-type {\n        vertical-align: middle;\n    }\n\n    .dataframe tbody tr th {\n        vertical-align: top;\n    }\n\n    .dataframe thead th {\n        text-align: right;\n    }\n</style>\n<table border=\"1\" class=\"dataframe\">\n  <thead>\n    <tr style=\"text-align: right;\">\n      <th></th>\n      <th>PLAYER_LAST_NAME</th>\n      <th>PLAYER_FIRST_NAME</th>\n      <th>TEAM_CITY</th>\n      <th>TEAM_NAME</th>\n      <th>TEAM_ABBREVIATION</th>\n      <th>POSITION</th>\n      <th>HEIGHT</th>\n      <th>WEIGHT</th>\n      <th>COLLEGE</th>\n      <th>COUNTRY</th>\n      <th>DRAFT_YEAR</th>\n      <th>DRAFT_ROUND</th>\n      <th>DRAFT_NUMBER</th>\n      <th>ROSTER_STATUS</th>\n      <th>PTS</th>\n      <th>REB</th>\n      <th>AST</th>\n      <th>FROM_YEAR</th>\n      <th>TO_YEAR</th>\n    </tr>\n  </thead>\n  <tbody>\n    <tr>\n      <th>184</th>\n      <td>Harden</td>\n      <td>James</td>\n      <td>Brooklyn</td>\n      <td>Nets</td>\n      <td>BKN</td>\n      <td>G</td>\n      <td>6'5\"</td>\n      <td>220 lbs</td>\n      <td>Arizona State</td>\n      <td>USA</td>\n      <td>2009.0</td>\n      <td>1.0</td>\n      <td>3.0</td>\n      <td>1.0</td>\n      <td>25.2</td>\n      <td>7.9</td>\n      <td>11.0</td>\n      <td>2009</td>\n      <td>2020</td>\n    </tr>\n    <tr>\n      <th>473</th>\n      <td>Westbrook</td>\n      <td>Russell</td>\n      <td>Washington</td>\n      <td>Wizards</td>\n      <td>WAS</td>\n      <td>G</td>\n      <td>6'3\"</td>\n      <td>200 lbs</td>\n      <td>UCLA</td>\n      <td>USA</td>\n      <td>2008.0</td>\n      <td>1.0</td>\n      <td>4.0</td>\n      <td>1.0</td>\n      <td>21.1</td>\n      <td>9.4</td>\n      <td>9.8</td>\n      <td>2008</td>\n      <td>2020</td>\n    </tr>\n    <tr>\n      <th>494</th>\n      <td>Young</td>\n      <td>Trae</td>\n      <td>Atlanta</td>\n      <td>Hawks</td>\n      <td>ATL</td>\n      <td>G</td>\n      <td>6'1\"</td>\n      <td>180 lbs</td>\n      <td>Oklahoma</td>\n      <td>USA</td>\n      <td>2018.0</td>\n      <td>1.0</td>\n      <td>5.0</td>\n      <td>1.0</td>\n      <td>26.7</td>\n      <td>4.1</td>\n      <td>9.3</td>\n      <td>2018</td>\n      <td>2020</td>\n    </tr>\n    <tr>\n      <th>119</th>\n      <td>Doncic</td>\n      <td>Luka</td>\n      <td>Dallas</td>\n      <td>Mavericks</td>\n      <td>DAL</td>\n      <td>F-G</td>\n      <td>6'7\"</td>\n      <td>230 lbs</td>\n      <td>Real Madrid</td>\n      <td>Slovenia</td>\n      <td>2018.0</td>\n      <td>1.0</td>\n      <td>3.0</td>\n      <td>1.0</td>\n      <td>28.2</td>\n      <td>8.4</td>\n      <td>9.1</td>\n      <td>2018</td>\n      <td>2020</td>\n    </tr>\n    <tr>\n      <th>376</th>\n      <td>Porter Jr.</td>\n      <td>Kevin</td>\n      <td>Houston</td>\n      <td>Rockets</td>\n      <td>HOU</td>\n      <td>G-F</td>\n      <td>6'4\"</td>\n      <td>203 lbs</td>\n      <td>Southern California</td>\n      <td>USA</td>\n      <td>2019.0</td>\n      <td>1.0</td>\n      <td>30.0</td>\n      <td>1.0</td>\n      <td>20.0</td>\n      <td>4.0</td>\n      <td>9.0</td>\n      <td>2019</td>\n      <td>2020</td>\n    </tr>\n    <tr>\n      <th>...</th>\n      <td>...</td>\n      <td>...</td>\n      <td>...</td>\n      <td>...</td>\n      <td>...</td>\n      <td>...</td>\n      <td>...</td>\n      <td>...</td>\n      <td>...</td>\n      <td>...</td>\n      <td>...</td>\n      <td>...</td>\n      <td>...</td>\n      <td>...</td>\n      <td>...</td>\n      <td>...</td>\n      <td>...</td>\n      <td>...</td>\n      <td>...</td>\n    </tr>\n    <tr>\n      <th>428</th>\n      <td>Spalding</td>\n      <td>Ray</td>\n      <td>Charlotte</td>\n      <td>Hornets</td>\n      <td>CHA</td>\n      <td>F</td>\n      <td>6'9\"</td>\n      <td>225 lbs</td>\n      <td>Louisville</td>\n      <td>USA</td>\n      <td>2018.0</td>\n      <td>2.0</td>\n      <td>56.0</td>\n      <td>NaN</td>\n      <td>2.0</td>\n      <td>2.0</td>\n      <td>0.0</td>\n      <td>2018</td>\n      <td>2020</td>\n    </tr>\n    <tr>\n      <th>429</th>\n      <td>Stanley</td>\n      <td>Cassius</td>\n      <td>Indiana</td>\n      <td>Pacers</td>\n      <td>IND</td>\n      <td>G</td>\n      <td>6'5\"</td>\n      <td>190 lbs</td>\n      <td>Duke</td>\n      <td>USA</td>\n      <td>2020.0</td>\n      <td>2.0</td>\n      <td>54.0</td>\n      <td>1.0</td>\n      <td>1.1</td>\n      <td>0.4</td>\n      <td>0.0</td>\n      <td>2020</td>\n      <td>2020</td>\n    </tr>\n    <tr>\n      <th>53</th>\n      <td>Bolden</td>\n      <td>Marques</td>\n      <td>NaN</td>\n      <td>NaN</td>\n      <td>NaN</td>\n      <td>C</td>\n      <td>6'10\"</td>\n      <td>249 lbs</td>\n      <td>Duke</td>\n      <td>USA</td>\n      <td>2019.0</td>\n      <td>NaN</td>\n      <td>NaN</td>\n      <td>NaN</td>\n      <td>1.2</td>\n      <td>1.0</td>\n      <td>0.0</td>\n      <td>2019</td>\n      <td>2020</td>\n    </tr>\n    <tr>\n      <th>61</th>\n      <td>Brantley</td>\n      <td>Jarrell</td>\n      <td>Utah</td>\n      <td>Jazz</td>\n      <td>UTA</td>\n      <td>F</td>\n      <td>6'5\"</td>\n      <td>250 lbs</td>\n      <td>College of Charleston</td>\n      <td>USA</td>\n      <td>2019.0</td>\n      <td>2.0</td>\n      <td>50.0</td>\n      <td>1.0</td>\n      <td>1.1</td>\n      <td>0.7</td>\n      <td>0.0</td>\n      <td>2019</td>\n      <td>2020</td>\n    </tr>\n    <tr>\n      <th>345</th>\n      <td>Nwora</td>\n      <td>Jordan</td>\n      <td>Milwaukee</td>\n      <td>Bucks</td>\n      <td>MIL</td>\n      <td>F</td>\n      <td>6'8\"</td>\n      <td>225 lbs</td>\n      <td>Louisville</td>\n      <td>USA</td>\n      <td>2020.0</td>\n      <td>2.0</td>\n      <td>45.0</td>\n      <td>1.0</td>\n      <td>5.1</td>\n      <td>1.5</td>\n      <td>0.0</td>\n      <td>2020</td>\n      <td>2020</td>\n    </tr>\n  </tbody>\n</table>\n<p>497 rows × 19 columns</p>\n</div>"
     },
     "metadata": {},
     "execution_count": 35
    }
   ],
   "source": [
    "astLeader = df.sort_values(by = ['AST'],ascending=False)\n",
    "astLeader"
   ]
  },
  {
   "cell_type": "code",
   "execution_count": 36,
   "metadata": {},
   "outputs": [
    {
     "output_type": "execute_result",
     "data": {
      "text/plain": [
       "    PLAYER_LAST_NAME PLAYER_FIRST_NAME      TEAM_CITY TEAM_NAME  \\\n",
       "427            Snell              Tony        Atlanta     Hawks   \n",
       "378       Porter Jr.              Otto        Chicago     Bulls   \n",
       "269          Leonard            Meyers          Miami      Heat   \n",
       "61          Brantley           Jarrell           Utah      Jazz   \n",
       "39            Bembry          DeAndre'        Toronto   Raptors   \n",
       "268          Leonard             Kawhi             LA  Clippers   \n",
       "108            Curry           Stephen   Golden State  Warriors   \n",
       "69             Brown             Moses  Oklahoma City   Thunder   \n",
       "316            Mills             Patty    San Antonio     Spurs   \n",
       "134           Embiid              Joel   Philadelphia     76ers   \n",
       "\n",
       "    TEAM_ABBREVIATION POSITION HEIGHT   WEIGHT  \\\n",
       "427               ATL        G   6'6\"  213 lbs   \n",
       "378               CHI        F   6'8\"  198 lbs   \n",
       "269               MIA      F-C   7'0\"  260 lbs   \n",
       "61                UTA        F   6'5\"  250 lbs   \n",
       "39                TOR      G-F   6'5\"  210 lbs   \n",
       "268               LAC        F   6'7\"  225 lbs   \n",
       "108               GSW        G   6'3\"  185 lbs   \n",
       "69                OKC        C   7'2\"  245 lbs   \n",
       "316               SAS        G   6'1\"  180 lbs   \n",
       "134               PHI      C-F   7'0\"  280 lbs   \n",
       "\n",
       "                             COLLEGE    COUNTRY  DRAFT_YEAR  DRAFT_ROUND  \\\n",
       "427                       New Mexico        USA      2013.0          1.0   \n",
       "378                       Georgetown        USA      2013.0          1.0   \n",
       "269                         Illinois        USA      2012.0          1.0   \n",
       "61             College of Charleston        USA      2019.0          2.0   \n",
       "39                 St. Joseph's (PA)        USA      2016.0          1.0   \n",
       "268                  San Diego State        USA      2011.0          1.0   \n",
       "108                         Davidson        USA      2009.0          1.0   \n",
       "69                              UCLA        USA         NaN          NaN   \n",
       "316  St.Mary's College of California  Australia      2009.0          2.0   \n",
       "134                           Kansas   Cameroon      2014.0          1.0   \n",
       "\n",
       "     DRAFT_NUMBER  ROSTER_STATUS   PTS   REB  AST  FROM_YEAR  TO_YEAR  \n",
       "427          20.0            1.0   5.2   2.2  1.2       2013     2020  \n",
       "378           3.0            1.0  10.5   5.9  1.9       2013     2020  \n",
       "269          11.0            1.0   3.3   2.3  0.7       2012     2020  \n",
       "61           50.0            1.0   1.1   0.7  0.0       2019     2020  \n",
       "39           21.0            1.0   4.8   2.2  2.0       2016     2020  \n",
       "268          15.0            1.0  26.7   6.4  4.8       2011     2020  \n",
       "108           7.0            1.0  29.3   5.4  6.2       2009     2020  \n",
       "69            NaN            1.0   4.2   4.0  0.3       2019     2020  \n",
       "316          55.0            1.0  13.3   1.9  2.6       2009     2020  \n",
       "134           3.0            1.0  29.9  11.5  3.3       2014     2020  "
      ],
      "text/html": "<div>\n<style scoped>\n    .dataframe tbody tr th:only-of-type {\n        vertical-align: middle;\n    }\n\n    .dataframe tbody tr th {\n        vertical-align: top;\n    }\n\n    .dataframe thead th {\n        text-align: right;\n    }\n</style>\n<table border=\"1\" class=\"dataframe\">\n  <thead>\n    <tr style=\"text-align: right;\">\n      <th></th>\n      <th>PLAYER_LAST_NAME</th>\n      <th>PLAYER_FIRST_NAME</th>\n      <th>TEAM_CITY</th>\n      <th>TEAM_NAME</th>\n      <th>TEAM_ABBREVIATION</th>\n      <th>POSITION</th>\n      <th>HEIGHT</th>\n      <th>WEIGHT</th>\n      <th>COLLEGE</th>\n      <th>COUNTRY</th>\n      <th>DRAFT_YEAR</th>\n      <th>DRAFT_ROUND</th>\n      <th>DRAFT_NUMBER</th>\n      <th>ROSTER_STATUS</th>\n      <th>PTS</th>\n      <th>REB</th>\n      <th>AST</th>\n      <th>FROM_YEAR</th>\n      <th>TO_YEAR</th>\n    </tr>\n  </thead>\n  <tbody>\n    <tr>\n      <th>427</th>\n      <td>Snell</td>\n      <td>Tony</td>\n      <td>Atlanta</td>\n      <td>Hawks</td>\n      <td>ATL</td>\n      <td>G</td>\n      <td>6'6\"</td>\n      <td>213 lbs</td>\n      <td>New Mexico</td>\n      <td>USA</td>\n      <td>2013.0</td>\n      <td>1.0</td>\n      <td>20.0</td>\n      <td>1.0</td>\n      <td>5.2</td>\n      <td>2.2</td>\n      <td>1.2</td>\n      <td>2013</td>\n      <td>2020</td>\n    </tr>\n    <tr>\n      <th>378</th>\n      <td>Porter Jr.</td>\n      <td>Otto</td>\n      <td>Chicago</td>\n      <td>Bulls</td>\n      <td>CHI</td>\n      <td>F</td>\n      <td>6'8\"</td>\n      <td>198 lbs</td>\n      <td>Georgetown</td>\n      <td>USA</td>\n      <td>2013.0</td>\n      <td>1.0</td>\n      <td>3.0</td>\n      <td>1.0</td>\n      <td>10.5</td>\n      <td>5.9</td>\n      <td>1.9</td>\n      <td>2013</td>\n      <td>2020</td>\n    </tr>\n    <tr>\n      <th>269</th>\n      <td>Leonard</td>\n      <td>Meyers</td>\n      <td>Miami</td>\n      <td>Heat</td>\n      <td>MIA</td>\n      <td>F-C</td>\n      <td>7'0\"</td>\n      <td>260 lbs</td>\n      <td>Illinois</td>\n      <td>USA</td>\n      <td>2012.0</td>\n      <td>1.0</td>\n      <td>11.0</td>\n      <td>1.0</td>\n      <td>3.3</td>\n      <td>2.3</td>\n      <td>0.7</td>\n      <td>2012</td>\n      <td>2020</td>\n    </tr>\n    <tr>\n      <th>61</th>\n      <td>Brantley</td>\n      <td>Jarrell</td>\n      <td>Utah</td>\n      <td>Jazz</td>\n      <td>UTA</td>\n      <td>F</td>\n      <td>6'5\"</td>\n      <td>250 lbs</td>\n      <td>College of Charleston</td>\n      <td>USA</td>\n      <td>2019.0</td>\n      <td>2.0</td>\n      <td>50.0</td>\n      <td>1.0</td>\n      <td>1.1</td>\n      <td>0.7</td>\n      <td>0.0</td>\n      <td>2019</td>\n      <td>2020</td>\n    </tr>\n    <tr>\n      <th>39</th>\n      <td>Bembry</td>\n      <td>DeAndre'</td>\n      <td>Toronto</td>\n      <td>Raptors</td>\n      <td>TOR</td>\n      <td>G-F</td>\n      <td>6'5\"</td>\n      <td>210 lbs</td>\n      <td>St. Joseph's (PA)</td>\n      <td>USA</td>\n      <td>2016.0</td>\n      <td>1.0</td>\n      <td>21.0</td>\n      <td>1.0</td>\n      <td>4.8</td>\n      <td>2.2</td>\n      <td>2.0</td>\n      <td>2016</td>\n      <td>2020</td>\n    </tr>\n    <tr>\n      <th>268</th>\n      <td>Leonard</td>\n      <td>Kawhi</td>\n      <td>LA</td>\n      <td>Clippers</td>\n      <td>LAC</td>\n      <td>F</td>\n      <td>6'7\"</td>\n      <td>225 lbs</td>\n      <td>San Diego State</td>\n      <td>USA</td>\n      <td>2011.0</td>\n      <td>1.0</td>\n      <td>15.0</td>\n      <td>1.0</td>\n      <td>26.7</td>\n      <td>6.4</td>\n      <td>4.8</td>\n      <td>2011</td>\n      <td>2020</td>\n    </tr>\n    <tr>\n      <th>108</th>\n      <td>Curry</td>\n      <td>Stephen</td>\n      <td>Golden State</td>\n      <td>Warriors</td>\n      <td>GSW</td>\n      <td>G</td>\n      <td>6'3\"</td>\n      <td>185 lbs</td>\n      <td>Davidson</td>\n      <td>USA</td>\n      <td>2009.0</td>\n      <td>1.0</td>\n      <td>7.0</td>\n      <td>1.0</td>\n      <td>29.3</td>\n      <td>5.4</td>\n      <td>6.2</td>\n      <td>2009</td>\n      <td>2020</td>\n    </tr>\n    <tr>\n      <th>69</th>\n      <td>Brown</td>\n      <td>Moses</td>\n      <td>Oklahoma City</td>\n      <td>Thunder</td>\n      <td>OKC</td>\n      <td>C</td>\n      <td>7'2\"</td>\n      <td>245 lbs</td>\n      <td>UCLA</td>\n      <td>USA</td>\n      <td>NaN</td>\n      <td>NaN</td>\n      <td>NaN</td>\n      <td>1.0</td>\n      <td>4.2</td>\n      <td>4.0</td>\n      <td>0.3</td>\n      <td>2019</td>\n      <td>2020</td>\n    </tr>\n    <tr>\n      <th>316</th>\n      <td>Mills</td>\n      <td>Patty</td>\n      <td>San Antonio</td>\n      <td>Spurs</td>\n      <td>SAS</td>\n      <td>G</td>\n      <td>6'1\"</td>\n      <td>180 lbs</td>\n      <td>St.Mary's College of California</td>\n      <td>Australia</td>\n      <td>2009.0</td>\n      <td>2.0</td>\n      <td>55.0</td>\n      <td>1.0</td>\n      <td>13.3</td>\n      <td>1.9</td>\n      <td>2.6</td>\n      <td>2009</td>\n      <td>2020</td>\n    </tr>\n    <tr>\n      <th>134</th>\n      <td>Embiid</td>\n      <td>Joel</td>\n      <td>Philadelphia</td>\n      <td>76ers</td>\n      <td>PHI</td>\n      <td>C-F</td>\n      <td>7'0\"</td>\n      <td>280 lbs</td>\n      <td>Kansas</td>\n      <td>Cameroon</td>\n      <td>2014.0</td>\n      <td>1.0</td>\n      <td>3.0</td>\n      <td>1.0</td>\n      <td>29.9</td>\n      <td>11.5</td>\n      <td>3.3</td>\n      <td>2014</td>\n      <td>2020</td>\n    </tr>\n  </tbody>\n</table>\n</div>"
     },
     "metadata": {},
     "execution_count": 36
    }
   ],
   "source": [
    "df.sample(10)"
   ]
  },
  {
   "cell_type": "code",
   "execution_count": 38,
   "metadata": {},
   "outputs": [
    {
     "output_type": "execute_result",
     "data": {
      "text/plain": [
       "    PLAYER_LAST_NAME PLAYER_FIRST_NAME     TEAM_CITY      TEAM_NAME  \\\n",
       "230            James            LeBron   Los Angeles         Lakers   \n",
       "14           Anthony           Carmelo      Portland  Trail Blazers   \n",
       "220         Iguodala             Andre         Miami           Heat   \n",
       "213           Howard            Dwight  Philadelphia          76ers   \n",
       "481         Williams               Lou            LA       Clippers   \n",
       "..               ...               ...           ...            ...   \n",
       "297             Mays            Skylar       Atlanta          Hawks   \n",
       "42               Bey            Saddiq       Detroit        Pistons   \n",
       "43               Bey             Tyler        Dallas      Mavericks   \n",
       "447           Toppin               Obi      New York         Knicks   \n",
       "0            Achiuwa          Precious         Miami           Heat   \n",
       "\n",
       "    TEAM_ABBREVIATION POSITION HEIGHT   WEIGHT  \\\n",
       "230               LAL        F   6'9\"  250 lbs   \n",
       "14                POR        F   6'7\"  238 lbs   \n",
       "220               MIA      G-F   6'6\"  215 lbs   \n",
       "213               PHI      C-F  6'10\"  265 lbs   \n",
       "481               LAC        G   6'1\"  175 lbs   \n",
       "..                ...      ...    ...      ...   \n",
       "297               ATL        G   6'4\"  205 lbs   \n",
       "42                DET        F   6'7\"  215 lbs   \n",
       "43                DAL        F   6'7\"  215 lbs   \n",
       "447               NYK        F   6'9\"  220 lbs   \n",
       "0                 MIA        F   6'8\"  225 lbs   \n",
       "\n",
       "                               COLLEGE  COUNTRY  DRAFT_YEAR  DRAFT_ROUND  \\\n",
       "230       St. Vincent-St. Mary HS (OH)      USA      2003.0          1.0   \n",
       "14                            Syracuse      USA      2003.0          1.0   \n",
       "220                            Arizona      USA      2004.0          1.0   \n",
       "213  SW Atlanta Christian Academy (GA)      USA      2004.0          1.0   \n",
       "481             South Gwinnett HS (GA)      USA      2005.0          2.0   \n",
       "..                                 ...      ...         ...          ...   \n",
       "297                    Louisiana State      USA      2020.0          2.0   \n",
       "42                           Villanova      USA      2020.0          1.0   \n",
       "43                            Colorado      USA      2020.0          2.0   \n",
       "447                             Dayton      USA      2020.0          1.0   \n",
       "0                              Memphis  Nigeria      2020.0          1.0   \n",
       "\n",
       "     DRAFT_NUMBER  ROSTER_STATUS   PTS  REB  AST  FROM_YEAR  TO_YEAR  \n",
       "230           1.0            1.0  25.6  7.9  7.8       2003     2020  \n",
       "14            3.0            1.0  14.1  3.3  1.6       2003     2020  \n",
       "220           9.0            1.0   4.7  3.7  2.2       2004     2020  \n",
       "213           1.0            1.0   6.4  7.5  0.7       2004     2020  \n",
       "481          45.0            1.0  12.6  2.3  3.7       2005     2020  \n",
       "..            ...            ...   ...  ...  ...        ...      ...  \n",
       "297          50.0            1.0   3.6  0.7  1.1       2020     2020  \n",
       "42           19.0            1.0  10.1  3.9  1.1       2020     2020  \n",
       "43           36.0            1.0   1.2  0.8  0.0       2020     2020  \n",
       "447           8.0            1.0   4.9  2.6  0.6       2020     2020  \n",
       "0            20.0            1.0   5.8  3.9  0.5       2020     2020  \n",
       "\n",
       "[497 rows x 19 columns]"
      ],
      "text/html": "<div>\n<style scoped>\n    .dataframe tbody tr th:only-of-type {\n        vertical-align: middle;\n    }\n\n    .dataframe tbody tr th {\n        vertical-align: top;\n    }\n\n    .dataframe thead th {\n        text-align: right;\n    }\n</style>\n<table border=\"1\" class=\"dataframe\">\n  <thead>\n    <tr style=\"text-align: right;\">\n      <th></th>\n      <th>PLAYER_LAST_NAME</th>\n      <th>PLAYER_FIRST_NAME</th>\n      <th>TEAM_CITY</th>\n      <th>TEAM_NAME</th>\n      <th>TEAM_ABBREVIATION</th>\n      <th>POSITION</th>\n      <th>HEIGHT</th>\n      <th>WEIGHT</th>\n      <th>COLLEGE</th>\n      <th>COUNTRY</th>\n      <th>DRAFT_YEAR</th>\n      <th>DRAFT_ROUND</th>\n      <th>DRAFT_NUMBER</th>\n      <th>ROSTER_STATUS</th>\n      <th>PTS</th>\n      <th>REB</th>\n      <th>AST</th>\n      <th>FROM_YEAR</th>\n      <th>TO_YEAR</th>\n    </tr>\n  </thead>\n  <tbody>\n    <tr>\n      <th>230</th>\n      <td>James</td>\n      <td>LeBron</td>\n      <td>Los Angeles</td>\n      <td>Lakers</td>\n      <td>LAL</td>\n      <td>F</td>\n      <td>6'9\"</td>\n      <td>250 lbs</td>\n      <td>St. Vincent-St. Mary HS (OH)</td>\n      <td>USA</td>\n      <td>2003.0</td>\n      <td>1.0</td>\n      <td>1.0</td>\n      <td>1.0</td>\n      <td>25.6</td>\n      <td>7.9</td>\n      <td>7.8</td>\n      <td>2003</td>\n      <td>2020</td>\n    </tr>\n    <tr>\n      <th>14</th>\n      <td>Anthony</td>\n      <td>Carmelo</td>\n      <td>Portland</td>\n      <td>Trail Blazers</td>\n      <td>POR</td>\n      <td>F</td>\n      <td>6'7\"</td>\n      <td>238 lbs</td>\n      <td>Syracuse</td>\n      <td>USA</td>\n      <td>2003.0</td>\n      <td>1.0</td>\n      <td>3.0</td>\n      <td>1.0</td>\n      <td>14.1</td>\n      <td>3.3</td>\n      <td>1.6</td>\n      <td>2003</td>\n      <td>2020</td>\n    </tr>\n    <tr>\n      <th>220</th>\n      <td>Iguodala</td>\n      <td>Andre</td>\n      <td>Miami</td>\n      <td>Heat</td>\n      <td>MIA</td>\n      <td>G-F</td>\n      <td>6'6\"</td>\n      <td>215 lbs</td>\n      <td>Arizona</td>\n      <td>USA</td>\n      <td>2004.0</td>\n      <td>1.0</td>\n      <td>9.0</td>\n      <td>1.0</td>\n      <td>4.7</td>\n      <td>3.7</td>\n      <td>2.2</td>\n      <td>2004</td>\n      <td>2020</td>\n    </tr>\n    <tr>\n      <th>213</th>\n      <td>Howard</td>\n      <td>Dwight</td>\n      <td>Philadelphia</td>\n      <td>76ers</td>\n      <td>PHI</td>\n      <td>C-F</td>\n      <td>6'10\"</td>\n      <td>265 lbs</td>\n      <td>SW Atlanta Christian Academy (GA)</td>\n      <td>USA</td>\n      <td>2004.0</td>\n      <td>1.0</td>\n      <td>1.0</td>\n      <td>1.0</td>\n      <td>6.4</td>\n      <td>7.5</td>\n      <td>0.7</td>\n      <td>2004</td>\n      <td>2020</td>\n    </tr>\n    <tr>\n      <th>481</th>\n      <td>Williams</td>\n      <td>Lou</td>\n      <td>LA</td>\n      <td>Clippers</td>\n      <td>LAC</td>\n      <td>G</td>\n      <td>6'1\"</td>\n      <td>175 lbs</td>\n      <td>South Gwinnett HS (GA)</td>\n      <td>USA</td>\n      <td>2005.0</td>\n      <td>2.0</td>\n      <td>45.0</td>\n      <td>1.0</td>\n      <td>12.6</td>\n      <td>2.3</td>\n      <td>3.7</td>\n      <td>2005</td>\n      <td>2020</td>\n    </tr>\n    <tr>\n      <th>...</th>\n      <td>...</td>\n      <td>...</td>\n      <td>...</td>\n      <td>...</td>\n      <td>...</td>\n      <td>...</td>\n      <td>...</td>\n      <td>...</td>\n      <td>...</td>\n      <td>...</td>\n      <td>...</td>\n      <td>...</td>\n      <td>...</td>\n      <td>...</td>\n      <td>...</td>\n      <td>...</td>\n      <td>...</td>\n      <td>...</td>\n      <td>...</td>\n    </tr>\n    <tr>\n      <th>297</th>\n      <td>Mays</td>\n      <td>Skylar</td>\n      <td>Atlanta</td>\n      <td>Hawks</td>\n      <td>ATL</td>\n      <td>G</td>\n      <td>6'4\"</td>\n      <td>205 lbs</td>\n      <td>Louisiana State</td>\n      <td>USA</td>\n      <td>2020.0</td>\n      <td>2.0</td>\n      <td>50.0</td>\n      <td>1.0</td>\n      <td>3.6</td>\n      <td>0.7</td>\n      <td>1.1</td>\n      <td>2020</td>\n      <td>2020</td>\n    </tr>\n    <tr>\n      <th>42</th>\n      <td>Bey</td>\n      <td>Saddiq</td>\n      <td>Detroit</td>\n      <td>Pistons</td>\n      <td>DET</td>\n      <td>F</td>\n      <td>6'7\"</td>\n      <td>215 lbs</td>\n      <td>Villanova</td>\n      <td>USA</td>\n      <td>2020.0</td>\n      <td>1.0</td>\n      <td>19.0</td>\n      <td>1.0</td>\n      <td>10.1</td>\n      <td>3.9</td>\n      <td>1.1</td>\n      <td>2020</td>\n      <td>2020</td>\n    </tr>\n    <tr>\n      <th>43</th>\n      <td>Bey</td>\n      <td>Tyler</td>\n      <td>Dallas</td>\n      <td>Mavericks</td>\n      <td>DAL</td>\n      <td>F</td>\n      <td>6'7\"</td>\n      <td>215 lbs</td>\n      <td>Colorado</td>\n      <td>USA</td>\n      <td>2020.0</td>\n      <td>2.0</td>\n      <td>36.0</td>\n      <td>1.0</td>\n      <td>1.2</td>\n      <td>0.8</td>\n      <td>0.0</td>\n      <td>2020</td>\n      <td>2020</td>\n    </tr>\n    <tr>\n      <th>447</th>\n      <td>Toppin</td>\n      <td>Obi</td>\n      <td>New York</td>\n      <td>Knicks</td>\n      <td>NYK</td>\n      <td>F</td>\n      <td>6'9\"</td>\n      <td>220 lbs</td>\n      <td>Dayton</td>\n      <td>USA</td>\n      <td>2020.0</td>\n      <td>1.0</td>\n      <td>8.0</td>\n      <td>1.0</td>\n      <td>4.9</td>\n      <td>2.6</td>\n      <td>0.6</td>\n      <td>2020</td>\n      <td>2020</td>\n    </tr>\n    <tr>\n      <th>0</th>\n      <td>Achiuwa</td>\n      <td>Precious</td>\n      <td>Miami</td>\n      <td>Heat</td>\n      <td>MIA</td>\n      <td>F</td>\n      <td>6'8\"</td>\n      <td>225 lbs</td>\n      <td>Memphis</td>\n      <td>Nigeria</td>\n      <td>2020.0</td>\n      <td>1.0</td>\n      <td>20.0</td>\n      <td>1.0</td>\n      <td>5.8</td>\n      <td>3.9</td>\n      <td>0.5</td>\n      <td>2020</td>\n      <td>2020</td>\n    </tr>\n  </tbody>\n</table>\n<p>497 rows × 19 columns</p>\n</div>"
     },
     "metadata": {},
     "execution_count": 38
    }
   ],
   "source": [
    "years = df.sort_values(by = 'FROM_YEAR',ascending = True)\n",
    "years"
   ]
  },
  {
   "cell_type": "code",
   "execution_count": 39,
   "metadata": {},
   "outputs": [
    {
     "output_type": "execute_result",
     "data": {
      "text/plain": [
       "        DRAFT_YEAR  DRAFT_ROUND  DRAFT_NUMBER  ROSTER_STATUS         PTS  \\\n",
       "count   393.000000   388.000000    388.000000          476.0  497.000000   \n",
       "mean   2015.213740     1.317010     22.847938            1.0    8.884306   \n",
       "std       4.078955     0.465912     15.981743            0.0    6.801577   \n",
       "min    2003.000000     1.000000      1.000000            1.0    0.000000   \n",
       "25%    2013.000000     1.000000      9.000000            1.0    3.800000   \n",
       "50%    2016.000000     1.000000     20.000000            1.0    7.200000   \n",
       "75%    2019.000000     2.000000     35.000000            1.0   12.600000   \n",
       "max    2020.000000     2.000000     60.000000            1.0   32.100000   \n",
       "\n",
       "              REB         AST    FROM_YEAR  TO_YEAR  \n",
       "count  497.000000  497.000000   497.000000    497.0  \n",
       "mean     3.634608    2.000402  2015.812877   2020.0  \n",
       "std      2.487697    1.926209     3.887946      0.0  \n",
       "min      0.000000    0.000000  2003.000000   2020.0  \n",
       "25%      1.900000    0.600000  2014.000000   2020.0  \n",
       "50%      3.200000    1.400000  2017.000000   2020.0  \n",
       "75%      4.900000    2.600000  2019.000000   2020.0  \n",
       "max     14.300000   11.000000  2020.000000   2020.0  "
      ],
      "text/html": "<div>\n<style scoped>\n    .dataframe tbody tr th:only-of-type {\n        vertical-align: middle;\n    }\n\n    .dataframe tbody tr th {\n        vertical-align: top;\n    }\n\n    .dataframe thead th {\n        text-align: right;\n    }\n</style>\n<table border=\"1\" class=\"dataframe\">\n  <thead>\n    <tr style=\"text-align: right;\">\n      <th></th>\n      <th>DRAFT_YEAR</th>\n      <th>DRAFT_ROUND</th>\n      <th>DRAFT_NUMBER</th>\n      <th>ROSTER_STATUS</th>\n      <th>PTS</th>\n      <th>REB</th>\n      <th>AST</th>\n      <th>FROM_YEAR</th>\n      <th>TO_YEAR</th>\n    </tr>\n  </thead>\n  <tbody>\n    <tr>\n      <th>count</th>\n      <td>393.000000</td>\n      <td>388.000000</td>\n      <td>388.000000</td>\n      <td>476.0</td>\n      <td>497.000000</td>\n      <td>497.000000</td>\n      <td>497.000000</td>\n      <td>497.000000</td>\n      <td>497.0</td>\n    </tr>\n    <tr>\n      <th>mean</th>\n      <td>2015.213740</td>\n      <td>1.317010</td>\n      <td>22.847938</td>\n      <td>1.0</td>\n      <td>8.884306</td>\n      <td>3.634608</td>\n      <td>2.000402</td>\n      <td>2015.812877</td>\n      <td>2020.0</td>\n    </tr>\n    <tr>\n      <th>std</th>\n      <td>4.078955</td>\n      <td>0.465912</td>\n      <td>15.981743</td>\n      <td>0.0</td>\n      <td>6.801577</td>\n      <td>2.487697</td>\n      <td>1.926209</td>\n      <td>3.887946</td>\n      <td>0.0</td>\n    </tr>\n    <tr>\n      <th>min</th>\n      <td>2003.000000</td>\n      <td>1.000000</td>\n      <td>1.000000</td>\n      <td>1.0</td>\n      <td>0.000000</td>\n      <td>0.000000</td>\n      <td>0.000000</td>\n      <td>2003.000000</td>\n      <td>2020.0</td>\n    </tr>\n    <tr>\n      <th>25%</th>\n      <td>2013.000000</td>\n      <td>1.000000</td>\n      <td>9.000000</td>\n      <td>1.0</td>\n      <td>3.800000</td>\n      <td>1.900000</td>\n      <td>0.600000</td>\n      <td>2014.000000</td>\n      <td>2020.0</td>\n    </tr>\n    <tr>\n      <th>50%</th>\n      <td>2016.000000</td>\n      <td>1.000000</td>\n      <td>20.000000</td>\n      <td>1.0</td>\n      <td>7.200000</td>\n      <td>3.200000</td>\n      <td>1.400000</td>\n      <td>2017.000000</td>\n      <td>2020.0</td>\n    </tr>\n    <tr>\n      <th>75%</th>\n      <td>2019.000000</td>\n      <td>2.000000</td>\n      <td>35.000000</td>\n      <td>1.0</td>\n      <td>12.600000</td>\n      <td>4.900000</td>\n      <td>2.600000</td>\n      <td>2019.000000</td>\n      <td>2020.0</td>\n    </tr>\n    <tr>\n      <th>max</th>\n      <td>2020.000000</td>\n      <td>2.000000</td>\n      <td>60.000000</td>\n      <td>1.0</td>\n      <td>32.100000</td>\n      <td>14.300000</td>\n      <td>11.000000</td>\n      <td>2020.000000</td>\n      <td>2020.0</td>\n    </tr>\n  </tbody>\n</table>\n</div>"
     },
     "metadata": {},
     "execution_count": 39
    }
   ],
   "source": [
    "df.describe()"
   ]
  },
  {
   "cell_type": "code",
   "execution_count": 40,
   "metadata": {},
   "outputs": [
    {
     "output_type": "stream",
     "name": "stdout",
     "text": [
      "<class 'pandas.core.frame.DataFrame'>\nRangeIndex: 497 entries, 0 to 496\nData columns (total 19 columns):\n #   Column             Non-Null Count  Dtype  \n---  ------             --------------  -----  \n 0   PLAYER_LAST_NAME   497 non-null    object \n 1   PLAYER_FIRST_NAME  497 non-null    object \n 2   TEAM_CITY          494 non-null    object \n 3   TEAM_NAME          494 non-null    object \n 4   TEAM_ABBREVIATION  494 non-null    object \n 5   POSITION           497 non-null    object \n 6   HEIGHT             497 non-null    object \n 7   WEIGHT             497 non-null    object \n 8   COLLEGE            497 non-null    object \n 9   COUNTRY            497 non-null    object \n 10  DRAFT_YEAR         393 non-null    float64\n 11  DRAFT_ROUND        388 non-null    float64\n 12  DRAFT_NUMBER       388 non-null    float64\n 13  ROSTER_STATUS      476 non-null    float64\n 14  PTS                497 non-null    float64\n 15  REB                497 non-null    float64\n 16  AST                497 non-null    float64\n 17  FROM_YEAR          497 non-null    int64  \n 18  TO_YEAR            497 non-null    int64  \ndtypes: float64(7), int64(2), object(10)\nmemory usage: 73.9+ KB\n"
     ]
    }
   ],
   "source": [
    "df.info()"
   ]
  },
  {
   "cell_type": "code",
   "execution_count": 66,
   "metadata": {},
   "outputs": [
    {
     "output_type": "execute_result",
     "data": {
      "text/plain": [
       "    PLAYER_LAST_NAME PLAYER_FIRST_NAME    TEAM_CITY TEAM_NAME  \\\n",
       "0            Achiuwa          Precious        Miami      Heat   \n",
       "2              Adams            Steven  New Orleans  Pelicans   \n",
       "3            Adebayo               Bam        Miami      Heat   \n",
       "4           Aldridge          LaMarcus  San Antonio     Spurs   \n",
       "5          Alexander           Ty-Shon      Phoenix      Suns   \n",
       "..               ...               ...          ...       ...   \n",
       "492           Wright             Delon      Detroit   Pistons   \n",
       "493            Young          Thaddeus      Chicago     Bulls   \n",
       "494            Young              Trae      Atlanta     Hawks   \n",
       "495           Zeller              Cody    Charlotte   Hornets   \n",
       "496            Zubac             Ivica           LA  Clippers   \n",
       "\n",
       "    TEAM_ABBREVIATION POSITION HEIGHT   WEIGHT       COLLEGE      COUNTRY  \\\n",
       "0                 MIA        F   6'8\"  225 lbs       Memphis      Nigeria   \n",
       "2                 NOP        C  6'11\"  265 lbs    Pittsburgh  New Zealand   \n",
       "3                 MIA      C-F   6'9\"  255 lbs      Kentucky          USA   \n",
       "4                 SAS      C-F  6'11\"  250 lbs         Texas          USA   \n",
       "5                 PHX        G   6'3\"  195 lbs     Creighton          USA   \n",
       "..                ...      ...    ...      ...           ...          ...   \n",
       "492               DET        G   6'5\"  185 lbs          Utah          USA   \n",
       "493               CHI        F   6'8\"  235 lbs  Georgia Tech          USA   \n",
       "494               ATL        G   6'1\"  180 lbs      Oklahoma          USA   \n",
       "495               CHA      F-C  6'11\"  240 lbs       Indiana          USA   \n",
       "496               LAC        C   7'0\"  240 lbs   Mega Basket      Croatia   \n",
       "\n",
       "     DRAFT_YEAR  DRAFT_ROUND  DRAFT_NUMBER  ROSTER_STATUS   PTS  REB  AST  \\\n",
       "0        2020.0          1.0          20.0            1.0   5.8  3.9  0.5   \n",
       "2        2013.0          1.0          12.0            1.0   8.2  9.2  2.0   \n",
       "3        2017.0          1.0          14.0            1.0  19.2  9.5  5.4   \n",
       "4        2006.0          1.0           2.0            1.0  13.7  4.5  1.7   \n",
       "5           NaN          NaN           NaN            1.0   0.0  0.3  0.3   \n",
       "..          ...          ...           ...            ...   ...  ...  ...   \n",
       "492      2015.0          1.0          20.0            1.0  10.6  4.5  4.8   \n",
       "493      2007.0          1.0          12.0            1.0  12.2  6.1  4.3   \n",
       "494      2018.0          1.0           5.0            1.0  26.7  4.1  9.3   \n",
       "495      2013.0          1.0           4.0            1.0  10.0  7.5  2.3   \n",
       "496      2016.0          2.0          32.0            1.0   8.2  6.9  1.1   \n",
       "\n",
       "     FROM_YEAR  TO_YEAR  \n",
       "0         2020     2020  \n",
       "2         2013     2020  \n",
       "3         2017     2020  \n",
       "4         2006     2020  \n",
       "5         2020     2020  \n",
       "..         ...      ...  \n",
       "492       2015     2020  \n",
       "493       2007     2020  \n",
       "494       2018     2020  \n",
       "495       2013     2020  \n",
       "496       2016     2020  \n",
       "\n",
       "[476 rows x 19 columns]"
      ],
      "text/html": "<div>\n<style scoped>\n    .dataframe tbody tr th:only-of-type {\n        vertical-align: middle;\n    }\n\n    .dataframe tbody tr th {\n        vertical-align: top;\n    }\n\n    .dataframe thead th {\n        text-align: right;\n    }\n</style>\n<table border=\"1\" class=\"dataframe\">\n  <thead>\n    <tr style=\"text-align: right;\">\n      <th></th>\n      <th>PLAYER_LAST_NAME</th>\n      <th>PLAYER_FIRST_NAME</th>\n      <th>TEAM_CITY</th>\n      <th>TEAM_NAME</th>\n      <th>TEAM_ABBREVIATION</th>\n      <th>POSITION</th>\n      <th>HEIGHT</th>\n      <th>WEIGHT</th>\n      <th>COLLEGE</th>\n      <th>COUNTRY</th>\n      <th>DRAFT_YEAR</th>\n      <th>DRAFT_ROUND</th>\n      <th>DRAFT_NUMBER</th>\n      <th>ROSTER_STATUS</th>\n      <th>PTS</th>\n      <th>REB</th>\n      <th>AST</th>\n      <th>FROM_YEAR</th>\n      <th>TO_YEAR</th>\n    </tr>\n  </thead>\n  <tbody>\n    <tr>\n      <th>0</th>\n      <td>Achiuwa</td>\n      <td>Precious</td>\n      <td>Miami</td>\n      <td>Heat</td>\n      <td>MIA</td>\n      <td>F</td>\n      <td>6'8\"</td>\n      <td>225 lbs</td>\n      <td>Memphis</td>\n      <td>Nigeria</td>\n      <td>2020.0</td>\n      <td>1.0</td>\n      <td>20.0</td>\n      <td>1.0</td>\n      <td>5.8</td>\n      <td>3.9</td>\n      <td>0.5</td>\n      <td>2020</td>\n      <td>2020</td>\n    </tr>\n    <tr>\n      <th>2</th>\n      <td>Adams</td>\n      <td>Steven</td>\n      <td>New Orleans</td>\n      <td>Pelicans</td>\n      <td>NOP</td>\n      <td>C</td>\n      <td>6'11\"</td>\n      <td>265 lbs</td>\n      <td>Pittsburgh</td>\n      <td>New Zealand</td>\n      <td>2013.0</td>\n      <td>1.0</td>\n      <td>12.0</td>\n      <td>1.0</td>\n      <td>8.2</td>\n      <td>9.2</td>\n      <td>2.0</td>\n      <td>2013</td>\n      <td>2020</td>\n    </tr>\n    <tr>\n      <th>3</th>\n      <td>Adebayo</td>\n      <td>Bam</td>\n      <td>Miami</td>\n      <td>Heat</td>\n      <td>MIA</td>\n      <td>C-F</td>\n      <td>6'9\"</td>\n      <td>255 lbs</td>\n      <td>Kentucky</td>\n      <td>USA</td>\n      <td>2017.0</td>\n      <td>1.0</td>\n      <td>14.0</td>\n      <td>1.0</td>\n      <td>19.2</td>\n      <td>9.5</td>\n      <td>5.4</td>\n      <td>2017</td>\n      <td>2020</td>\n    </tr>\n    <tr>\n      <th>4</th>\n      <td>Aldridge</td>\n      <td>LaMarcus</td>\n      <td>San Antonio</td>\n      <td>Spurs</td>\n      <td>SAS</td>\n      <td>C-F</td>\n      <td>6'11\"</td>\n      <td>250 lbs</td>\n      <td>Texas</td>\n      <td>USA</td>\n      <td>2006.0</td>\n      <td>1.0</td>\n      <td>2.0</td>\n      <td>1.0</td>\n      <td>13.7</td>\n      <td>4.5</td>\n      <td>1.7</td>\n      <td>2006</td>\n      <td>2020</td>\n    </tr>\n    <tr>\n      <th>5</th>\n      <td>Alexander</td>\n      <td>Ty-Shon</td>\n      <td>Phoenix</td>\n      <td>Suns</td>\n      <td>PHX</td>\n      <td>G</td>\n      <td>6'3\"</td>\n      <td>195 lbs</td>\n      <td>Creighton</td>\n      <td>USA</td>\n      <td>NaN</td>\n      <td>NaN</td>\n      <td>NaN</td>\n      <td>1.0</td>\n      <td>0.0</td>\n      <td>0.3</td>\n      <td>0.3</td>\n      <td>2020</td>\n      <td>2020</td>\n    </tr>\n    <tr>\n      <th>...</th>\n      <td>...</td>\n      <td>...</td>\n      <td>...</td>\n      <td>...</td>\n      <td>...</td>\n      <td>...</td>\n      <td>...</td>\n      <td>...</td>\n      <td>...</td>\n      <td>...</td>\n      <td>...</td>\n      <td>...</td>\n      <td>...</td>\n      <td>...</td>\n      <td>...</td>\n      <td>...</td>\n      <td>...</td>\n      <td>...</td>\n      <td>...</td>\n    </tr>\n    <tr>\n      <th>492</th>\n      <td>Wright</td>\n      <td>Delon</td>\n      <td>Detroit</td>\n      <td>Pistons</td>\n      <td>DET</td>\n      <td>G</td>\n      <td>6'5\"</td>\n      <td>185 lbs</td>\n      <td>Utah</td>\n      <td>USA</td>\n      <td>2015.0</td>\n      <td>1.0</td>\n      <td>20.0</td>\n      <td>1.0</td>\n      <td>10.6</td>\n      <td>4.5</td>\n      <td>4.8</td>\n      <td>2015</td>\n      <td>2020</td>\n    </tr>\n    <tr>\n      <th>493</th>\n      <td>Young</td>\n      <td>Thaddeus</td>\n      <td>Chicago</td>\n      <td>Bulls</td>\n      <td>CHI</td>\n      <td>F</td>\n      <td>6'8\"</td>\n      <td>235 lbs</td>\n      <td>Georgia Tech</td>\n      <td>USA</td>\n      <td>2007.0</td>\n      <td>1.0</td>\n      <td>12.0</td>\n      <td>1.0</td>\n      <td>12.2</td>\n      <td>6.1</td>\n      <td>4.3</td>\n      <td>2007</td>\n      <td>2020</td>\n    </tr>\n    <tr>\n      <th>494</th>\n      <td>Young</td>\n      <td>Trae</td>\n      <td>Atlanta</td>\n      <td>Hawks</td>\n      <td>ATL</td>\n      <td>G</td>\n      <td>6'1\"</td>\n      <td>180 lbs</td>\n      <td>Oklahoma</td>\n      <td>USA</td>\n      <td>2018.0</td>\n      <td>1.0</td>\n      <td>5.0</td>\n      <td>1.0</td>\n      <td>26.7</td>\n      <td>4.1</td>\n      <td>9.3</td>\n      <td>2018</td>\n      <td>2020</td>\n    </tr>\n    <tr>\n      <th>495</th>\n      <td>Zeller</td>\n      <td>Cody</td>\n      <td>Charlotte</td>\n      <td>Hornets</td>\n      <td>CHA</td>\n      <td>F-C</td>\n      <td>6'11\"</td>\n      <td>240 lbs</td>\n      <td>Indiana</td>\n      <td>USA</td>\n      <td>2013.0</td>\n      <td>1.0</td>\n      <td>4.0</td>\n      <td>1.0</td>\n      <td>10.0</td>\n      <td>7.5</td>\n      <td>2.3</td>\n      <td>2013</td>\n      <td>2020</td>\n    </tr>\n    <tr>\n      <th>496</th>\n      <td>Zubac</td>\n      <td>Ivica</td>\n      <td>LA</td>\n      <td>Clippers</td>\n      <td>LAC</td>\n      <td>C</td>\n      <td>7'0\"</td>\n      <td>240 lbs</td>\n      <td>Mega Basket</td>\n      <td>Croatia</td>\n      <td>2016.0</td>\n      <td>2.0</td>\n      <td>32.0</td>\n      <td>1.0</td>\n      <td>8.2</td>\n      <td>6.9</td>\n      <td>1.1</td>\n      <td>2016</td>\n      <td>2020</td>\n    </tr>\n  </tbody>\n</table>\n<p>476 rows × 19 columns</p>\n</div>"
     },
     "metadata": {},
     "execution_count": 66
    }
   ],
   "source": [
    "noMissing = df.dropna(subset=['ROSTER_STATUS'])\n",
    "activePlayer = noMissing[noMissing['ROSTER_STATUS']>0]\n",
    "activePlayer\n",
    "# activePlayer = noMissing[ == 1]\n",
    "# activePlayer"
   ]
  },
  {
   "cell_type": "code",
   "execution_count": 70,
   "metadata": {},
   "outputs": [
    {
     "output_type": "execute_result",
     "data": {
      "text/plain": [
       "   PLAYER_LAST_NAME PLAYER_FIRST_NAME    TEAM_CITY      TEAM_NAME  \\\n",
       "0           Achiuwa          Precious        Miami           Heat   \n",
       "1             Adams            Jaylen     Portland  Trail Blazers   \n",
       "2             Adams            Steven  New Orleans       Pelicans   \n",
       "3           Adebayo               Bam        Miami           Heat   \n",
       "4          Aldridge          LaMarcus  San Antonio          Spurs   \n",
       "5         Alexander           Ty-Shon      Phoenix           Suns   \n",
       "6  Alexander-Walker           Nickeil  New Orleans       Pelicans   \n",
       "7             Allen           Grayson      Memphis      Grizzlies   \n",
       "8             Allen           Jarrett    Cleveland      Cavaliers   \n",
       "9             Aminu         Al-Farouq      Orlando          Magic   \n",
       "\n",
       "  TEAM_ABBREVIATION POSITION HEIGHT   WEIGHT          COLLEGE      COUNTRY  \\\n",
       "0               MIA        F   6'8\"  225 lbs          Memphis      Nigeria   \n",
       "1               POR        G   6'0\"  225 lbs  St. Bonaventure          USA   \n",
       "2               NOP        C  6'11\"  265 lbs       Pittsburgh  New Zealand   \n",
       "3               MIA      C-F   6'9\"  255 lbs         Kentucky          USA   \n",
       "4               SAS      C-F  6'11\"  250 lbs            Texas          USA   \n",
       "5               PHX        G   6'3\"  195 lbs        Creighton          USA   \n",
       "6               NOP        G   6'6\"  205 lbs    Virginia Tech       Canada   \n",
       "7               MEM        G   6'4\"  198 lbs             Duke          USA   \n",
       "8               CLE        C  6'11\"  243 lbs            Texas          USA   \n",
       "9               ORL        F   6'8\"  220 lbs      Wake Forest          USA   \n",
       "\n",
       "   DRAFT_YEAR  DRAFT_ROUND  DRAFT_NUMBER  ROSTER_STATUS   PTS  REB  AST  \\\n",
       "0      2020.0          1.0          20.0            1.0   5.8  3.9  0.5   \n",
       "1         NaN          NaN           NaN            NaN   0.3  0.4  0.3   \n",
       "2      2013.0          1.0          12.0            1.0   8.2  9.2  2.0   \n",
       "3      2017.0          1.0          14.0            1.0  19.2  9.5  5.4   \n",
       "4      2006.0          1.0           2.0            1.0  13.7  4.5  1.7   \n",
       "5         NaN          NaN           NaN            1.0   0.0  0.3  0.3   \n",
       "6      2019.0          1.0          17.0            1.0   8.5  2.6  2.0   \n",
       "7      2018.0          1.0          21.0            1.0   9.3  2.8  2.2   \n",
       "8      2017.0          1.0          22.0            1.0  13.2  9.8  1.7   \n",
       "9      2010.0          1.0           8.0            1.0   4.6  4.4  1.5   \n",
       "\n",
       "   FROM_YEAR  TO_YEAR  \n",
       "0       2020     2020  \n",
       "1       2018     2020  \n",
       "2       2013     2020  \n",
       "3       2017     2020  \n",
       "4       2006     2020  \n",
       "5       2020     2020  \n",
       "6       2019     2020  \n",
       "7       2018     2020  \n",
       "8       2017     2020  \n",
       "9       2010     2020  "
      ],
      "text/html": "<div>\n<style scoped>\n    .dataframe tbody tr th:only-of-type {\n        vertical-align: middle;\n    }\n\n    .dataframe tbody tr th {\n        vertical-align: top;\n    }\n\n    .dataframe thead th {\n        text-align: right;\n    }\n</style>\n<table border=\"1\" class=\"dataframe\">\n  <thead>\n    <tr style=\"text-align: right;\">\n      <th></th>\n      <th>PLAYER_LAST_NAME</th>\n      <th>PLAYER_FIRST_NAME</th>\n      <th>TEAM_CITY</th>\n      <th>TEAM_NAME</th>\n      <th>TEAM_ABBREVIATION</th>\n      <th>POSITION</th>\n      <th>HEIGHT</th>\n      <th>WEIGHT</th>\n      <th>COLLEGE</th>\n      <th>COUNTRY</th>\n      <th>DRAFT_YEAR</th>\n      <th>DRAFT_ROUND</th>\n      <th>DRAFT_NUMBER</th>\n      <th>ROSTER_STATUS</th>\n      <th>PTS</th>\n      <th>REB</th>\n      <th>AST</th>\n      <th>FROM_YEAR</th>\n      <th>TO_YEAR</th>\n    </tr>\n  </thead>\n  <tbody>\n    <tr>\n      <th>0</th>\n      <td>Achiuwa</td>\n      <td>Precious</td>\n      <td>Miami</td>\n      <td>Heat</td>\n      <td>MIA</td>\n      <td>F</td>\n      <td>6'8\"</td>\n      <td>225 lbs</td>\n      <td>Memphis</td>\n      <td>Nigeria</td>\n      <td>2020.0</td>\n      <td>1.0</td>\n      <td>20.0</td>\n      <td>1.0</td>\n      <td>5.8</td>\n      <td>3.9</td>\n      <td>0.5</td>\n      <td>2020</td>\n      <td>2020</td>\n    </tr>\n    <tr>\n      <th>1</th>\n      <td>Adams</td>\n      <td>Jaylen</td>\n      <td>Portland</td>\n      <td>Trail Blazers</td>\n      <td>POR</td>\n      <td>G</td>\n      <td>6'0\"</td>\n      <td>225 lbs</td>\n      <td>St. Bonaventure</td>\n      <td>USA</td>\n      <td>NaN</td>\n      <td>NaN</td>\n      <td>NaN</td>\n      <td>NaN</td>\n      <td>0.3</td>\n      <td>0.4</td>\n      <td>0.3</td>\n      <td>2018</td>\n      <td>2020</td>\n    </tr>\n    <tr>\n      <th>2</th>\n      <td>Adams</td>\n      <td>Steven</td>\n      <td>New Orleans</td>\n      <td>Pelicans</td>\n      <td>NOP</td>\n      <td>C</td>\n      <td>6'11\"</td>\n      <td>265 lbs</td>\n      <td>Pittsburgh</td>\n      <td>New Zealand</td>\n      <td>2013.0</td>\n      <td>1.0</td>\n      <td>12.0</td>\n      <td>1.0</td>\n      <td>8.2</td>\n      <td>9.2</td>\n      <td>2.0</td>\n      <td>2013</td>\n      <td>2020</td>\n    </tr>\n    <tr>\n      <th>3</th>\n      <td>Adebayo</td>\n      <td>Bam</td>\n      <td>Miami</td>\n      <td>Heat</td>\n      <td>MIA</td>\n      <td>C-F</td>\n      <td>6'9\"</td>\n      <td>255 lbs</td>\n      <td>Kentucky</td>\n      <td>USA</td>\n      <td>2017.0</td>\n      <td>1.0</td>\n      <td>14.0</td>\n      <td>1.0</td>\n      <td>19.2</td>\n      <td>9.5</td>\n      <td>5.4</td>\n      <td>2017</td>\n      <td>2020</td>\n    </tr>\n    <tr>\n      <th>4</th>\n      <td>Aldridge</td>\n      <td>LaMarcus</td>\n      <td>San Antonio</td>\n      <td>Spurs</td>\n      <td>SAS</td>\n      <td>C-F</td>\n      <td>6'11\"</td>\n      <td>250 lbs</td>\n      <td>Texas</td>\n      <td>USA</td>\n      <td>2006.0</td>\n      <td>1.0</td>\n      <td>2.0</td>\n      <td>1.0</td>\n      <td>13.7</td>\n      <td>4.5</td>\n      <td>1.7</td>\n      <td>2006</td>\n      <td>2020</td>\n    </tr>\n    <tr>\n      <th>5</th>\n      <td>Alexander</td>\n      <td>Ty-Shon</td>\n      <td>Phoenix</td>\n      <td>Suns</td>\n      <td>PHX</td>\n      <td>G</td>\n      <td>6'3\"</td>\n      <td>195 lbs</td>\n      <td>Creighton</td>\n      <td>USA</td>\n      <td>NaN</td>\n      <td>NaN</td>\n      <td>NaN</td>\n      <td>1.0</td>\n      <td>0.0</td>\n      <td>0.3</td>\n      <td>0.3</td>\n      <td>2020</td>\n      <td>2020</td>\n    </tr>\n    <tr>\n      <th>6</th>\n      <td>Alexander-Walker</td>\n      <td>Nickeil</td>\n      <td>New Orleans</td>\n      <td>Pelicans</td>\n      <td>NOP</td>\n      <td>G</td>\n      <td>6'6\"</td>\n      <td>205 lbs</td>\n      <td>Virginia Tech</td>\n      <td>Canada</td>\n      <td>2019.0</td>\n      <td>1.0</td>\n      <td>17.0</td>\n      <td>1.0</td>\n      <td>8.5</td>\n      <td>2.6</td>\n      <td>2.0</td>\n      <td>2019</td>\n      <td>2020</td>\n    </tr>\n    <tr>\n      <th>7</th>\n      <td>Allen</td>\n      <td>Grayson</td>\n      <td>Memphis</td>\n      <td>Grizzlies</td>\n      <td>MEM</td>\n      <td>G</td>\n      <td>6'4\"</td>\n      <td>198 lbs</td>\n      <td>Duke</td>\n      <td>USA</td>\n      <td>2018.0</td>\n      <td>1.0</td>\n      <td>21.0</td>\n      <td>1.0</td>\n      <td>9.3</td>\n      <td>2.8</td>\n      <td>2.2</td>\n      <td>2018</td>\n      <td>2020</td>\n    </tr>\n    <tr>\n      <th>8</th>\n      <td>Allen</td>\n      <td>Jarrett</td>\n      <td>Cleveland</td>\n      <td>Cavaliers</td>\n      <td>CLE</td>\n      <td>C</td>\n      <td>6'11\"</td>\n      <td>243 lbs</td>\n      <td>Texas</td>\n      <td>USA</td>\n      <td>2017.0</td>\n      <td>1.0</td>\n      <td>22.0</td>\n      <td>1.0</td>\n      <td>13.2</td>\n      <td>9.8</td>\n      <td>1.7</td>\n      <td>2017</td>\n      <td>2020</td>\n    </tr>\n    <tr>\n      <th>9</th>\n      <td>Aminu</td>\n      <td>Al-Farouq</td>\n      <td>Orlando</td>\n      <td>Magic</td>\n      <td>ORL</td>\n      <td>F</td>\n      <td>6'8\"</td>\n      <td>220 lbs</td>\n      <td>Wake Forest</td>\n      <td>USA</td>\n      <td>2010.0</td>\n      <td>1.0</td>\n      <td>8.0</td>\n      <td>1.0</td>\n      <td>4.6</td>\n      <td>4.4</td>\n      <td>1.5</td>\n      <td>2010</td>\n      <td>2020</td>\n    </tr>\n  </tbody>\n</table>\n</div>"
     },
     "metadata": {},
     "execution_count": 70
    }
   ],
   "source": [
    "# notDraftedPlayer = df[df['DRAFT_ROUND'].isna()== True]\n",
    "# notDraftedPlayer\n",
    "df.head(10)"
   ]
  },
  {
   "cell_type": "code",
   "execution_count": 10,
   "metadata": {},
   "outputs": [
    {
     "output_type": "execute_result",
     "data": {
      "text/plain": [
       "               DRAFT_YEAR  DRAFT_ROUND  DRAFT_NUMBER  ROSTER_STATUS   PTS  \\\n",
       "TEAM_CITY                                                                   \n",
       "Atlanta            2020.0          2.0          50.0            1.0  26.7   \n",
       "Boston             2020.0          2.0          51.0            1.0  25.1   \n",
       "Brooklyn           2020.0          2.0          57.0            1.0  29.0   \n",
       "Charlotte          2020.0          2.0          56.0            1.0  21.0   \n",
       "Chicago            2020.0          2.0          38.0            1.0  28.5   \n",
       "Cleveland          2020.0          2.0          44.0            1.0  23.9   \n",
       "Dallas             2020.0          2.0          45.0            1.0  28.2   \n",
       "Denver             2020.0          2.0          51.0            1.0  27.1   \n",
       "Detroit            2020.0          2.0          57.0            1.0  23.6   \n",
       "Golden State       2020.0          2.0          48.0            1.0  29.3   \n",
       "Houston            2020.0          2.0          52.0            1.0  22.0   \n",
       "Indiana            2020.0          2.0          54.0            1.0  21.5   \n",
       "LA                 2020.0          2.0          48.0            1.0  26.7   \n",
       "Los Angeles        2019.0          2.0          60.0            1.0  25.6   \n",
       "Memphis            2020.0          2.0          46.0            1.0  19.7   \n",
       "Miami              2020.0          2.0          45.0            1.0  21.1   \n",
       "Milwaukee          2020.0          2.0          60.0            1.0  29.0   \n",
       "Minnesota          2020.0          2.0          47.0            1.0  22.3   \n",
       "New Orleans        2020.0          2.0          48.0            1.0  25.5   \n",
       "New York           2020.0          2.0          47.0            1.0  22.9   \n",
       "Oklahoma City      2020.0          2.0          46.0            1.0  23.5   \n",
       "Orlando            2020.0          2.0          50.0            1.0  24.6   \n",
       "Philadelphia       2020.0          2.0          58.0            1.0  29.9   \n",
       "Phoenix            2020.0          2.0          58.0            1.0  25.1   \n",
       "Portland           2020.0          2.0          46.0            1.0  29.7   \n",
       "Sacramento         2020.0          2.0          55.0            1.0  23.5   \n",
       "San Antonio        2020.0          2.0          55.0            1.0  20.3   \n",
       "Toronto            2020.0          2.0          59.0            1.0  20.1   \n",
       "Utah               2020.0          2.0          58.0            1.0  24.8   \n",
       "Washington         2020.0          2.0          53.0            1.0  32.1   \n",
       "\n",
       "                REB   AST  FROM_YEAR  TO_YEAR  \n",
       "TEAM_CITY                                      \n",
       "Atlanta        14.3   9.3       2020     2020  \n",
       "Boston          8.3   5.8       2020     2020  \n",
       "Brooklyn        7.9  11.0       2020     2020  \n",
       "Charlotte       7.5   6.4       2020     2020  \n",
       "Chicago         7.9   5.2       2020     2020  \n",
       "Cleveland      13.5   5.9       2020     2020  \n",
       "Dallas          8.5   9.1       2020     2020  \n",
       "Denver         11.1   8.6       2020     2020  \n",
       "Detroit         9.1   4.8       2020     2020  \n",
       "Golden State    7.6   8.4       2020     2020  \n",
       "Houston        10.2   9.0       2020     2020  \n",
       "Indiana        11.2   6.4       2020     2020  \n",
       "LA              6.9   5.4       2020     2020  \n",
       "Los Angeles     8.4   7.8       2019     2020  \n",
       "Memphis        11.6   7.8       2020     2020  \n",
       "Miami           9.5   8.0       2020     2020  \n",
       "Milwaukee      11.6   6.1       2020     2020  \n",
       "Minnesota      10.7   6.5       2020     2020  \n",
       "New Orleans     9.2   5.2       2020     2020  \n",
       "New York       11.0   5.7       2020     2020  \n",
       "Oklahoma City   7.5   6.2       2020     2020  \n",
       "Orlando        11.7   5.4       2020     2020  \n",
       "Philadelphia   11.5   7.6       2020     2020  \n",
       "Phoenix        11.2   8.8       2020     2020  \n",
       "Portland       11.8   8.0       2020     2020  \n",
       "Sacramento      8.5   7.6       2020     2020  \n",
       "San Antonio     7.3   7.3       2020     2020  \n",
       "Toronto         9.0   7.2       2020     2020  \n",
       "Utah           13.1   5.6       2020     2020  \n",
       "Washington      9.4   9.8       2020     2020  "
      ],
      "text/html": "<div>\n<style scoped>\n    .dataframe tbody tr th:only-of-type {\n        vertical-align: middle;\n    }\n\n    .dataframe tbody tr th {\n        vertical-align: top;\n    }\n\n    .dataframe thead th {\n        text-align: right;\n    }\n</style>\n<table border=\"1\" class=\"dataframe\">\n  <thead>\n    <tr style=\"text-align: right;\">\n      <th></th>\n      <th>DRAFT_YEAR</th>\n      <th>DRAFT_ROUND</th>\n      <th>DRAFT_NUMBER</th>\n      <th>ROSTER_STATUS</th>\n      <th>PTS</th>\n      <th>REB</th>\n      <th>AST</th>\n      <th>FROM_YEAR</th>\n      <th>TO_YEAR</th>\n    </tr>\n    <tr>\n      <th>TEAM_CITY</th>\n      <th></th>\n      <th></th>\n      <th></th>\n      <th></th>\n      <th></th>\n      <th></th>\n      <th></th>\n      <th></th>\n      <th></th>\n    </tr>\n  </thead>\n  <tbody>\n    <tr>\n      <th>Atlanta</th>\n      <td>2020.0</td>\n      <td>2.0</td>\n      <td>50.0</td>\n      <td>1.0</td>\n      <td>26.7</td>\n      <td>14.3</td>\n      <td>9.3</td>\n      <td>2020</td>\n      <td>2020</td>\n    </tr>\n    <tr>\n      <th>Boston</th>\n      <td>2020.0</td>\n      <td>2.0</td>\n      <td>51.0</td>\n      <td>1.0</td>\n      <td>25.1</td>\n      <td>8.3</td>\n      <td>5.8</td>\n      <td>2020</td>\n      <td>2020</td>\n    </tr>\n    <tr>\n      <th>Brooklyn</th>\n      <td>2020.0</td>\n      <td>2.0</td>\n      <td>57.0</td>\n      <td>1.0</td>\n      <td>29.0</td>\n      <td>7.9</td>\n      <td>11.0</td>\n      <td>2020</td>\n      <td>2020</td>\n    </tr>\n    <tr>\n      <th>Charlotte</th>\n      <td>2020.0</td>\n      <td>2.0</td>\n      <td>56.0</td>\n      <td>1.0</td>\n      <td>21.0</td>\n      <td>7.5</td>\n      <td>6.4</td>\n      <td>2020</td>\n      <td>2020</td>\n    </tr>\n    <tr>\n      <th>Chicago</th>\n      <td>2020.0</td>\n      <td>2.0</td>\n      <td>38.0</td>\n      <td>1.0</td>\n      <td>28.5</td>\n      <td>7.9</td>\n      <td>5.2</td>\n      <td>2020</td>\n      <td>2020</td>\n    </tr>\n    <tr>\n      <th>Cleveland</th>\n      <td>2020.0</td>\n      <td>2.0</td>\n      <td>44.0</td>\n      <td>1.0</td>\n      <td>23.9</td>\n      <td>13.5</td>\n      <td>5.9</td>\n      <td>2020</td>\n      <td>2020</td>\n    </tr>\n    <tr>\n      <th>Dallas</th>\n      <td>2020.0</td>\n      <td>2.0</td>\n      <td>45.0</td>\n      <td>1.0</td>\n      <td>28.2</td>\n      <td>8.5</td>\n      <td>9.1</td>\n      <td>2020</td>\n      <td>2020</td>\n    </tr>\n    <tr>\n      <th>Denver</th>\n      <td>2020.0</td>\n      <td>2.0</td>\n      <td>51.0</td>\n      <td>1.0</td>\n      <td>27.1</td>\n      <td>11.1</td>\n      <td>8.6</td>\n      <td>2020</td>\n      <td>2020</td>\n    </tr>\n    <tr>\n      <th>Detroit</th>\n      <td>2020.0</td>\n      <td>2.0</td>\n      <td>57.0</td>\n      <td>1.0</td>\n      <td>23.6</td>\n      <td>9.1</td>\n      <td>4.8</td>\n      <td>2020</td>\n      <td>2020</td>\n    </tr>\n    <tr>\n      <th>Golden State</th>\n      <td>2020.0</td>\n      <td>2.0</td>\n      <td>48.0</td>\n      <td>1.0</td>\n      <td>29.3</td>\n      <td>7.6</td>\n      <td>8.4</td>\n      <td>2020</td>\n      <td>2020</td>\n    </tr>\n    <tr>\n      <th>Houston</th>\n      <td>2020.0</td>\n      <td>2.0</td>\n      <td>52.0</td>\n      <td>1.0</td>\n      <td>22.0</td>\n      <td>10.2</td>\n      <td>9.0</td>\n      <td>2020</td>\n      <td>2020</td>\n    </tr>\n    <tr>\n      <th>Indiana</th>\n      <td>2020.0</td>\n      <td>2.0</td>\n      <td>54.0</td>\n      <td>1.0</td>\n      <td>21.5</td>\n      <td>11.2</td>\n      <td>6.4</td>\n      <td>2020</td>\n      <td>2020</td>\n    </tr>\n    <tr>\n      <th>LA</th>\n      <td>2020.0</td>\n      <td>2.0</td>\n      <td>48.0</td>\n      <td>1.0</td>\n      <td>26.7</td>\n      <td>6.9</td>\n      <td>5.4</td>\n      <td>2020</td>\n      <td>2020</td>\n    </tr>\n    <tr>\n      <th>Los Angeles</th>\n      <td>2019.0</td>\n      <td>2.0</td>\n      <td>60.0</td>\n      <td>1.0</td>\n      <td>25.6</td>\n      <td>8.4</td>\n      <td>7.8</td>\n      <td>2019</td>\n      <td>2020</td>\n    </tr>\n    <tr>\n      <th>Memphis</th>\n      <td>2020.0</td>\n      <td>2.0</td>\n      <td>46.0</td>\n      <td>1.0</td>\n      <td>19.7</td>\n      <td>11.6</td>\n      <td>7.8</td>\n      <td>2020</td>\n      <td>2020</td>\n    </tr>\n    <tr>\n      <th>Miami</th>\n      <td>2020.0</td>\n      <td>2.0</td>\n      <td>45.0</td>\n      <td>1.0</td>\n      <td>21.1</td>\n      <td>9.5</td>\n      <td>8.0</td>\n      <td>2020</td>\n      <td>2020</td>\n    </tr>\n    <tr>\n      <th>Milwaukee</th>\n      <td>2020.0</td>\n      <td>2.0</td>\n      <td>60.0</td>\n      <td>1.0</td>\n      <td>29.0</td>\n      <td>11.6</td>\n      <td>6.1</td>\n      <td>2020</td>\n      <td>2020</td>\n    </tr>\n    <tr>\n      <th>Minnesota</th>\n      <td>2020.0</td>\n      <td>2.0</td>\n      <td>47.0</td>\n      <td>1.0</td>\n      <td>22.3</td>\n      <td>10.7</td>\n      <td>6.5</td>\n      <td>2020</td>\n      <td>2020</td>\n    </tr>\n    <tr>\n      <th>New Orleans</th>\n      <td>2020.0</td>\n      <td>2.0</td>\n      <td>48.0</td>\n      <td>1.0</td>\n      <td>25.5</td>\n      <td>9.2</td>\n      <td>5.2</td>\n      <td>2020</td>\n      <td>2020</td>\n    </tr>\n    <tr>\n      <th>New York</th>\n      <td>2020.0</td>\n      <td>2.0</td>\n      <td>47.0</td>\n      <td>1.0</td>\n      <td>22.9</td>\n      <td>11.0</td>\n      <td>5.7</td>\n      <td>2020</td>\n      <td>2020</td>\n    </tr>\n    <tr>\n      <th>Oklahoma City</th>\n      <td>2020.0</td>\n      <td>2.0</td>\n      <td>46.0</td>\n      <td>1.0</td>\n      <td>23.5</td>\n      <td>7.5</td>\n      <td>6.2</td>\n      <td>2020</td>\n      <td>2020</td>\n    </tr>\n    <tr>\n      <th>Orlando</th>\n      <td>2020.0</td>\n      <td>2.0</td>\n      <td>50.0</td>\n      <td>1.0</td>\n      <td>24.6</td>\n      <td>11.7</td>\n      <td>5.4</td>\n      <td>2020</td>\n      <td>2020</td>\n    </tr>\n    <tr>\n      <th>Philadelphia</th>\n      <td>2020.0</td>\n      <td>2.0</td>\n      <td>58.0</td>\n      <td>1.0</td>\n      <td>29.9</td>\n      <td>11.5</td>\n      <td>7.6</td>\n      <td>2020</td>\n      <td>2020</td>\n    </tr>\n    <tr>\n      <th>Phoenix</th>\n      <td>2020.0</td>\n      <td>2.0</td>\n      <td>58.0</td>\n      <td>1.0</td>\n      <td>25.1</td>\n      <td>11.2</td>\n      <td>8.8</td>\n      <td>2020</td>\n      <td>2020</td>\n    </tr>\n    <tr>\n      <th>Portland</th>\n      <td>2020.0</td>\n      <td>2.0</td>\n      <td>46.0</td>\n      <td>1.0</td>\n      <td>29.7</td>\n      <td>11.8</td>\n      <td>8.0</td>\n      <td>2020</td>\n      <td>2020</td>\n    </tr>\n    <tr>\n      <th>Sacramento</th>\n      <td>2020.0</td>\n      <td>2.0</td>\n      <td>55.0</td>\n      <td>1.0</td>\n      <td>23.5</td>\n      <td>8.5</td>\n      <td>7.6</td>\n      <td>2020</td>\n      <td>2020</td>\n    </tr>\n    <tr>\n      <th>San Antonio</th>\n      <td>2020.0</td>\n      <td>2.0</td>\n      <td>55.0</td>\n      <td>1.0</td>\n      <td>20.3</td>\n      <td>7.3</td>\n      <td>7.3</td>\n      <td>2020</td>\n      <td>2020</td>\n    </tr>\n    <tr>\n      <th>Toronto</th>\n      <td>2020.0</td>\n      <td>2.0</td>\n      <td>59.0</td>\n      <td>1.0</td>\n      <td>20.1</td>\n      <td>9.0</td>\n      <td>7.2</td>\n      <td>2020</td>\n      <td>2020</td>\n    </tr>\n    <tr>\n      <th>Utah</th>\n      <td>2020.0</td>\n      <td>2.0</td>\n      <td>58.0</td>\n      <td>1.0</td>\n      <td>24.8</td>\n      <td>13.1</td>\n      <td>5.6</td>\n      <td>2020</td>\n      <td>2020</td>\n    </tr>\n    <tr>\n      <th>Washington</th>\n      <td>2020.0</td>\n      <td>2.0</td>\n      <td>53.0</td>\n      <td>1.0</td>\n      <td>32.1</td>\n      <td>9.4</td>\n      <td>9.8</td>\n      <td>2020</td>\n      <td>2020</td>\n    </tr>\n  </tbody>\n</table>\n</div>"
     },
     "metadata": {},
     "execution_count": 10
    }
   ],
   "source": [
    "df.groupby('TEAM_CITY').max('PTS')"
   ]
  },
  {
   "cell_type": "code",
   "execution_count": 11,
   "metadata": {},
   "outputs": [
    {
     "output_type": "execute_result",
     "data": {
      "text/plain": [
       "           price\n",
       "category        \n",
       "fruit        125\n",
       "vegetable    500"
      ],
      "text/html": "<div>\n<style scoped>\n    .dataframe tbody tr th:only-of-type {\n        vertical-align: middle;\n    }\n\n    .dataframe tbody tr th {\n        vertical-align: top;\n    }\n\n    .dataframe thead th {\n        text-align: right;\n    }\n</style>\n<table border=\"1\" class=\"dataframe\">\n  <thead>\n    <tr style=\"text-align: right;\">\n      <th></th>\n      <th>price</th>\n    </tr>\n    <tr>\n      <th>category</th>\n      <th></th>\n    </tr>\n  </thead>\n  <tbody>\n    <tr>\n      <th>fruit</th>\n      <td>125</td>\n    </tr>\n    <tr>\n      <th>vegetable</th>\n      <td>500</td>\n    </tr>\n  </tbody>\n</table>\n</div>"
     },
     "metadata": {},
     "execution_count": 11
    }
   ],
   "source": [
    "inventory = [\n",
    "    ['banana', 'fruit', 25], \n",
    "    ['orange', 'fruit', 125], \n",
    "    ['broccoli', 'vegetable', 200], \n",
    "    ['apple', 'fruit', 50], \n",
    "    ['asparagus', 'vegetable', 500] \n",
    "]\n",
    "columns = ['name', 'category', 'price']\n",
    "df = pd.DataFrame(inventory, columns=columns)\n",
    "df.groupby('category').max('price') "
   ]
  },
  {
   "cell_type": "code",
   "execution_count": 15,
   "metadata": {},
   "outputs": [
    {
     "output_type": "stream",
     "name": "stdout",
     "text": [
      "None\n"
     ]
    }
   ],
   "source": [
    "print(re.search('\\w+(\\d[A-Za-z]{2})',\"I ate 200 kiwis on May 8th, 1999\"))"
   ]
  },
  {
   "cell_type": "code",
   "execution_count": 39,
   "metadata": {},
   "outputs": [],
   "source": [
    "a = np.array([\n",
    "  [2, 4, 6],\n",
    "  [3, 5, 7]\n",
    "])"
   ]
  },
  {
   "cell_type": "code",
   "execution_count": 42,
   "metadata": {},
   "outputs": [
    {
     "output_type": "execute_result",
     "data": {
      "text/plain": [
       "(2, 3)"
      ]
     },
     "metadata": {},
     "execution_count": 42
    }
   ],
   "source": [
    "a.shape"
   ]
  },
  {
   "cell_type": "code",
   "execution_count": 34,
   "metadata": {},
   "outputs": [
    {
     "output_type": "execute_result",
     "data": {
      "text/plain": [
       "   a    c\n",
       "0  1  1.0\n",
       "1  2  NaN\n",
       "2  3  3.0"
      ],
      "text/html": "<div>\n<style scoped>\n    .dataframe tbody tr th:only-of-type {\n        vertical-align: middle;\n    }\n\n    .dataframe tbody tr th {\n        vertical-align: top;\n    }\n\n    .dataframe thead th {\n        text-align: right;\n    }\n</style>\n<table border=\"1\" class=\"dataframe\">\n  <thead>\n    <tr style=\"text-align: right;\">\n      <th></th>\n      <th>a</th>\n      <th>c</th>\n    </tr>\n  </thead>\n  <tbody>\n    <tr>\n      <th>0</th>\n      <td>1</td>\n      <td>1.0</td>\n    </tr>\n    <tr>\n      <th>1</th>\n      <td>2</td>\n      <td>NaN</td>\n    </tr>\n    <tr>\n      <th>2</th>\n      <td>3</td>\n      <td>3.0</td>\n    </tr>\n  </tbody>\n</table>\n</div>"
     },
     "metadata": {},
     "execution_count": 34
    }
   ],
   "source": [
    "df"
   ]
  },
  {
   "cell_type": "code",
   "execution_count": 77,
   "metadata": {},
   "outputs": [
    {
     "output_type": "execute_result",
     "data": {
      "text/plain": [
       "    PLAYER_LAST_NAME PLAYER_FIRST_NAME  DRAFT_YEAR   REB\n",
       "20             Ayton           Deandre      2018.0  11.2\n",
       "420          Simmons               Ben      2016.0   7.9\n",
       "484       Williamson              Zion      2019.0   7.1\n",
       "129          Edwards           Anthony      2020.0   4.1\n",
       "151            Fultz          Markelle      2017.0   3.1"
      ],
      "text/html": "<div>\n<style scoped>\n    .dataframe tbody tr th:only-of-type {\n        vertical-align: middle;\n    }\n\n    .dataframe tbody tr th {\n        vertical-align: top;\n    }\n\n    .dataframe thead th {\n        text-align: right;\n    }\n</style>\n<table border=\"1\" class=\"dataframe\">\n  <thead>\n    <tr style=\"text-align: right;\">\n      <th></th>\n      <th>PLAYER_LAST_NAME</th>\n      <th>PLAYER_FIRST_NAME</th>\n      <th>DRAFT_YEAR</th>\n      <th>REB</th>\n    </tr>\n  </thead>\n  <tbody>\n    <tr>\n      <th>20</th>\n      <td>Ayton</td>\n      <td>Deandre</td>\n      <td>2018.0</td>\n      <td>11.2</td>\n    </tr>\n    <tr>\n      <th>420</th>\n      <td>Simmons</td>\n      <td>Ben</td>\n      <td>2016.0</td>\n      <td>7.9</td>\n    </tr>\n    <tr>\n      <th>484</th>\n      <td>Williamson</td>\n      <td>Zion</td>\n      <td>2019.0</td>\n      <td>7.1</td>\n    </tr>\n    <tr>\n      <th>129</th>\n      <td>Edwards</td>\n      <td>Anthony</td>\n      <td>2020.0</td>\n      <td>4.1</td>\n    </tr>\n    <tr>\n      <th>151</th>\n      <td>Fultz</td>\n      <td>Markelle</td>\n      <td>2017.0</td>\n      <td>3.1</td>\n    </tr>\n  </tbody>\n</table>\n</div>"
     },
     "metadata": {},
     "execution_count": 77
    }
   ],
   "source": [
    "onePick = df[df['DRAFT_NUMBER']<2]\n",
    "recentOnePick = onePick[onePick['FROM_YEAR']>2015]\n",
    "simple = recentOnePick[['PLAYER_LAST_NAME','PLAYER_FIRST_NAME','DRAFT_YEAR','REB']]\n",
    "simple.sort_values('REB',ascending = False)"
   ]
  },
  {
   "cell_type": "code",
   "execution_count": 98,
   "metadata": {},
   "outputs": [
    {
     "output_type": "stream",
     "name": "stdout",
     "text": [
      "               HEIGHT\nTEAM_NAME            \n76ers             NaN\nBucks             NaN\nBulls             NaN\nCavaliers         NaN\nCeltics           NaN\nClippers          NaN\nGrizzlies         NaN\nHawks             NaN\nHeat              NaN\nHornets           NaN\nJazz              NaN\nKings             NaN\nKnicks            NaN\nLakers            NaN\nMagic             NaN\nMavericks         NaN\nNets              NaN\nNuggets           NaN\nPacers            NaN\nPelicans          NaN\nPistons           NaN\nRaptors           NaN\nRockets           NaN\nSpurs             NaN\nSuns              NaN\nThunder           NaN\nTimberwolves      NaN\nTrail Blazers     NaN\nWarriors          NaN\nWizards           NaN\n"
     ]
    }
   ],
   "source": [
    "df['HEIGHT'] = pd.to_numeric(df['HEIGHT'],errors = \"coerce\")\n",
    "dfs = df[['TEAM_NAME','HEIGHT']]\n",
    "height = dfs.groupby('TEAM_NAME').min()\n",
    "#height.sort_values('HEIGHT',ascending = True).head(10)\n",
    "print(height)"
   ]
  },
  {
   "cell_type": "code",
   "execution_count": null,
   "metadata": {},
   "outputs": [],
   "source": []
  }
 ],
 "metadata": {
  "kernelspec": {
   "display_name": "Python 3",
   "language": "python",
   "name": "python3"
  },
  "language_info": {
   "codemirror_mode": {
    "name": "ipython",
    "version": 3
   },
   "file_extension": ".py",
   "mimetype": "text/x-python",
   "name": "python",
   "nbconvert_exporter": "python",
   "pygments_lexer": "ipython3",
   "version": "3.8.5-final"
  }
 },
 "nbformat": 4,
 "nbformat_minor": 4
}